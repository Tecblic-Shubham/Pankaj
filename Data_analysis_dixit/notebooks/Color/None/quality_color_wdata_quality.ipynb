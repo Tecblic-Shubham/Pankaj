{
 "cells": [
  {
   "cell_type": "code",
   "execution_count": 1,
   "metadata": {},
   "outputs": [],
   "source": [
    "import pandas as pd\n",
    "import numpy as np\n",
    "import matplotlib.pyplot as plt\n",
    "import warnings\n",
    "warnings.filterwarnings('ignore')\n",
    "from sklearn.model_selection import train_test_split\n",
    "from sklearn.ensemble import RandomForestClassifier\n",
    "from sklearn.ensemble import GradientBoostingClassifier\n",
    "from sklearn.model_selection import GridSearchCV\n",
    "from sklearn.model_selection import RandomizedSearchCV\n",
    "from sklearn.metrics import roc_auc_score, confusion_matrix, accuracy_score, classification_report\n",
    "import pickle\n",
    "import os\n",
    "import glob\n",
    "import seaborn as sns\n",
    "import lightgbm as lgb\n",
    "from sklearn.tree import DecisionTreeClassifier\n",
    "from sklearn.naive_bayes import CategoricalNB\n",
    "from sklearn import preprocessing\n",
    "from sklearn.utils import class_weight\n",
    "from sklearn.model_selection import cross_val_score,StratifiedKFold\n",
    "import xgboost as xgb"
   ]
  },
  {
   "cell_type": "code",
   "execution_count": 2,
   "metadata": {},
   "outputs": [
    {
     "name": "stdout",
     "output_type": "stream",
     "text": [
      "Requirement already satisfied: xgboost in /home/pankaj_v/anaconda3/lib/python3.9/site-packages (1.6.1)\n",
      "Requirement already satisfied: scipy in /home/pankaj_v/anaconda3/lib/python3.9/site-packages (from xgboost) (1.7.3)\n",
      "Requirement already satisfied: numpy in /home/pankaj_v/anaconda3/lib/python3.9/site-packages (from xgboost) (1.21.5)\n",
      "Note: you may need to restart the kernel to use updated packages.\n"
     ]
    }
   ],
   "source": [
    "pip install xgboost"
   ]
  },
  {
   "cell_type": "code",
   "execution_count": 3,
   "metadata": {},
   "outputs": [
    {
     "name": "stdout",
     "output_type": "stream",
     "text": [
      "Requirement already satisfied: imblearn in /home/pankaj_v/anaconda3/lib/python3.9/site-packages (0.0)\n",
      "Requirement already satisfied: imbalanced-learn in /home/pankaj_v/anaconda3/lib/python3.9/site-packages (from imblearn) (0.9.1)\n",
      "Requirement already satisfied: scikit-learn>=1.1.0 in /home/pankaj_v/anaconda3/lib/python3.9/site-packages (from imbalanced-learn->imblearn) (1.1.1)\n",
      "Requirement already satisfied: numpy>=1.17.3 in /home/pankaj_v/anaconda3/lib/python3.9/site-packages (from imbalanced-learn->imblearn) (1.21.5)\n",
      "Requirement already satisfied: joblib>=1.0.0 in /home/pankaj_v/anaconda3/lib/python3.9/site-packages (from imbalanced-learn->imblearn) (1.1.0)\n",
      "Requirement already satisfied: scipy>=1.3.2 in /home/pankaj_v/anaconda3/lib/python3.9/site-packages (from imbalanced-learn->imblearn) (1.7.3)\n",
      "Requirement already satisfied: threadpoolctl>=2.0.0 in /home/pankaj_v/anaconda3/lib/python3.9/site-packages (from imbalanced-learn->imblearn) (2.2.0)\n",
      "Note: you may need to restart the kernel to use updated packages.\n"
     ]
    }
   ],
   "source": [
    "pip install imblearn"
   ]
  },
  {
   "cell_type": "code",
   "execution_count": 4,
   "metadata": {},
   "outputs": [
    {
     "name": "stdout",
     "output_type": "stream",
     "text": [
      "Requirement already satisfied: lightgbm in /home/pankaj_v/anaconda3/lib/python3.9/site-packages (3.3.2)\n",
      "Requirement already satisfied: numpy in /home/pankaj_v/anaconda3/lib/python3.9/site-packages (from lightgbm) (1.21.5)\n",
      "Requirement already satisfied: scikit-learn!=0.22.0 in /home/pankaj_v/anaconda3/lib/python3.9/site-packages (from lightgbm) (1.1.1)\n",
      "Requirement already satisfied: wheel in /home/pankaj_v/anaconda3/lib/python3.9/site-packages (from lightgbm) (0.37.1)\n",
      "Requirement already satisfied: scipy in /home/pankaj_v/anaconda3/lib/python3.9/site-packages (from lightgbm) (1.7.3)\n",
      "Requirement already satisfied: joblib>=1.0.0 in /home/pankaj_v/anaconda3/lib/python3.9/site-packages (from scikit-learn!=0.22.0->lightgbm) (1.1.0)\n",
      "Requirement already satisfied: threadpoolctl>=2.0.0 in /home/pankaj_v/anaconda3/lib/python3.9/site-packages (from scikit-learn!=0.22.0->lightgbm) (2.2.0)\n",
      "Note: you may need to restart the kernel to use updated packages.\n"
     ]
    }
   ],
   "source": [
    "pip install lightgbm"
   ]
  },
  {
   "cell_type": "code",
   "execution_count": 5,
   "metadata": {},
   "outputs": [
    {
     "name": "stdout",
     "output_type": "stream",
     "text": [
      "Requirement already satisfied: openpyxl in /home/pankaj_v/anaconda3/lib/python3.9/site-packages (3.0.9)\n",
      "Requirement already satisfied: et-xmlfile in /home/pankaj_v/anaconda3/lib/python3.9/site-packages (from openpyxl) (1.1.0)\n",
      "Note: you may need to restart the kernel to use updated packages.\n"
     ]
    }
   ],
   "source": [
    "pip install openpyxl"
   ]
  },
  {
   "cell_type": "code",
   "execution_count": 6,
   "metadata": {},
   "outputs": [
    {
     "name": "stdout",
     "output_type": "stream",
     "text": [
      "csv (78, 1060)\n",
      "csv (191, 1060)\n",
      "csv (132, 1059)\n",
      "csv (224, 1060)\n",
      "csv (42, 1060)\n",
      "csv (142, 1060)\n",
      "csv (186, 1060)\n",
      "csv (80, 1060)\n",
      "csv (348, 1060)\n",
      "csv (102, 1060)\n",
      "csv (198, 1060)\n",
      "csv (222, 1060)\n",
      "csv (110, 1060)\n",
      "xlx (680, 1059)\n",
      "csv (250, 1060)\n",
      "xlx (224, 1059)\n",
      "csv (92, 1060)\n",
      "csv (80, 1060)\n",
      "csv (322, 1060)\n"
     ]
    }
   ],
   "source": [
    "i = 1\n",
    "frames = []\n",
    "for name in os.listdir('/home/pankaj_v/Documents/Data_analysis_dixit/dATA/client_data'):\n",
    "    extents = os.path.splitext('/home/pankaj_v/Documents/Data_analysis_dixit/dATA/client_data'+'/{}'.format(name))[1].lower()\n",
    "    if extents == '.csv':\n",
    "        df= pd.read_csv('/home/pankaj_v/Documents/Data_analysis_dixit/dATA/client_data/{}'.format(name))\n",
    "        frames.append(df)\n",
    "        print('csv',df.shape)\n",
    "    elif extents == '.xlsx':\n",
    "        df= pd.read_excel('/home/pankaj_v/Documents/Data_analysis_dixit/dATA/client_data/{}'.format(name))\n",
    "        df.columns = df.columns.astype(str)\n",
    "        frames.append(df)\n",
    "        print('xlx',df.shape)\n",
    "\n",
    "result =  pd.concat(frames, axis=0, ignore_index= True)"
   ]
  },
  {
   "cell_type": "code",
   "execution_count": 7,
   "metadata": {},
   "outputs": [
    {
     "data": {
      "text/html": [
       "<div>\n",
       "<style scoped>\n",
       "    .dataframe tbody tr th:only-of-type {\n",
       "        vertical-align: middle;\n",
       "    }\n",
       "\n",
       "    .dataframe tbody tr th {\n",
       "        vertical-align: top;\n",
       "    }\n",
       "\n",
       "    .dataframe thead th {\n",
       "        text-align: right;\n",
       "    }\n",
       "</style>\n",
       "<table border=\"1\" class=\"dataframe\">\n",
       "  <thead>\n",
       "    <tr style=\"text-align: right;\">\n",
       "      <th></th>\n",
       "      <th></th>\n",
       "      <th>L*</th>\n",
       "      <th>a*</th>\n",
       "      <th>b*</th>\n",
       "      <th>X</th>\n",
       "      <th>Y</th>\n",
       "      <th>Z</th>\n",
       "      <th>Dominant Wavelenght</th>\n",
       "      <th>Whiteness</th>\n",
       "      <th>Purity</th>\n",
       "      <th>...</th>\n",
       "      <th>979.335</th>\n",
       "      <th>980.054</th>\n",
       "      <th>980.772</th>\n",
       "      <th>981.491</th>\n",
       "      <th>982.209</th>\n",
       "      <th>982.928</th>\n",
       "      <th>983.646</th>\n",
       "      <th>984.364</th>\n",
       "      <th>985.082</th>\n",
       "      <th>Unnamed: 1059</th>\n",
       "    </tr>\n",
       "  </thead>\n",
       "  <tbody>\n",
       "    <tr>\n",
       "      <th>0</th>\n",
       "      <td>W_Calibration</td>\n",
       "      <td>100.000</td>\n",
       "      <td>0.000000</td>\n",
       "      <td>0.000000</td>\n",
       "      <td>95.0422</td>\n",
       "      <td>100.000</td>\n",
       "      <td>108.8760</td>\n",
       "      <td>565.016</td>\n",
       "      <td>99.9909</td>\n",
       "      <td>0.000017</td>\n",
       "      <td>...</td>\n",
       "      <td>100.0000</td>\n",
       "      <td>100.0000</td>\n",
       "      <td>100.000</td>\n",
       "      <td>100.0000</td>\n",
       "      <td>100.000</td>\n",
       "      <td>100.00000</td>\n",
       "      <td>100.0000</td>\n",
       "      <td>100.0000</td>\n",
       "      <td>100.0000</td>\n",
       "      <td>NaN</td>\n",
       "    </tr>\n",
       "    <tr>\n",
       "      <th>1</th>\n",
       "      <td>F_Calibration</td>\n",
       "      <td>100.000</td>\n",
       "      <td>0.000000</td>\n",
       "      <td>0.000000</td>\n",
       "      <td>108.1040</td>\n",
       "      <td>100.000</td>\n",
       "      <td>39.2965</td>\n",
       "      <td>491.070</td>\n",
       "      <td>99.9909</td>\n",
       "      <td>0.000170</td>\n",
       "      <td>...</td>\n",
       "      <td>100.0000</td>\n",
       "      <td>100.0000</td>\n",
       "      <td>100.000</td>\n",
       "      <td>100.0000</td>\n",
       "      <td>100.000</td>\n",
       "      <td>100.00000</td>\n",
       "      <td>100.0000</td>\n",
       "      <td>100.0000</td>\n",
       "      <td>100.0000</td>\n",
       "      <td>NaN</td>\n",
       "    </tr>\n",
       "    <tr>\n",
       "      <th>2</th>\n",
       "      <td>W_VK12 | 2_J_None_0.902_SI1</td>\n",
       "      <td>101.352</td>\n",
       "      <td>-1.569150</td>\n",
       "      <td>4.040870</td>\n",
       "      <td>97.4907</td>\n",
       "      <td>103.537</td>\n",
       "      <td>106.1060</td>\n",
       "      <td>570.000</td>\n",
       "      <td>86.0505</td>\n",
       "      <td>0.035779</td>\n",
       "      <td>...</td>\n",
       "      <td>106.0810</td>\n",
       "      <td>106.2960</td>\n",
       "      <td>106.206</td>\n",
       "      <td>106.8210</td>\n",
       "      <td>106.483</td>\n",
       "      <td>91.47060</td>\n",
       "      <td>120.7140</td>\n",
       "      <td>27.2222</td>\n",
       "      <td>148.3330</td>\n",
       "      <td>NaN</td>\n",
       "    </tr>\n",
       "    <tr>\n",
       "      <th>3</th>\n",
       "      <td>F_VK12 | 2_J_None_0.902_SI1</td>\n",
       "      <td>100.595</td>\n",
       "      <td>3.739330</td>\n",
       "      <td>-10.586200</td>\n",
       "      <td>112.2450</td>\n",
       "      <td>101.547</td>\n",
       "      <td>46.5464</td>\n",
       "      <td>575.670</td>\n",
       "      <td>140.8850</td>\n",
       "      <td>0.041247</td>\n",
       "      <td>...</td>\n",
       "      <td>62.4801</td>\n",
       "      <td>62.8836</td>\n",
       "      <td>62.791</td>\n",
       "      <td>62.8042</td>\n",
       "      <td>62.124</td>\n",
       "      <td>51.55710</td>\n",
       "      <td>38.7013</td>\n",
       "      <td>56.8270</td>\n",
       "      <td>-143.2990</td>\n",
       "      <td>NaN</td>\n",
       "    </tr>\n",
       "    <tr>\n",
       "      <th>4</th>\n",
       "      <td>W_3472A2 | 126_D_None_0.702_VS1</td>\n",
       "      <td>100.909</td>\n",
       "      <td>-0.104228</td>\n",
       "      <td>-0.133574</td>\n",
       "      <td>97.2349</td>\n",
       "      <td>102.371</td>\n",
       "      <td>111.6780</td>\n",
       "      <td>485.666</td>\n",
       "      <td>102.9360</td>\n",
       "      <td>0.001434</td>\n",
       "      <td>...</td>\n",
       "      <td>105.5490</td>\n",
       "      <td>105.5300</td>\n",
       "      <td>105.152</td>\n",
       "      <td>105.4080</td>\n",
       "      <td>105.341</td>\n",
       "      <td>9.87395</td>\n",
       "      <td>176.0200</td>\n",
       "      <td>70.2381</td>\n",
       "      <td>10.7143</td>\n",
       "      <td>NaN</td>\n",
       "    </tr>\n",
       "  </tbody>\n",
       "</table>\n",
       "<p>5 rows × 1060 columns</p>\n",
       "</div>"
      ],
      "text/plain": [
       "                                         L*        a*         b*         X  \\\n",
       "0                    W_Calibration  100.000  0.000000   0.000000   95.0422   \n",
       "1                    F_Calibration  100.000  0.000000   0.000000  108.1040   \n",
       "2      W_VK12 | 2_J_None_0.902_SI1  101.352 -1.569150   4.040870   97.4907   \n",
       "3      F_VK12 | 2_J_None_0.902_SI1  100.595  3.739330 -10.586200  112.2450   \n",
       "4  W_3472A2 | 126_D_None_0.702_VS1  100.909 -0.104228  -0.133574   97.2349   \n",
       "\n",
       "         Y         Z  Dominant Wavelenght  Whiteness    Purity  ...   979.335  \\\n",
       "0  100.000  108.8760              565.016    99.9909  0.000017  ...  100.0000   \n",
       "1  100.000   39.2965              491.070    99.9909  0.000170  ...  100.0000   \n",
       "2  103.537  106.1060              570.000    86.0505  0.035779  ...  106.0810   \n",
       "3  101.547   46.5464              575.670   140.8850  0.041247  ...   62.4801   \n",
       "4  102.371  111.6780              485.666   102.9360  0.001434  ...  105.5490   \n",
       "\n",
       "    980.054  980.772   981.491  982.209    982.928   983.646   984.364  \\\n",
       "0  100.0000  100.000  100.0000  100.000  100.00000  100.0000  100.0000   \n",
       "1  100.0000  100.000  100.0000  100.000  100.00000  100.0000  100.0000   \n",
       "2  106.2960  106.206  106.8210  106.483   91.47060  120.7140   27.2222   \n",
       "3   62.8836   62.791   62.8042   62.124   51.55710   38.7013   56.8270   \n",
       "4  105.5300  105.152  105.4080  105.341    9.87395  176.0200   70.2381   \n",
       "\n",
       "    985.082  Unnamed: 1059  \n",
       "0  100.0000            NaN  \n",
       "1  100.0000            NaN  \n",
       "2  148.3330            NaN  \n",
       "3 -143.2990            NaN  \n",
       "4   10.7143            NaN  \n",
       "\n",
       "[5 rows x 1060 columns]"
      ]
     },
     "execution_count": 7,
     "metadata": {},
     "output_type": "execute_result"
    }
   ],
   "source": [
    "result.head()"
   ]
  },
  {
   "cell_type": "code",
   "execution_count": 8,
   "metadata": {},
   "outputs": [],
   "source": [
    "result.rename(columns = {' ': 'Output'}, inplace=True)"
   ]
  },
  {
   "cell_type": "code",
   "execution_count": 9,
   "metadata": {},
   "outputs": [
    {
     "data": {
      "text/plain": [
       "(3703, 1060)"
      ]
     },
     "execution_count": 9,
     "metadata": {},
     "output_type": "execute_result"
    }
   ],
   "source": [
    "result.shape"
   ]
  },
  {
   "cell_type": "code",
   "execution_count": 10,
   "metadata": {},
   "outputs": [
    {
     "data": {
      "text/plain": [
       "Index(['356.692', '357.472', '358.252', '359.031', '359.811', '360.59',\n",
       "       '361.37', '362.149', '362.928', '363.707', '364.486', '365.266',\n",
       "       '366.044', '366.823', '367.602', '368.381', '369.16', '369.938',\n",
       "       '370.717', '371.496', '372.274', '373.052', '373.831', '374.609',\n",
       "       '375.387', '376.165', '376.943', '377.721', '378.499', '379.277',\n",
       "       '380.055', '380.833', '381.61', '382.388', '383.165', '383.943',\n",
       "       '384.72', '385.498', '386.275', '387.052', '387.829', '388.606',\n",
       "       '389.383', '390.16', '390.937', '391.714', '392.49', '393.267',\n",
       "       '394.044', '394.82', '395.596', '396.373', '397.149', '397.925',\n",
       "       '398.702', '399.478', '400.254', '401.03', '401.806', '402.581',\n",
       "       '403.357', '404.133', '404.908', '405.684', '406.459', '407.235',\n",
       "       '408.01', '408.786', '409.561', '410.336', '411.111', '411.886',\n",
       "       '412.661', '413.436', '414.211', '414.985', '415.76', '416.535',\n",
       "       '417.309', '418.084', '418.858', '419.632', '420.407', '421.181',\n",
       "       '421.955', '422.729', '423.503', '424.277', '425.051', '425.825',\n",
       "       '426.598', '427.372', '428.146', '428.919'],\n",
       "      dtype='object')"
      ]
     },
     "execution_count": 10,
     "metadata": {},
     "output_type": "execute_result"
    }
   ],
   "source": [
    "result_2= result.loc[:,'356.692':'428.919']\n",
    "result_2.columns\n",
    "# df_without_calb_None['414.985':'537.294']"
   ]
  },
  {
   "cell_type": "code",
   "execution_count": 11,
   "metadata": {},
   "outputs": [],
   "source": [
    "result_3 =result.loc[:,'Output']\n",
    "result_2= result.loc[:,'363.707':'423.503']\n",
    "result_1= result.iloc[:,1:14]\n"
   ]
  },
  {
   "cell_type": "code",
   "execution_count": 12,
   "metadata": {},
   "outputs": [
    {
     "name": "stdout",
     "output_type": "stream",
     "text": [
      "(3703, 78) (3703,)\n"
     ]
    }
   ],
   "source": [
    "print(result_2.shape, result_3.shape)"
   ]
  },
  {
   "cell_type": "code",
   "execution_count": 13,
   "metadata": {},
   "outputs": [
    {
     "data": {
      "text/html": [
       "<div>\n",
       "<style scoped>\n",
       "    .dataframe tbody tr th:only-of-type {\n",
       "        vertical-align: middle;\n",
       "    }\n",
       "\n",
       "    .dataframe tbody tr th {\n",
       "        vertical-align: top;\n",
       "    }\n",
       "\n",
       "    .dataframe thead th {\n",
       "        text-align: right;\n",
       "    }\n",
       "</style>\n",
       "<table border=\"1\" class=\"dataframe\">\n",
       "  <thead>\n",
       "    <tr style=\"text-align: right;\">\n",
       "      <th></th>\n",
       "      <th>363.707</th>\n",
       "      <th>364.486</th>\n",
       "      <th>365.266</th>\n",
       "      <th>366.044</th>\n",
       "      <th>366.823</th>\n",
       "      <th>367.602</th>\n",
       "      <th>368.381</th>\n",
       "      <th>369.16</th>\n",
       "      <th>369.938</th>\n",
       "      <th>370.717</th>\n",
       "      <th>...</th>\n",
       "      <th>417.309</th>\n",
       "      <th>418.084</th>\n",
       "      <th>418.858</th>\n",
       "      <th>419.632</th>\n",
       "      <th>420.407</th>\n",
       "      <th>421.181</th>\n",
       "      <th>421.955</th>\n",
       "      <th>422.729</th>\n",
       "      <th>423.503</th>\n",
       "      <th>Output</th>\n",
       "    </tr>\n",
       "  </thead>\n",
       "  <tbody>\n",
       "    <tr>\n",
       "      <th>0</th>\n",
       "      <td>100.0000</td>\n",
       "      <td>100.0000</td>\n",
       "      <td>100.0000</td>\n",
       "      <td>100.0000</td>\n",
       "      <td>100.0000</td>\n",
       "      <td>100.0000</td>\n",
       "      <td>100.0000</td>\n",
       "      <td>100.0000</td>\n",
       "      <td>100.0000</td>\n",
       "      <td>100.0000</td>\n",
       "      <td>...</td>\n",
       "      <td>100.0000</td>\n",
       "      <td>100.0000</td>\n",
       "      <td>100.0000</td>\n",
       "      <td>100.0000</td>\n",
       "      <td>100.0000</td>\n",
       "      <td>100.0000</td>\n",
       "      <td>100.0000</td>\n",
       "      <td>100.0000</td>\n",
       "      <td>100.0000</td>\n",
       "      <td>W_Calibration</td>\n",
       "    </tr>\n",
       "    <tr>\n",
       "      <th>1</th>\n",
       "      <td>100.0000</td>\n",
       "      <td>100.0000</td>\n",
       "      <td>100.0000</td>\n",
       "      <td>100.0000</td>\n",
       "      <td>100.0000</td>\n",
       "      <td>100.0000</td>\n",
       "      <td>100.0000</td>\n",
       "      <td>100.0000</td>\n",
       "      <td>100.0000</td>\n",
       "      <td>100.0000</td>\n",
       "      <td>...</td>\n",
       "      <td>100.0000</td>\n",
       "      <td>100.0000</td>\n",
       "      <td>100.0000</td>\n",
       "      <td>100.0000</td>\n",
       "      <td>100.0000</td>\n",
       "      <td>100.0000</td>\n",
       "      <td>100.0000</td>\n",
       "      <td>100.0000</td>\n",
       "      <td>100.0000</td>\n",
       "      <td>F_Calibration</td>\n",
       "    </tr>\n",
       "    <tr>\n",
       "      <th>2</th>\n",
       "      <td>87.0480</td>\n",
       "      <td>86.5098</td>\n",
       "      <td>86.2694</td>\n",
       "      <td>86.1470</td>\n",
       "      <td>85.8456</td>\n",
       "      <td>85.3556</td>\n",
       "      <td>85.0497</td>\n",
       "      <td>84.6754</td>\n",
       "      <td>84.2657</td>\n",
       "      <td>83.8722</td>\n",
       "      <td>...</td>\n",
       "      <td>78.9688</td>\n",
       "      <td>81.7693</td>\n",
       "      <td>85.1405</td>\n",
       "      <td>87.9776</td>\n",
       "      <td>89.7679</td>\n",
       "      <td>90.9776</td>\n",
       "      <td>91.9985</td>\n",
       "      <td>92.7577</td>\n",
       "      <td>93.4443</td>\n",
       "      <td>W_VK12 | 2_J_None_0.902_SI1</td>\n",
       "    </tr>\n",
       "    <tr>\n",
       "      <th>3</th>\n",
       "      <td>62.4444</td>\n",
       "      <td>62.0639</td>\n",
       "      <td>61.7058</td>\n",
       "      <td>61.2996</td>\n",
       "      <td>60.9179</td>\n",
       "      <td>60.5205</td>\n",
       "      <td>60.1136</td>\n",
       "      <td>59.6632</td>\n",
       "      <td>59.1972</td>\n",
       "      <td>58.7010</td>\n",
       "      <td>...</td>\n",
       "      <td>83.3894</td>\n",
       "      <td>85.9996</td>\n",
       "      <td>88.8012</td>\n",
       "      <td>91.5548</td>\n",
       "      <td>93.5495</td>\n",
       "      <td>95.8632</td>\n",
       "      <td>98.2025</td>\n",
       "      <td>100.8680</td>\n",
       "      <td>103.6550</td>\n",
       "      <td>F_VK12 | 2_J_None_0.902_SI1</td>\n",
       "    </tr>\n",
       "    <tr>\n",
       "      <th>4</th>\n",
       "      <td>101.9310</td>\n",
       "      <td>101.7240</td>\n",
       "      <td>101.6950</td>\n",
       "      <td>101.6310</td>\n",
       "      <td>101.6350</td>\n",
       "      <td>101.1850</td>\n",
       "      <td>101.1380</td>\n",
       "      <td>100.9720</td>\n",
       "      <td>100.8440</td>\n",
       "      <td>100.6880</td>\n",
       "      <td>...</td>\n",
       "      <td>101.6930</td>\n",
       "      <td>101.8660</td>\n",
       "      <td>102.0850</td>\n",
       "      <td>102.2610</td>\n",
       "      <td>102.3590</td>\n",
       "      <td>102.4060</td>\n",
       "      <td>102.4350</td>\n",
       "      <td>102.4410</td>\n",
       "      <td>102.4610</td>\n",
       "      <td>W_3472A2 | 126_D_None_0.702_VS1</td>\n",
       "    </tr>\n",
       "  </tbody>\n",
       "</table>\n",
       "<p>5 rows × 79 columns</p>\n",
       "</div>"
      ],
      "text/plain": [
       "    363.707   364.486   365.266   366.044   366.823   367.602   368.381  \\\n",
       "0  100.0000  100.0000  100.0000  100.0000  100.0000  100.0000  100.0000   \n",
       "1  100.0000  100.0000  100.0000  100.0000  100.0000  100.0000  100.0000   \n",
       "2   87.0480   86.5098   86.2694   86.1470   85.8456   85.3556   85.0497   \n",
       "3   62.4444   62.0639   61.7058   61.2996   60.9179   60.5205   60.1136   \n",
       "4  101.9310  101.7240  101.6950  101.6310  101.6350  101.1850  101.1380   \n",
       "\n",
       "     369.16   369.938   370.717  ...   417.309   418.084   418.858   419.632  \\\n",
       "0  100.0000  100.0000  100.0000  ...  100.0000  100.0000  100.0000  100.0000   \n",
       "1  100.0000  100.0000  100.0000  ...  100.0000  100.0000  100.0000  100.0000   \n",
       "2   84.6754   84.2657   83.8722  ...   78.9688   81.7693   85.1405   87.9776   \n",
       "3   59.6632   59.1972   58.7010  ...   83.3894   85.9996   88.8012   91.5548   \n",
       "4  100.9720  100.8440  100.6880  ...  101.6930  101.8660  102.0850  102.2610   \n",
       "\n",
       "    420.407   421.181   421.955   422.729   423.503  \\\n",
       "0  100.0000  100.0000  100.0000  100.0000  100.0000   \n",
       "1  100.0000  100.0000  100.0000  100.0000  100.0000   \n",
       "2   89.7679   90.9776   91.9985   92.7577   93.4443   \n",
       "3   93.5495   95.8632   98.2025  100.8680  103.6550   \n",
       "4  102.3590  102.4060  102.4350  102.4410  102.4610   \n",
       "\n",
       "                            Output  \n",
       "0                    W_Calibration  \n",
       "1                    F_Calibration  \n",
       "2      W_VK12 | 2_J_None_0.902_SI1  \n",
       "3      F_VK12 | 2_J_None_0.902_SI1  \n",
       "4  W_3472A2 | 126_D_None_0.702_VS1  \n",
       "\n",
       "[5 rows x 79 columns]"
      ]
     },
     "execution_count": 13,
     "metadata": {},
     "output_type": "execute_result"
    }
   ],
   "source": [
    "df = pd.concat([result_2,result_3], axis=1)\n",
    "df.head()\n"
   ]
  },
  {
   "cell_type": "code",
   "execution_count": 14,
   "metadata": {},
   "outputs": [],
   "source": [
    "# df.to_excel('/home/pankaj_v/Documents/Data_analysis_dixit/dATA/Processed_data/whole_data.xlsx')"
   ]
  },
  {
   "cell_type": "code",
   "execution_count": 92,
   "metadata": {},
   "outputs": [],
   "source": [
    "df_without_calb = df[~df['Output'].str.contains(('Calibration|CALIBARTION|CALIBARATION'),case=False, regex=True, na = False)]\n",
    "df_without_calb.reset_index()\n",
    "df_without_calb['w/f']= df_without_calb['Output'].str.split('_').str[0]"
   ]
  },
  {
   "cell_type": "code",
   "execution_count": 16,
   "metadata": {},
   "outputs": [
    {
     "data": {
      "text/html": [
       "<div>\n",
       "<style scoped>\n",
       "    .dataframe tbody tr th:only-of-type {\n",
       "        vertical-align: middle;\n",
       "    }\n",
       "\n",
       "    .dataframe tbody tr th {\n",
       "        vertical-align: top;\n",
       "    }\n",
       "\n",
       "    .dataframe thead th {\n",
       "        text-align: right;\n",
       "    }\n",
       "</style>\n",
       "<table border=\"1\" class=\"dataframe\">\n",
       "  <thead>\n",
       "    <tr style=\"text-align: right;\">\n",
       "      <th></th>\n",
       "      <th>363.707</th>\n",
       "      <th>364.486</th>\n",
       "      <th>365.266</th>\n",
       "      <th>366.044</th>\n",
       "      <th>366.823</th>\n",
       "      <th>367.602</th>\n",
       "      <th>368.381</th>\n",
       "      <th>369.16</th>\n",
       "      <th>369.938</th>\n",
       "      <th>370.717</th>\n",
       "      <th>...</th>\n",
       "      <th>418.084</th>\n",
       "      <th>418.858</th>\n",
       "      <th>419.632</th>\n",
       "      <th>420.407</th>\n",
       "      <th>421.181</th>\n",
       "      <th>421.955</th>\n",
       "      <th>422.729</th>\n",
       "      <th>423.503</th>\n",
       "      <th>Output</th>\n",
       "      <th>w/f</th>\n",
       "    </tr>\n",
       "  </thead>\n",
       "  <tbody>\n",
       "    <tr>\n",
       "      <th>2</th>\n",
       "      <td>87.0480</td>\n",
       "      <td>86.5098</td>\n",
       "      <td>86.2694</td>\n",
       "      <td>86.1470</td>\n",
       "      <td>85.8456</td>\n",
       "      <td>85.3556</td>\n",
       "      <td>85.0497</td>\n",
       "      <td>84.6754</td>\n",
       "      <td>84.2657</td>\n",
       "      <td>83.8722</td>\n",
       "      <td>...</td>\n",
       "      <td>81.7693</td>\n",
       "      <td>85.1405</td>\n",
       "      <td>87.9776</td>\n",
       "      <td>89.7679</td>\n",
       "      <td>90.9776</td>\n",
       "      <td>91.9985</td>\n",
       "      <td>92.7577</td>\n",
       "      <td>93.4443</td>\n",
       "      <td>W_VK12 | 2_J_None_0.902_SI1</td>\n",
       "      <td>W</td>\n",
       "    </tr>\n",
       "    <tr>\n",
       "      <th>3</th>\n",
       "      <td>62.4444</td>\n",
       "      <td>62.0639</td>\n",
       "      <td>61.7058</td>\n",
       "      <td>61.2996</td>\n",
       "      <td>60.9179</td>\n",
       "      <td>60.5205</td>\n",
       "      <td>60.1136</td>\n",
       "      <td>59.6632</td>\n",
       "      <td>59.1972</td>\n",
       "      <td>58.7010</td>\n",
       "      <td>...</td>\n",
       "      <td>85.9996</td>\n",
       "      <td>88.8012</td>\n",
       "      <td>91.5548</td>\n",
       "      <td>93.5495</td>\n",
       "      <td>95.8632</td>\n",
       "      <td>98.2025</td>\n",
       "      <td>100.8680</td>\n",
       "      <td>103.6550</td>\n",
       "      <td>F_VK12 | 2_J_None_0.902_SI1</td>\n",
       "      <td>F</td>\n",
       "    </tr>\n",
       "    <tr>\n",
       "      <th>4</th>\n",
       "      <td>101.9310</td>\n",
       "      <td>101.7240</td>\n",
       "      <td>101.6950</td>\n",
       "      <td>101.6310</td>\n",
       "      <td>101.6350</td>\n",
       "      <td>101.1850</td>\n",
       "      <td>101.1380</td>\n",
       "      <td>100.9720</td>\n",
       "      <td>100.8440</td>\n",
       "      <td>100.6880</td>\n",
       "      <td>...</td>\n",
       "      <td>101.8660</td>\n",
       "      <td>102.0850</td>\n",
       "      <td>102.2610</td>\n",
       "      <td>102.3590</td>\n",
       "      <td>102.4060</td>\n",
       "      <td>102.4350</td>\n",
       "      <td>102.4410</td>\n",
       "      <td>102.4610</td>\n",
       "      <td>W_3472A2 | 126_D_None_0.702_VS1</td>\n",
       "      <td>W</td>\n",
       "    </tr>\n",
       "    <tr>\n",
       "      <th>5</th>\n",
       "      <td>100.9010</td>\n",
       "      <td>100.9810</td>\n",
       "      <td>101.0540</td>\n",
       "      <td>101.0970</td>\n",
       "      <td>101.1460</td>\n",
       "      <td>101.1980</td>\n",
       "      <td>101.2260</td>\n",
       "      <td>101.2470</td>\n",
       "      <td>101.2460</td>\n",
       "      <td>101.2460</td>\n",
       "      <td>...</td>\n",
       "      <td>101.6150</td>\n",
       "      <td>101.7150</td>\n",
       "      <td>101.6780</td>\n",
       "      <td>101.6350</td>\n",
       "      <td>101.2910</td>\n",
       "      <td>101.6420</td>\n",
       "      <td>101.8230</td>\n",
       "      <td>102.0510</td>\n",
       "      <td>F_3472A2 | 126_D_None_0.702_VS1</td>\n",
       "      <td>F</td>\n",
       "    </tr>\n",
       "    <tr>\n",
       "      <th>10</th>\n",
       "      <td>84.3379</td>\n",
       "      <td>84.2056</td>\n",
       "      <td>83.7665</td>\n",
       "      <td>83.6529</td>\n",
       "      <td>83.5457</td>\n",
       "      <td>83.4267</td>\n",
       "      <td>83.3603</td>\n",
       "      <td>83.3049</td>\n",
       "      <td>83.4896</td>\n",
       "      <td>83.2446</td>\n",
       "      <td>...</td>\n",
       "      <td>81.5837</td>\n",
       "      <td>83.2302</td>\n",
       "      <td>84.5448</td>\n",
       "      <td>85.3473</td>\n",
       "      <td>85.8796</td>\n",
       "      <td>86.3245</td>\n",
       "      <td>86.6741</td>\n",
       "      <td>86.9831</td>\n",
       "      <td>W_1738A2 | 107_J_LB_None_0.702_SI1</td>\n",
       "      <td>W</td>\n",
       "    </tr>\n",
       "  </tbody>\n",
       "</table>\n",
       "<p>5 rows × 80 columns</p>\n",
       "</div>"
      ],
      "text/plain": [
       "     363.707   364.486   365.266   366.044   366.823   367.602   368.381  \\\n",
       "2    87.0480   86.5098   86.2694   86.1470   85.8456   85.3556   85.0497   \n",
       "3    62.4444   62.0639   61.7058   61.2996   60.9179   60.5205   60.1136   \n",
       "4   101.9310  101.7240  101.6950  101.6310  101.6350  101.1850  101.1380   \n",
       "5   100.9010  100.9810  101.0540  101.0970  101.1460  101.1980  101.2260   \n",
       "10   84.3379   84.2056   83.7665   83.6529   83.5457   83.4267   83.3603   \n",
       "\n",
       "      369.16   369.938   370.717  ...   418.084   418.858   419.632   420.407  \\\n",
       "2    84.6754   84.2657   83.8722  ...   81.7693   85.1405   87.9776   89.7679   \n",
       "3    59.6632   59.1972   58.7010  ...   85.9996   88.8012   91.5548   93.5495   \n",
       "4   100.9720  100.8440  100.6880  ...  101.8660  102.0850  102.2610  102.3590   \n",
       "5   101.2470  101.2460  101.2460  ...  101.6150  101.7150  101.6780  101.6350   \n",
       "10   83.3049   83.4896   83.2446  ...   81.5837   83.2302   84.5448   85.3473   \n",
       "\n",
       "     421.181   421.955   422.729   423.503  \\\n",
       "2    90.9776   91.9985   92.7577   93.4443   \n",
       "3    95.8632   98.2025  100.8680  103.6550   \n",
       "4   102.4060  102.4350  102.4410  102.4610   \n",
       "5   101.2910  101.6420  101.8230  102.0510   \n",
       "10   85.8796   86.3245   86.6741   86.9831   \n",
       "\n",
       "                                Output  w/f  \n",
       "2          W_VK12 | 2_J_None_0.902_SI1    W  \n",
       "3          F_VK12 | 2_J_None_0.902_SI1    F  \n",
       "4      W_3472A2 | 126_D_None_0.702_VS1    W  \n",
       "5      F_3472A2 | 126_D_None_0.702_VS1    F  \n",
       "10  W_1738A2 | 107_J_LB_None_0.702_SI1    W  \n",
       "\n",
       "[5 rows x 80 columns]"
      ]
     },
     "execution_count": 16,
     "metadata": {},
     "output_type": "execute_result"
    }
   ],
   "source": [
    "df_without_calb.head()"
   ]
  },
  {
   "cell_type": "code",
   "execution_count": 93,
   "metadata": {},
   "outputs": [],
   "source": [
    "df_with_w = df_without_calb[df_without_calb['w/f'] == 'W']\n"
   ]
  },
  {
   "cell_type": "code",
   "execution_count": 94,
   "metadata": {},
   "outputs": [],
   "source": [
    "df_with_w['color'] = df_with_w['Output'].str.split('_').str[2]\n",
    "df_with_w['color'].replace({'E LB':'E', ' K':'K', 'G LB ':'G', 'H ':'H'}, inplace = True)\n",
    "df_with_w['quality'] = df_with_w['Output'].str.split('_').str[3]\n"
   ]
  },
  {
   "cell_type": "code",
   "execution_count": 95,
   "metadata": {},
   "outputs": [],
   "source": [
    "df_with_w['quality'].replace({'lb':'Faint','Benth':'None','brown':'None','Pink':'None', 'LB':'None','LB ':'None', 'Faint YELLOW':'Faint', 'Faint YELLOW':'Faint', 'Faint GREEN':'Faint','  ':'None', 'BROWN':'Faint', 'Lblack':'Faint', 'lb ':'None','Black':'None','faint':'Faint'}, inplace = True)"
   ]
  },
  {
   "cell_type": "code",
   "execution_count": 96,
   "metadata": {},
   "outputs": [],
   "source": [
    "df_with_w.drop(columns=['Output','w/f'], inplace=True)"
   ]
  },
  {
   "cell_type": "code",
   "execution_count": 98,
   "metadata": {},
   "outputs": [],
   "source": [
    "df_with_w['quality'].replace({'None':'0', 'Faint':'1', 'Very Strong':'4', 'Medium':'2', 'Strong':'3'}, inplace = True)"
   ]
  },
  {
   "cell_type": "code",
   "execution_count": 99,
   "metadata": {},
   "outputs": [
    {
     "data": {
      "text/html": [
       "<div>\n",
       "<style scoped>\n",
       "    .dataframe tbody tr th:only-of-type {\n",
       "        vertical-align: middle;\n",
       "    }\n",
       "\n",
       "    .dataframe tbody tr th {\n",
       "        vertical-align: top;\n",
       "    }\n",
       "\n",
       "    .dataframe thead th {\n",
       "        text-align: right;\n",
       "    }\n",
       "</style>\n",
       "<table border=\"1\" class=\"dataframe\">\n",
       "  <thead>\n",
       "    <tr style=\"text-align: right;\">\n",
       "      <th></th>\n",
       "      <th>363.707</th>\n",
       "      <th>364.486</th>\n",
       "      <th>365.266</th>\n",
       "      <th>366.044</th>\n",
       "      <th>366.823</th>\n",
       "      <th>367.602</th>\n",
       "      <th>368.381</th>\n",
       "      <th>369.16</th>\n",
       "      <th>369.938</th>\n",
       "      <th>370.717</th>\n",
       "      <th>...</th>\n",
       "      <th>418.084</th>\n",
       "      <th>418.858</th>\n",
       "      <th>419.632</th>\n",
       "      <th>420.407</th>\n",
       "      <th>421.181</th>\n",
       "      <th>421.955</th>\n",
       "      <th>422.729</th>\n",
       "      <th>423.503</th>\n",
       "      <th>color</th>\n",
       "      <th>quality</th>\n",
       "    </tr>\n",
       "  </thead>\n",
       "  <tbody>\n",
       "    <tr>\n",
       "      <th>2</th>\n",
       "      <td>87.0480</td>\n",
       "      <td>86.5098</td>\n",
       "      <td>86.2694</td>\n",
       "      <td>86.1470</td>\n",
       "      <td>85.8456</td>\n",
       "      <td>85.3556</td>\n",
       "      <td>85.0497</td>\n",
       "      <td>84.6754</td>\n",
       "      <td>84.2657</td>\n",
       "      <td>83.8722</td>\n",
       "      <td>...</td>\n",
       "      <td>81.7693</td>\n",
       "      <td>85.1405</td>\n",
       "      <td>87.9776</td>\n",
       "      <td>89.7679</td>\n",
       "      <td>90.9776</td>\n",
       "      <td>91.9985</td>\n",
       "      <td>92.7577</td>\n",
       "      <td>93.4443</td>\n",
       "      <td>J</td>\n",
       "      <td>0</td>\n",
       "    </tr>\n",
       "    <tr>\n",
       "      <th>4</th>\n",
       "      <td>101.9310</td>\n",
       "      <td>101.7240</td>\n",
       "      <td>101.6950</td>\n",
       "      <td>101.6310</td>\n",
       "      <td>101.6350</td>\n",
       "      <td>101.1850</td>\n",
       "      <td>101.1380</td>\n",
       "      <td>100.9720</td>\n",
       "      <td>100.8440</td>\n",
       "      <td>100.6880</td>\n",
       "      <td>...</td>\n",
       "      <td>101.8660</td>\n",
       "      <td>102.0850</td>\n",
       "      <td>102.2610</td>\n",
       "      <td>102.3590</td>\n",
       "      <td>102.4060</td>\n",
       "      <td>102.4350</td>\n",
       "      <td>102.4410</td>\n",
       "      <td>102.4610</td>\n",
       "      <td>D</td>\n",
       "      <td>0</td>\n",
       "    </tr>\n",
       "    <tr>\n",
       "      <th>10</th>\n",
       "      <td>84.3379</td>\n",
       "      <td>84.2056</td>\n",
       "      <td>83.7665</td>\n",
       "      <td>83.6529</td>\n",
       "      <td>83.5457</td>\n",
       "      <td>83.4267</td>\n",
       "      <td>83.3603</td>\n",
       "      <td>83.3049</td>\n",
       "      <td>83.4896</td>\n",
       "      <td>83.2446</td>\n",
       "      <td>...</td>\n",
       "      <td>81.5837</td>\n",
       "      <td>83.2302</td>\n",
       "      <td>84.5448</td>\n",
       "      <td>85.3473</td>\n",
       "      <td>85.8796</td>\n",
       "      <td>86.3245</td>\n",
       "      <td>86.6741</td>\n",
       "      <td>86.9831</td>\n",
       "      <td>J</td>\n",
       "      <td>0</td>\n",
       "    </tr>\n",
       "    <tr>\n",
       "      <th>12</th>\n",
       "      <td>97.5362</td>\n",
       "      <td>97.5079</td>\n",
       "      <td>97.6389</td>\n",
       "      <td>97.3283</td>\n",
       "      <td>97.3299</td>\n",
       "      <td>97.1781</td>\n",
       "      <td>97.1703</td>\n",
       "      <td>97.1557</td>\n",
       "      <td>97.1037</td>\n",
       "      <td>96.7851</td>\n",
       "      <td>...</td>\n",
       "      <td>96.0994</td>\n",
       "      <td>96.9004</td>\n",
       "      <td>97.5015</td>\n",
       "      <td>97.8972</td>\n",
       "      <td>98.1579</td>\n",
       "      <td>98.3211</td>\n",
       "      <td>98.5120</td>\n",
       "      <td>98.6553</td>\n",
       "      <td>G</td>\n",
       "      <td>0</td>\n",
       "    </tr>\n",
       "    <tr>\n",
       "      <th>14</th>\n",
       "      <td>101.1990</td>\n",
       "      <td>100.7660</td>\n",
       "      <td>100.6530</td>\n",
       "      <td>100.2860</td>\n",
       "      <td>100.1440</td>\n",
       "      <td>100.1350</td>\n",
       "      <td>100.1250</td>\n",
       "      <td>100.0650</td>\n",
       "      <td>100.1640</td>\n",
       "      <td>99.9450</td>\n",
       "      <td>...</td>\n",
       "      <td>99.9973</td>\n",
       "      <td>100.4380</td>\n",
       "      <td>100.7780</td>\n",
       "      <td>101.0330</td>\n",
       "      <td>101.1920</td>\n",
       "      <td>101.3340</td>\n",
       "      <td>101.4810</td>\n",
       "      <td>101.5450</td>\n",
       "      <td>E</td>\n",
       "      <td>0</td>\n",
       "    </tr>\n",
       "  </tbody>\n",
       "</table>\n",
       "<p>5 rows × 80 columns</p>\n",
       "</div>"
      ],
      "text/plain": [
       "     363.707   364.486   365.266   366.044   366.823   367.602   368.381  \\\n",
       "2    87.0480   86.5098   86.2694   86.1470   85.8456   85.3556   85.0497   \n",
       "4   101.9310  101.7240  101.6950  101.6310  101.6350  101.1850  101.1380   \n",
       "10   84.3379   84.2056   83.7665   83.6529   83.5457   83.4267   83.3603   \n",
       "12   97.5362   97.5079   97.6389   97.3283   97.3299   97.1781   97.1703   \n",
       "14  101.1990  100.7660  100.6530  100.2860  100.1440  100.1350  100.1250   \n",
       "\n",
       "      369.16   369.938   370.717  ...   418.084   418.858   419.632   420.407  \\\n",
       "2    84.6754   84.2657   83.8722  ...   81.7693   85.1405   87.9776   89.7679   \n",
       "4   100.9720  100.8440  100.6880  ...  101.8660  102.0850  102.2610  102.3590   \n",
       "10   83.3049   83.4896   83.2446  ...   81.5837   83.2302   84.5448   85.3473   \n",
       "12   97.1557   97.1037   96.7851  ...   96.0994   96.9004   97.5015   97.8972   \n",
       "14  100.0650  100.1640   99.9450  ...   99.9973  100.4380  100.7780  101.0330   \n",
       "\n",
       "     421.181   421.955   422.729   423.503  color  quality  \n",
       "2    90.9776   91.9985   92.7577   93.4443      J        0  \n",
       "4   102.4060  102.4350  102.4410  102.4610      D        0  \n",
       "10   85.8796   86.3245   86.6741   86.9831      J        0  \n",
       "12   98.1579   98.3211   98.5120   98.6553      G        0  \n",
       "14  101.1920  101.3340  101.4810  101.5450      E        0  \n",
       "\n",
       "[5 rows x 80 columns]"
      ]
     },
     "execution_count": 99,
     "metadata": {},
     "output_type": "execute_result"
    }
   ],
   "source": [
    "df_with_w.head()"
   ]
  },
  {
   "cell_type": "code",
   "execution_count": 115,
   "metadata": {},
   "outputs": [
    {
     "data": {
      "text/html": [
       "<div>\n",
       "<style scoped>\n",
       "    .dataframe tbody tr th:only-of-type {\n",
       "        vertical-align: middle;\n",
       "    }\n",
       "\n",
       "    .dataframe tbody tr th {\n",
       "        vertical-align: top;\n",
       "    }\n",
       "\n",
       "    .dataframe thead th {\n",
       "        text-align: right;\n",
       "    }\n",
       "</style>\n",
       "<table border=\"1\" class=\"dataframe\">\n",
       "  <thead>\n",
       "    <tr style=\"text-align: right;\">\n",
       "      <th></th>\n",
       "      <th>quality</th>\n",
       "    </tr>\n",
       "  </thead>\n",
       "  <tbody>\n",
       "    <tr>\n",
       "      <th>2</th>\n",
       "      <td>0</td>\n",
       "    </tr>\n",
       "    <tr>\n",
       "      <th>4</th>\n",
       "      <td>0</td>\n",
       "    </tr>\n",
       "    <tr>\n",
       "      <th>10</th>\n",
       "      <td>0</td>\n",
       "    </tr>\n",
       "    <tr>\n",
       "      <th>12</th>\n",
       "      <td>0</td>\n",
       "    </tr>\n",
       "    <tr>\n",
       "      <th>14</th>\n",
       "      <td>0</td>\n",
       "    </tr>\n",
       "    <tr>\n",
       "      <th>...</th>\n",
       "      <td>...</td>\n",
       "    </tr>\n",
       "    <tr>\n",
       "      <th>3687</th>\n",
       "      <td>0</td>\n",
       "    </tr>\n",
       "    <tr>\n",
       "      <th>3691</th>\n",
       "      <td>1</td>\n",
       "    </tr>\n",
       "    <tr>\n",
       "      <th>3693</th>\n",
       "      <td>0</td>\n",
       "    </tr>\n",
       "    <tr>\n",
       "      <th>3697</th>\n",
       "      <td>0</td>\n",
       "    </tr>\n",
       "    <tr>\n",
       "      <th>3699</th>\n",
       "      <td>0</td>\n",
       "    </tr>\n",
       "  </tbody>\n",
       "</table>\n",
       "<p>1268 rows × 1 columns</p>\n",
       "</div>"
      ],
      "text/plain": [
       "     quality\n",
       "2          0\n",
       "4          0\n",
       "10         0\n",
       "12         0\n",
       "14         0\n",
       "...      ...\n",
       "3687       0\n",
       "3691       1\n",
       "3693       0\n",
       "3697       0\n",
       "3699       0\n",
       "\n",
       "[1268 rows x 1 columns]"
      ]
     },
     "execution_count": 115,
     "metadata": {},
     "output_type": "execute_result"
    }
   ],
   "source": [
    "df_with_w.iloc[:,-1:]"
   ]
  },
  {
   "cell_type": "code",
   "execution_count": 118,
   "metadata": {},
   "outputs": [],
   "source": [
    "X = pd.concat([df_with_w.iloc[:,:-2] ,df_with_w.iloc[:,-1:]], axis=1)"
   ]
  },
  {
   "cell_type": "code",
   "execution_count": 119,
   "metadata": {},
   "outputs": [],
   "source": [
    "min_max_scaler = preprocessing.MinMaxScaler()\n",
    "np_scaled = min_max_scaler.fit_transform(X)\n",
    "x_norm = pd.DataFrame(np_scaled, columns = X.columns)"
   ]
  },
  {
   "cell_type": "code",
   "execution_count": 120,
   "metadata": {},
   "outputs": [
    {
     "data": {
      "text/html": [
       "<div>\n",
       "<style scoped>\n",
       "    .dataframe tbody tr th:only-of-type {\n",
       "        vertical-align: middle;\n",
       "    }\n",
       "\n",
       "    .dataframe tbody tr th {\n",
       "        vertical-align: top;\n",
       "    }\n",
       "\n",
       "    .dataframe thead th {\n",
       "        text-align: right;\n",
       "    }\n",
       "</style>\n",
       "<table border=\"1\" class=\"dataframe\">\n",
       "  <thead>\n",
       "    <tr style=\"text-align: right;\">\n",
       "      <th></th>\n",
       "      <th>363.707</th>\n",
       "      <th>364.486</th>\n",
       "      <th>365.266</th>\n",
       "      <th>366.044</th>\n",
       "      <th>366.823</th>\n",
       "      <th>367.602</th>\n",
       "      <th>368.381</th>\n",
       "      <th>369.16</th>\n",
       "      <th>369.938</th>\n",
       "      <th>370.717</th>\n",
       "      <th>...</th>\n",
       "      <th>418.084</th>\n",
       "      <th>418.858</th>\n",
       "      <th>419.632</th>\n",
       "      <th>420.407</th>\n",
       "      <th>421.181</th>\n",
       "      <th>421.955</th>\n",
       "      <th>422.729</th>\n",
       "      <th>423.503</th>\n",
       "      <th>color</th>\n",
       "      <th>quality</th>\n",
       "    </tr>\n",
       "  </thead>\n",
       "  <tbody>\n",
       "    <tr>\n",
       "      <th>2</th>\n",
       "      <td>87.0480</td>\n",
       "      <td>86.5098</td>\n",
       "      <td>86.2694</td>\n",
       "      <td>86.1470</td>\n",
       "      <td>85.8456</td>\n",
       "      <td>85.3556</td>\n",
       "      <td>85.0497</td>\n",
       "      <td>84.6754</td>\n",
       "      <td>84.2657</td>\n",
       "      <td>83.8722</td>\n",
       "      <td>...</td>\n",
       "      <td>81.7693</td>\n",
       "      <td>85.1405</td>\n",
       "      <td>87.9776</td>\n",
       "      <td>89.7679</td>\n",
       "      <td>90.9776</td>\n",
       "      <td>91.9985</td>\n",
       "      <td>92.7577</td>\n",
       "      <td>93.4443</td>\n",
       "      <td>J</td>\n",
       "      <td>0</td>\n",
       "    </tr>\n",
       "    <tr>\n",
       "      <th>4</th>\n",
       "      <td>101.9310</td>\n",
       "      <td>101.7240</td>\n",
       "      <td>101.6950</td>\n",
       "      <td>101.6310</td>\n",
       "      <td>101.6350</td>\n",
       "      <td>101.1850</td>\n",
       "      <td>101.1380</td>\n",
       "      <td>100.9720</td>\n",
       "      <td>100.8440</td>\n",
       "      <td>100.6880</td>\n",
       "      <td>...</td>\n",
       "      <td>101.8660</td>\n",
       "      <td>102.0850</td>\n",
       "      <td>102.2610</td>\n",
       "      <td>102.3590</td>\n",
       "      <td>102.4060</td>\n",
       "      <td>102.4350</td>\n",
       "      <td>102.4410</td>\n",
       "      <td>102.4610</td>\n",
       "      <td>D</td>\n",
       "      <td>0</td>\n",
       "    </tr>\n",
       "    <tr>\n",
       "      <th>10</th>\n",
       "      <td>84.3379</td>\n",
       "      <td>84.2056</td>\n",
       "      <td>83.7665</td>\n",
       "      <td>83.6529</td>\n",
       "      <td>83.5457</td>\n",
       "      <td>83.4267</td>\n",
       "      <td>83.3603</td>\n",
       "      <td>83.3049</td>\n",
       "      <td>83.4896</td>\n",
       "      <td>83.2446</td>\n",
       "      <td>...</td>\n",
       "      <td>81.5837</td>\n",
       "      <td>83.2302</td>\n",
       "      <td>84.5448</td>\n",
       "      <td>85.3473</td>\n",
       "      <td>85.8796</td>\n",
       "      <td>86.3245</td>\n",
       "      <td>86.6741</td>\n",
       "      <td>86.9831</td>\n",
       "      <td>J</td>\n",
       "      <td>0</td>\n",
       "    </tr>\n",
       "    <tr>\n",
       "      <th>12</th>\n",
       "      <td>97.5362</td>\n",
       "      <td>97.5079</td>\n",
       "      <td>97.6389</td>\n",
       "      <td>97.3283</td>\n",
       "      <td>97.3299</td>\n",
       "      <td>97.1781</td>\n",
       "      <td>97.1703</td>\n",
       "      <td>97.1557</td>\n",
       "      <td>97.1037</td>\n",
       "      <td>96.7851</td>\n",
       "      <td>...</td>\n",
       "      <td>96.0994</td>\n",
       "      <td>96.9004</td>\n",
       "      <td>97.5015</td>\n",
       "      <td>97.8972</td>\n",
       "      <td>98.1579</td>\n",
       "      <td>98.3211</td>\n",
       "      <td>98.5120</td>\n",
       "      <td>98.6553</td>\n",
       "      <td>G</td>\n",
       "      <td>0</td>\n",
       "    </tr>\n",
       "    <tr>\n",
       "      <th>14</th>\n",
       "      <td>101.1990</td>\n",
       "      <td>100.7660</td>\n",
       "      <td>100.6530</td>\n",
       "      <td>100.2860</td>\n",
       "      <td>100.1440</td>\n",
       "      <td>100.1350</td>\n",
       "      <td>100.1250</td>\n",
       "      <td>100.0650</td>\n",
       "      <td>100.1640</td>\n",
       "      <td>99.9450</td>\n",
       "      <td>...</td>\n",
       "      <td>99.9973</td>\n",
       "      <td>100.4380</td>\n",
       "      <td>100.7780</td>\n",
       "      <td>101.0330</td>\n",
       "      <td>101.1920</td>\n",
       "      <td>101.3340</td>\n",
       "      <td>101.4810</td>\n",
       "      <td>101.5450</td>\n",
       "      <td>E</td>\n",
       "      <td>0</td>\n",
       "    </tr>\n",
       "  </tbody>\n",
       "</table>\n",
       "<p>5 rows × 80 columns</p>\n",
       "</div>"
      ],
      "text/plain": [
       "     363.707   364.486   365.266   366.044   366.823   367.602   368.381  \\\n",
       "2    87.0480   86.5098   86.2694   86.1470   85.8456   85.3556   85.0497   \n",
       "4   101.9310  101.7240  101.6950  101.6310  101.6350  101.1850  101.1380   \n",
       "10   84.3379   84.2056   83.7665   83.6529   83.5457   83.4267   83.3603   \n",
       "12   97.5362   97.5079   97.6389   97.3283   97.3299   97.1781   97.1703   \n",
       "14  101.1990  100.7660  100.6530  100.2860  100.1440  100.1350  100.1250   \n",
       "\n",
       "      369.16   369.938   370.717  ...   418.084   418.858   419.632   420.407  \\\n",
       "2    84.6754   84.2657   83.8722  ...   81.7693   85.1405   87.9776   89.7679   \n",
       "4   100.9720  100.8440  100.6880  ...  101.8660  102.0850  102.2610  102.3590   \n",
       "10   83.3049   83.4896   83.2446  ...   81.5837   83.2302   84.5448   85.3473   \n",
       "12   97.1557   97.1037   96.7851  ...   96.0994   96.9004   97.5015   97.8972   \n",
       "14  100.0650  100.1640   99.9450  ...   99.9973  100.4380  100.7780  101.0330   \n",
       "\n",
       "     421.181   421.955   422.729   423.503  color  quality  \n",
       "2    90.9776   91.9985   92.7577   93.4443      J        0  \n",
       "4   102.4060  102.4350  102.4410  102.4610      D        0  \n",
       "10   85.8796   86.3245   86.6741   86.9831      J        0  \n",
       "12   98.1579   98.3211   98.5120   98.6553      G        0  \n",
       "14  101.1920  101.3340  101.4810  101.5450      E        0  \n",
       "\n",
       "[5 rows x 80 columns]"
      ]
     },
     "execution_count": 120,
     "metadata": {},
     "output_type": "execute_result"
    }
   ],
   "source": [
    "df_with_w.head()"
   ]
  },
  {
   "cell_type": "code",
   "execution_count": 122,
   "metadata": {},
   "outputs": [],
   "source": [
    "x = x_norm\n",
    "Y = df_with_w.iloc[:,-2:-1]"
   ]
  },
  {
   "cell_type": "code",
   "execution_count": 89,
   "metadata": {},
   "outputs": [
    {
     "data": {
      "text/plain": [
       "0    676\n",
       "1    324\n",
       "4    165\n",
       "2    100\n",
       "3      3\n",
       "Name: quality, dtype: int64"
      ]
     },
     "execution_count": 89,
     "metadata": {},
     "output_type": "execute_result"
    }
   ],
   "source": [
    "Y.value_counts()"
   ]
  },
  {
   "cell_type": "code",
   "execution_count": null,
   "metadata": {},
   "outputs": [],
   "source": [
    "balanced = class_weight.compute_class_weight(class_weight='balanced', classes=df_without_calb_None['color'].value_counts().keys(),y=Y)\n",
    "balanced = dict(zip(df_without_calb_None['color'].value_counts().keys(),balanced))\n",
    "balanced"
   ]
  },
  {
   "cell_type": "code",
   "execution_count": 124,
   "metadata": {},
   "outputs": [],
   "source": [
    "X_train, X_test, Y_train, Y_test = train_test_split(x,Y, test_size = 0.2, random_state =42, stratify = Y)"
   ]
  },
  {
   "cell_type": "code",
   "execution_count": 125,
   "metadata": {},
   "outputs": [],
   "source": [
    "stratifiedkf=StratifiedKFold(n_splits=5)"
   ]
  },
  {
   "cell_type": "code",
   "execution_count": 126,
   "metadata": {},
   "outputs": [],
   "source": [
    "light_gb_classifier = lgb.LGBMClassifier()\n",
    "grid_values = {'n_estimators':[*range(50, 500, 20)], 'max_depth':[*range(1,10,1)], 'max_features':[*range(1,100,1)],'min_samples_split':np.linspace(0.1, 1.0, 10, endpoint=True),'min_samples_leaf': np.linspace(0.1, 0.5, 5, endpoint=True)}\n",
    "boost_classifier = RandomizedSearchCV(light_gb_classifier, param_distributions= grid_values , cv = stratifiedkf)"
   ]
  },
  {
   "cell_type": "code",
   "execution_count": 127,
   "metadata": {},
   "outputs": [],
   "source": [
    "decision_classifier = DecisionTreeClassifier()\n",
    "grid_values = {'max_depth':[*range(1,10,1)], 'max_features':[*range(1,100,1)],'min_samples_split':np.linspace(0.1, 1.0, 10, endpoint=True),'min_samples_leaf': np.linspace(0.1, 0.5, 5, endpoint=True)}\n",
    "decision_tree_classifier = RandomizedSearchCV(decision_classifier, param_distributions= grid_values , cv = 5)"
   ]
  },
  {
   "cell_type": "code",
   "execution_count": 128,
   "metadata": {},
   "outputs": [],
   "source": [
    "forest_classifier = RandomForestClassifier(class_weight = balanced)\n",
    "grid_values = {'n_estimators':[*range(50, 500, 20)], 'max_depth':[*range(1,10,1)], 'max_features':[*range(1,100,1)],'min_samples_split':np.linspace(0.1, 1.0, 10, endpoint=True),'min_samples_leaf': np.linspace(0.1, 0.5, 5, endpoint=True)}\n",
    "random_classifier = RandomizedSearchCV(forest_classifier, param_distributions= grid_values , cv = stratifiedkf)"
   ]
  },
  {
   "cell_type": "code",
   "execution_count": 139,
   "metadata": {},
   "outputs": [],
   "source": [
    "boost_classfier_ = GradientBoostingClassifier()\n",
    "grid_values = {'n_estimators':[*range(50, 500, 20)], 'max_depth':[*range(1,10,1)], 'max_features':[*range(1,100,1)],'min_samples_split':np.linspace(0.1, 1.0, 10, endpoint=True),'min_samples_leaf': np.linspace(0.1, 0.5, 5, endpoint=True)}\n",
    "boost_classifier = RandomizedSearchCV(boost_classfier_, param_distributions= grid_values , cv = stratifiedkf)\n",
    "# score=cross_val_scoreida(logreg,X,Y,cv=stratifiedkf)\n",
    "# print(\"Cross Validation Scores are {}\".format(score))\n",
    "# print(\"Average Cross Valtion score :{}\".format(score.mean()))"
   ]
  },
  {
   "cell_type": "code",
   "execution_count": 130,
   "metadata": {},
   "outputs": [],
   "source": [
    "boost_classfier_ = xgb.XGBClassifier(enabale_categorical = True)\n",
    "grid_values = {'n_estimators':[*range(50, 500, 20)], 'max_depth':[*range(1,10,1)], 'max_features':[*range(1,100,1)],'min_samples_split':np.linspace(0.1, 1.0, 10, endpoint=True),'min_samples_leaf': np.linspace(0.1, 0.5, 5, endpoint=True)}\n",
    "xgboost_classifier = RandomizedSearchCV(boost_classfier_, param_distributions= grid_values , cv = stratifiedkf)\n",
    "# score=cross_val_scoreida(logreg,X,Y,cv=stratifiedkf)\n",
    "# print(\"Cross Validation Scores are {}\".format(score))\n",
    "# print(\"Average Cross Valtion score :{}\".format(score.mean()))"
   ]
  },
  {
   "cell_type": "code",
   "execution_count": 131,
   "metadata": {},
   "outputs": [],
   "source": [
    "pickle.dump(random_classifier, open('/home/pankaj_v/Documents/Data_analysis_dixit/Models/random_forest_model.pkl', 'wb'))"
   ]
  },
  {
   "cell_type": "code",
   "execution_count": 140,
   "metadata": {},
   "outputs": [
    {
     "data": {
      "text/html": [
       "<style>#sk-container-id-1 {color: black;background-color: white;}#sk-container-id-1 pre{padding: 0;}#sk-container-id-1 div.sk-toggleable {background-color: white;}#sk-container-id-1 label.sk-toggleable__label {cursor: pointer;display: block;width: 100%;margin-bottom: 0;padding: 0.3em;box-sizing: border-box;text-align: center;}#sk-container-id-1 label.sk-toggleable__label-arrow:before {content: \"▸\";float: left;margin-right: 0.25em;color: #696969;}#sk-container-id-1 label.sk-toggleable__label-arrow:hover:before {color: black;}#sk-container-id-1 div.sk-estimator:hover label.sk-toggleable__label-arrow:before {color: black;}#sk-container-id-1 div.sk-toggleable__content {max-height: 0;max-width: 0;overflow: hidden;text-align: left;background-color: #f0f8ff;}#sk-container-id-1 div.sk-toggleable__content pre {margin: 0.2em;color: black;border-radius: 0.25em;background-color: #f0f8ff;}#sk-container-id-1 input.sk-toggleable__control:checked~div.sk-toggleable__content {max-height: 200px;max-width: 100%;overflow: auto;}#sk-container-id-1 input.sk-toggleable__control:checked~label.sk-toggleable__label-arrow:before {content: \"▾\";}#sk-container-id-1 div.sk-estimator input.sk-toggleable__control:checked~label.sk-toggleable__label {background-color: #d4ebff;}#sk-container-id-1 div.sk-label input.sk-toggleable__control:checked~label.sk-toggleable__label {background-color: #d4ebff;}#sk-container-id-1 input.sk-hidden--visually {border: 0;clip: rect(1px 1px 1px 1px);clip: rect(1px, 1px, 1px, 1px);height: 1px;margin: -1px;overflow: hidden;padding: 0;position: absolute;width: 1px;}#sk-container-id-1 div.sk-estimator {font-family: monospace;background-color: #f0f8ff;border: 1px dotted black;border-radius: 0.25em;box-sizing: border-box;margin-bottom: 0.5em;}#sk-container-id-1 div.sk-estimator:hover {background-color: #d4ebff;}#sk-container-id-1 div.sk-parallel-item::after {content: \"\";width: 100%;border-bottom: 1px solid gray;flex-grow: 1;}#sk-container-id-1 div.sk-label:hover label.sk-toggleable__label {background-color: #d4ebff;}#sk-container-id-1 div.sk-serial::before {content: \"\";position: absolute;border-left: 1px solid gray;box-sizing: border-box;top: 0;bottom: 0;left: 50%;z-index: 0;}#sk-container-id-1 div.sk-serial {display: flex;flex-direction: column;align-items: center;background-color: white;padding-right: 0.2em;padding-left: 0.2em;position: relative;}#sk-container-id-1 div.sk-item {position: relative;z-index: 1;}#sk-container-id-1 div.sk-parallel {display: flex;align-items: stretch;justify-content: center;background-color: white;position: relative;}#sk-container-id-1 div.sk-item::before, #sk-container-id-1 div.sk-parallel-item::before {content: \"\";position: absolute;border-left: 1px solid gray;box-sizing: border-box;top: 0;bottom: 0;left: 50%;z-index: -1;}#sk-container-id-1 div.sk-parallel-item {display: flex;flex-direction: column;z-index: 1;position: relative;background-color: white;}#sk-container-id-1 div.sk-parallel-item:first-child::after {align-self: flex-end;width: 50%;}#sk-container-id-1 div.sk-parallel-item:last-child::after {align-self: flex-start;width: 50%;}#sk-container-id-1 div.sk-parallel-item:only-child::after {width: 0;}#sk-container-id-1 div.sk-dashed-wrapped {border: 1px dashed gray;margin: 0 0.4em 0.5em 0.4em;box-sizing: border-box;padding-bottom: 0.4em;background-color: white;}#sk-container-id-1 div.sk-label label {font-family: monospace;font-weight: bold;display: inline-block;line-height: 1.2em;}#sk-container-id-1 div.sk-label-container {text-align: center;}#sk-container-id-1 div.sk-container {/* jupyter's `normalize.less` sets `[hidden] { display: none; }` but bootstrap.min.css set `[hidden] { display: none !important; }` so we also need the `!important` here to be able to override the default hidden behavior on the sphinx rendered scikit-learn.org. See: https://github.com/scikit-learn/scikit-learn/issues/21755 */display: inline-block !important;position: relative;}#sk-container-id-1 div.sk-text-repr-fallback {display: none;}</style><div id=\"sk-container-id-1\" class=\"sk-top-container\"><div class=\"sk-text-repr-fallback\"><pre>RandomizedSearchCV(cv=StratifiedKFold(n_splits=5, random_state=None, shuffle=False),\n",
       "                   estimator=GradientBoostingClassifier(),\n",
       "                   param_distributions={&#x27;max_depth&#x27;: [1, 2, 3, 4, 5, 6, 7, 8,\n",
       "                                                      9],\n",
       "                                        &#x27;max_features&#x27;: [1, 2, 3, 4, 5, 6, 7, 8,\n",
       "                                                         9, 10, 11, 12, 13, 14,\n",
       "                                                         15, 16, 17, 18, 19, 20,\n",
       "                                                         21, 22, 23, 24, 25, 26,\n",
       "                                                         27, 28, 29, 30, ...],\n",
       "                                        &#x27;min_samples_leaf&#x27;: array([0.1, 0.2, 0.3, 0.4, 0.5]),\n",
       "                                        &#x27;min_samples_split&#x27;: array([0.1, 0.2, 0.3, 0.4, 0.5, 0.6, 0.7, 0.8, 0.9, 1. ]),\n",
       "                                        &#x27;n_estimators&#x27;: [50, 70, 90, 110, 130,\n",
       "                                                         150, 170, 190, 210,\n",
       "                                                         230, 250, 270, 290,\n",
       "                                                         310, 330, 350, 370,\n",
       "                                                         390, 410, 430, 450,\n",
       "                                                         470, 490]})</pre><b>In a Jupyter environment, please rerun this cell to show the HTML representation or trust the notebook. <br />On GitHub, the HTML representation is unable to render, please try loading this page with nbviewer.org.</b></div><div class=\"sk-container\" hidden><div class=\"sk-item sk-dashed-wrapped\"><div class=\"sk-label-container\"><div class=\"sk-label sk-toggleable\"><input class=\"sk-toggleable__control sk-hidden--visually\" id=\"sk-estimator-id-1\" type=\"checkbox\" ><label for=\"sk-estimator-id-1\" class=\"sk-toggleable__label sk-toggleable__label-arrow\">RandomizedSearchCV</label><div class=\"sk-toggleable__content\"><pre>RandomizedSearchCV(cv=StratifiedKFold(n_splits=5, random_state=None, shuffle=False),\n",
       "                   estimator=GradientBoostingClassifier(),\n",
       "                   param_distributions={&#x27;max_depth&#x27;: [1, 2, 3, 4, 5, 6, 7, 8,\n",
       "                                                      9],\n",
       "                                        &#x27;max_features&#x27;: [1, 2, 3, 4, 5, 6, 7, 8,\n",
       "                                                         9, 10, 11, 12, 13, 14,\n",
       "                                                         15, 16, 17, 18, 19, 20,\n",
       "                                                         21, 22, 23, 24, 25, 26,\n",
       "                                                         27, 28, 29, 30, ...],\n",
       "                                        &#x27;min_samples_leaf&#x27;: array([0.1, 0.2, 0.3, 0.4, 0.5]),\n",
       "                                        &#x27;min_samples_split&#x27;: array([0.1, 0.2, 0.3, 0.4, 0.5, 0.6, 0.7, 0.8, 0.9, 1. ]),\n",
       "                                        &#x27;n_estimators&#x27;: [50, 70, 90, 110, 130,\n",
       "                                                         150, 170, 190, 210,\n",
       "                                                         230, 250, 270, 290,\n",
       "                                                         310, 330, 350, 370,\n",
       "                                                         390, 410, 430, 450,\n",
       "                                                         470, 490]})</pre></div></div></div><div class=\"sk-parallel\"><div class=\"sk-parallel-item\"><div class=\"sk-item\"><div class=\"sk-label-container\"><div class=\"sk-label sk-toggleable\"><input class=\"sk-toggleable__control sk-hidden--visually\" id=\"sk-estimator-id-2\" type=\"checkbox\" ><label for=\"sk-estimator-id-2\" class=\"sk-toggleable__label sk-toggleable__label-arrow\">estimator: GradientBoostingClassifier</label><div class=\"sk-toggleable__content\"><pre>GradientBoostingClassifier()</pre></div></div></div><div class=\"sk-serial\"><div class=\"sk-item\"><div class=\"sk-estimator sk-toggleable\"><input class=\"sk-toggleable__control sk-hidden--visually\" id=\"sk-estimator-id-3\" type=\"checkbox\" ><label for=\"sk-estimator-id-3\" class=\"sk-toggleable__label sk-toggleable__label-arrow\">GradientBoostingClassifier</label><div class=\"sk-toggleable__content\"><pre>GradientBoostingClassifier()</pre></div></div></div></div></div></div></div></div></div></div>"
      ],
      "text/plain": [
       "RandomizedSearchCV(cv=StratifiedKFold(n_splits=5, random_state=None, shuffle=False),\n",
       "                   estimator=GradientBoostingClassifier(),\n",
       "                   param_distributions={'max_depth': [1, 2, 3, 4, 5, 6, 7, 8,\n",
       "                                                      9],\n",
       "                                        'max_features': [1, 2, 3, 4, 5, 6, 7, 8,\n",
       "                                                         9, 10, 11, 12, 13, 14,\n",
       "                                                         15, 16, 17, 18, 19, 20,\n",
       "                                                         21, 22, 23, 24, 25, 26,\n",
       "                                                         27, 28, 29, 30, ...],\n",
       "                                        'min_samples_leaf': array([0.1, 0.2, 0.3, 0.4, 0.5]),\n",
       "                                        'min_samples_split': array([0.1, 0.2, 0.3, 0.4, 0.5, 0.6, 0.7, 0.8, 0.9, 1. ]),\n",
       "                                        'n_estimators': [50, 70, 90, 110, 130,\n",
       "                                                         150, 170, 190, 210,\n",
       "                                                         230, 250, 270, 290,\n",
       "                                                         310, 330, 350, 370,\n",
       "                                                         390, 410, 430, 450,\n",
       "                                                         470, 490]})"
      ]
     },
     "execution_count": 140,
     "metadata": {},
     "output_type": "execute_result"
    }
   ],
   "source": [
    "boost_classifier.fit(X_train, Y_train)"
   ]
  },
  {
   "cell_type": "code",
   "execution_count": 141,
   "metadata": {},
   "outputs": [
    {
     "data": {
      "text/html": [
       "<style>#sk-container-id-2 {color: black;background-color: white;}#sk-container-id-2 pre{padding: 0;}#sk-container-id-2 div.sk-toggleable {background-color: white;}#sk-container-id-2 label.sk-toggleable__label {cursor: pointer;display: block;width: 100%;margin-bottom: 0;padding: 0.3em;box-sizing: border-box;text-align: center;}#sk-container-id-2 label.sk-toggleable__label-arrow:before {content: \"▸\";float: left;margin-right: 0.25em;color: #696969;}#sk-container-id-2 label.sk-toggleable__label-arrow:hover:before {color: black;}#sk-container-id-2 div.sk-estimator:hover label.sk-toggleable__label-arrow:before {color: black;}#sk-container-id-2 div.sk-toggleable__content {max-height: 0;max-width: 0;overflow: hidden;text-align: left;background-color: #f0f8ff;}#sk-container-id-2 div.sk-toggleable__content pre {margin: 0.2em;color: black;border-radius: 0.25em;background-color: #f0f8ff;}#sk-container-id-2 input.sk-toggleable__control:checked~div.sk-toggleable__content {max-height: 200px;max-width: 100%;overflow: auto;}#sk-container-id-2 input.sk-toggleable__control:checked~label.sk-toggleable__label-arrow:before {content: \"▾\";}#sk-container-id-2 div.sk-estimator input.sk-toggleable__control:checked~label.sk-toggleable__label {background-color: #d4ebff;}#sk-container-id-2 div.sk-label input.sk-toggleable__control:checked~label.sk-toggleable__label {background-color: #d4ebff;}#sk-container-id-2 input.sk-hidden--visually {border: 0;clip: rect(1px 1px 1px 1px);clip: rect(1px, 1px, 1px, 1px);height: 1px;margin: -1px;overflow: hidden;padding: 0;position: absolute;width: 1px;}#sk-container-id-2 div.sk-estimator {font-family: monospace;background-color: #f0f8ff;border: 1px dotted black;border-radius: 0.25em;box-sizing: border-box;margin-bottom: 0.5em;}#sk-container-id-2 div.sk-estimator:hover {background-color: #d4ebff;}#sk-container-id-2 div.sk-parallel-item::after {content: \"\";width: 100%;border-bottom: 1px solid gray;flex-grow: 1;}#sk-container-id-2 div.sk-label:hover label.sk-toggleable__label {background-color: #d4ebff;}#sk-container-id-2 div.sk-serial::before {content: \"\";position: absolute;border-left: 1px solid gray;box-sizing: border-box;top: 0;bottom: 0;left: 50%;z-index: 0;}#sk-container-id-2 div.sk-serial {display: flex;flex-direction: column;align-items: center;background-color: white;padding-right: 0.2em;padding-left: 0.2em;position: relative;}#sk-container-id-2 div.sk-item {position: relative;z-index: 1;}#sk-container-id-2 div.sk-parallel {display: flex;align-items: stretch;justify-content: center;background-color: white;position: relative;}#sk-container-id-2 div.sk-item::before, #sk-container-id-2 div.sk-parallel-item::before {content: \"\";position: absolute;border-left: 1px solid gray;box-sizing: border-box;top: 0;bottom: 0;left: 50%;z-index: -1;}#sk-container-id-2 div.sk-parallel-item {display: flex;flex-direction: column;z-index: 1;position: relative;background-color: white;}#sk-container-id-2 div.sk-parallel-item:first-child::after {align-self: flex-end;width: 50%;}#sk-container-id-2 div.sk-parallel-item:last-child::after {align-self: flex-start;width: 50%;}#sk-container-id-2 div.sk-parallel-item:only-child::after {width: 0;}#sk-container-id-2 div.sk-dashed-wrapped {border: 1px dashed gray;margin: 0 0.4em 0.5em 0.4em;box-sizing: border-box;padding-bottom: 0.4em;background-color: white;}#sk-container-id-2 div.sk-label label {font-family: monospace;font-weight: bold;display: inline-block;line-height: 1.2em;}#sk-container-id-2 div.sk-label-container {text-align: center;}#sk-container-id-2 div.sk-container {/* jupyter's `normalize.less` sets `[hidden] { display: none; }` but bootstrap.min.css set `[hidden] { display: none !important; }` so we also need the `!important` here to be able to override the default hidden behavior on the sphinx rendered scikit-learn.org. See: https://github.com/scikit-learn/scikit-learn/issues/21755 */display: inline-block !important;position: relative;}#sk-container-id-2 div.sk-text-repr-fallback {display: none;}</style><div id=\"sk-container-id-2\" class=\"sk-top-container\"><div class=\"sk-text-repr-fallback\"><pre>RandomizedSearchCV(cv=StratifiedKFold(n_splits=5, random_state=None, shuffle=False),\n",
       "                   estimator=RandomForestClassifier(class_weight={&#x27;D&#x27;: 0.7273706896551724,\n",
       "                                                                  &#x27;E&#x27;: 0.9698275862068966,\n",
       "                                                                  &#x27;F&#x27;: 0.7740825688073395,\n",
       "                                                                  &#x27;G&#x27;: 0.6643700787401575,\n",
       "                                                                  &#x27;H&#x27;: 1.0817307692307692,\n",
       "                                                                  &#x27;I&#x27;: 1.016566265060241,\n",
       "                                                                  &#x27;J&#x27;: 2.057926829268293,\n",
       "                                                                  &#x27;K&#x27;: 2.4816176470588234}),\n",
       "                   param_distributions={&#x27;max_depth&#x27;: [1, 2, 3, 4, 5, 6, 7, 8,\n",
       "                                                      9],\n",
       "                                        &#x27;max_features&#x27;: [1, 2, 3, 4, 5, 6, 7, 8,\n",
       "                                                         9, 10, 11, 12, 13, 14,\n",
       "                                                         15, 16, 17, 18, 19, 20,\n",
       "                                                         21, 22, 23, 24, 25, 26,\n",
       "                                                         27, 28, 29, 30, ...],\n",
       "                                        &#x27;min_samples_leaf&#x27;: array([0.1, 0.2, 0.3, 0.4, 0.5]),\n",
       "                                        &#x27;min_samples_split&#x27;: array([0.1, 0.2, 0.3, 0.4, 0.5, 0.6, 0.7, 0.8, 0.9, 1. ]),\n",
       "                                        &#x27;n_estimators&#x27;: [50, 70, 90, 110, 130,\n",
       "                                                         150, 170, 190, 210,\n",
       "                                                         230, 250, 270, 290,\n",
       "                                                         310, 330, 350, 370,\n",
       "                                                         390, 410, 430, 450,\n",
       "                                                         470, 490]})</pre><b>In a Jupyter environment, please rerun this cell to show the HTML representation or trust the notebook. <br />On GitHub, the HTML representation is unable to render, please try loading this page with nbviewer.org.</b></div><div class=\"sk-container\" hidden><div class=\"sk-item sk-dashed-wrapped\"><div class=\"sk-label-container\"><div class=\"sk-label sk-toggleable\"><input class=\"sk-toggleable__control sk-hidden--visually\" id=\"sk-estimator-id-4\" type=\"checkbox\" ><label for=\"sk-estimator-id-4\" class=\"sk-toggleable__label sk-toggleable__label-arrow\">RandomizedSearchCV</label><div class=\"sk-toggleable__content\"><pre>RandomizedSearchCV(cv=StratifiedKFold(n_splits=5, random_state=None, shuffle=False),\n",
       "                   estimator=RandomForestClassifier(class_weight={&#x27;D&#x27;: 0.7273706896551724,\n",
       "                                                                  &#x27;E&#x27;: 0.9698275862068966,\n",
       "                                                                  &#x27;F&#x27;: 0.7740825688073395,\n",
       "                                                                  &#x27;G&#x27;: 0.6643700787401575,\n",
       "                                                                  &#x27;H&#x27;: 1.0817307692307692,\n",
       "                                                                  &#x27;I&#x27;: 1.016566265060241,\n",
       "                                                                  &#x27;J&#x27;: 2.057926829268293,\n",
       "                                                                  &#x27;K&#x27;: 2.4816176470588234}),\n",
       "                   param_distributions={&#x27;max_depth&#x27;: [1, 2, 3, 4, 5, 6, 7, 8,\n",
       "                                                      9],\n",
       "                                        &#x27;max_features&#x27;: [1, 2, 3, 4, 5, 6, 7, 8,\n",
       "                                                         9, 10, 11, 12, 13, 14,\n",
       "                                                         15, 16, 17, 18, 19, 20,\n",
       "                                                         21, 22, 23, 24, 25, 26,\n",
       "                                                         27, 28, 29, 30, ...],\n",
       "                                        &#x27;min_samples_leaf&#x27;: array([0.1, 0.2, 0.3, 0.4, 0.5]),\n",
       "                                        &#x27;min_samples_split&#x27;: array([0.1, 0.2, 0.3, 0.4, 0.5, 0.6, 0.7, 0.8, 0.9, 1. ]),\n",
       "                                        &#x27;n_estimators&#x27;: [50, 70, 90, 110, 130,\n",
       "                                                         150, 170, 190, 210,\n",
       "                                                         230, 250, 270, 290,\n",
       "                                                         310, 330, 350, 370,\n",
       "                                                         390, 410, 430, 450,\n",
       "                                                         470, 490]})</pre></div></div></div><div class=\"sk-parallel\"><div class=\"sk-parallel-item\"><div class=\"sk-item\"><div class=\"sk-label-container\"><div class=\"sk-label sk-toggleable\"><input class=\"sk-toggleable__control sk-hidden--visually\" id=\"sk-estimator-id-5\" type=\"checkbox\" ><label for=\"sk-estimator-id-5\" class=\"sk-toggleable__label sk-toggleable__label-arrow\">estimator: RandomForestClassifier</label><div class=\"sk-toggleable__content\"><pre>RandomForestClassifier(class_weight={&#x27;D&#x27;: 0.7273706896551724,\n",
       "                                     &#x27;E&#x27;: 0.9698275862068966,\n",
       "                                     &#x27;F&#x27;: 0.7740825688073395,\n",
       "                                     &#x27;G&#x27;: 0.6643700787401575,\n",
       "                                     &#x27;H&#x27;: 1.0817307692307692,\n",
       "                                     &#x27;I&#x27;: 1.016566265060241,\n",
       "                                     &#x27;J&#x27;: 2.057926829268293,\n",
       "                                     &#x27;K&#x27;: 2.4816176470588234})</pre></div></div></div><div class=\"sk-serial\"><div class=\"sk-item\"><div class=\"sk-estimator sk-toggleable\"><input class=\"sk-toggleable__control sk-hidden--visually\" id=\"sk-estimator-id-6\" type=\"checkbox\" ><label for=\"sk-estimator-id-6\" class=\"sk-toggleable__label sk-toggleable__label-arrow\">RandomForestClassifier</label><div class=\"sk-toggleable__content\"><pre>RandomForestClassifier(class_weight={&#x27;D&#x27;: 0.7273706896551724,\n",
       "                                     &#x27;E&#x27;: 0.9698275862068966,\n",
       "                                     &#x27;F&#x27;: 0.7740825688073395,\n",
       "                                     &#x27;G&#x27;: 0.6643700787401575,\n",
       "                                     &#x27;H&#x27;: 1.0817307692307692,\n",
       "                                     &#x27;I&#x27;: 1.016566265060241,\n",
       "                                     &#x27;J&#x27;: 2.057926829268293,\n",
       "                                     &#x27;K&#x27;: 2.4816176470588234})</pre></div></div></div></div></div></div></div></div></div></div>"
      ],
      "text/plain": [
       "RandomizedSearchCV(cv=StratifiedKFold(n_splits=5, random_state=None, shuffle=False),\n",
       "                   estimator=RandomForestClassifier(class_weight={'D': 0.7273706896551724,\n",
       "                                                                  'E': 0.9698275862068966,\n",
       "                                                                  'F': 0.7740825688073395,\n",
       "                                                                  'G': 0.6643700787401575,\n",
       "                                                                  'H': 1.0817307692307692,\n",
       "                                                                  'I': 1.016566265060241,\n",
       "                                                                  'J': 2.057926829268293,\n",
       "                                                                  'K': 2.4816176470588234}),\n",
       "                   param_distributions={'max_depth': [1, 2, 3, 4, 5, 6, 7, 8,\n",
       "                                                      9],\n",
       "                                        'max_features': [1, 2, 3, 4, 5, 6, 7, 8,\n",
       "                                                         9, 10, 11, 12, 13, 14,\n",
       "                                                         15, 16, 17, 18, 19, 20,\n",
       "                                                         21, 22, 23, 24, 25, 26,\n",
       "                                                         27, 28, 29, 30, ...],\n",
       "                                        'min_samples_leaf': array([0.1, 0.2, 0.3, 0.4, 0.5]),\n",
       "                                        'min_samples_split': array([0.1, 0.2, 0.3, 0.4, 0.5, 0.6, 0.7, 0.8, 0.9, 1. ]),\n",
       "                                        'n_estimators': [50, 70, 90, 110, 130,\n",
       "                                                         150, 170, 190, 210,\n",
       "                                                         230, 250, 270, 290,\n",
       "                                                         310, 330, 350, 370,\n",
       "                                                         390, 410, 430, 450,\n",
       "                                                         470, 490]})"
      ]
     },
     "execution_count": 141,
     "metadata": {},
     "output_type": "execute_result"
    }
   ],
   "source": [
    "random_classifier.fit(X_train, Y_train)"
   ]
  },
  {
   "cell_type": "code",
   "execution_count": 142,
   "metadata": {},
   "outputs": [
    {
     "data": {
      "text/html": [
       "<style>#sk-container-id-3 {color: black;background-color: white;}#sk-container-id-3 pre{padding: 0;}#sk-container-id-3 div.sk-toggleable {background-color: white;}#sk-container-id-3 label.sk-toggleable__label {cursor: pointer;display: block;width: 100%;margin-bottom: 0;padding: 0.3em;box-sizing: border-box;text-align: center;}#sk-container-id-3 label.sk-toggleable__label-arrow:before {content: \"▸\";float: left;margin-right: 0.25em;color: #696969;}#sk-container-id-3 label.sk-toggleable__label-arrow:hover:before {color: black;}#sk-container-id-3 div.sk-estimator:hover label.sk-toggleable__label-arrow:before {color: black;}#sk-container-id-3 div.sk-toggleable__content {max-height: 0;max-width: 0;overflow: hidden;text-align: left;background-color: #f0f8ff;}#sk-container-id-3 div.sk-toggleable__content pre {margin: 0.2em;color: black;border-radius: 0.25em;background-color: #f0f8ff;}#sk-container-id-3 input.sk-toggleable__control:checked~div.sk-toggleable__content {max-height: 200px;max-width: 100%;overflow: auto;}#sk-container-id-3 input.sk-toggleable__control:checked~label.sk-toggleable__label-arrow:before {content: \"▾\";}#sk-container-id-3 div.sk-estimator input.sk-toggleable__control:checked~label.sk-toggleable__label {background-color: #d4ebff;}#sk-container-id-3 div.sk-label input.sk-toggleable__control:checked~label.sk-toggleable__label {background-color: #d4ebff;}#sk-container-id-3 input.sk-hidden--visually {border: 0;clip: rect(1px 1px 1px 1px);clip: rect(1px, 1px, 1px, 1px);height: 1px;margin: -1px;overflow: hidden;padding: 0;position: absolute;width: 1px;}#sk-container-id-3 div.sk-estimator {font-family: monospace;background-color: #f0f8ff;border: 1px dotted black;border-radius: 0.25em;box-sizing: border-box;margin-bottom: 0.5em;}#sk-container-id-3 div.sk-estimator:hover {background-color: #d4ebff;}#sk-container-id-3 div.sk-parallel-item::after {content: \"\";width: 100%;border-bottom: 1px solid gray;flex-grow: 1;}#sk-container-id-3 div.sk-label:hover label.sk-toggleable__label {background-color: #d4ebff;}#sk-container-id-3 div.sk-serial::before {content: \"\";position: absolute;border-left: 1px solid gray;box-sizing: border-box;top: 0;bottom: 0;left: 50%;z-index: 0;}#sk-container-id-3 div.sk-serial {display: flex;flex-direction: column;align-items: center;background-color: white;padding-right: 0.2em;padding-left: 0.2em;position: relative;}#sk-container-id-3 div.sk-item {position: relative;z-index: 1;}#sk-container-id-3 div.sk-parallel {display: flex;align-items: stretch;justify-content: center;background-color: white;position: relative;}#sk-container-id-3 div.sk-item::before, #sk-container-id-3 div.sk-parallel-item::before {content: \"\";position: absolute;border-left: 1px solid gray;box-sizing: border-box;top: 0;bottom: 0;left: 50%;z-index: -1;}#sk-container-id-3 div.sk-parallel-item {display: flex;flex-direction: column;z-index: 1;position: relative;background-color: white;}#sk-container-id-3 div.sk-parallel-item:first-child::after {align-self: flex-end;width: 50%;}#sk-container-id-3 div.sk-parallel-item:last-child::after {align-self: flex-start;width: 50%;}#sk-container-id-3 div.sk-parallel-item:only-child::after {width: 0;}#sk-container-id-3 div.sk-dashed-wrapped {border: 1px dashed gray;margin: 0 0.4em 0.5em 0.4em;box-sizing: border-box;padding-bottom: 0.4em;background-color: white;}#sk-container-id-3 div.sk-label label {font-family: monospace;font-weight: bold;display: inline-block;line-height: 1.2em;}#sk-container-id-3 div.sk-label-container {text-align: center;}#sk-container-id-3 div.sk-container {/* jupyter's `normalize.less` sets `[hidden] { display: none; }` but bootstrap.min.css set `[hidden] { display: none !important; }` so we also need the `!important` here to be able to override the default hidden behavior on the sphinx rendered scikit-learn.org. See: https://github.com/scikit-learn/scikit-learn/issues/21755 */display: inline-block !important;position: relative;}#sk-container-id-3 div.sk-text-repr-fallback {display: none;}</style><div id=\"sk-container-id-3\" class=\"sk-top-container\"><div class=\"sk-text-repr-fallback\"><pre>LGBMClassifier()</pre><b>In a Jupyter environment, please rerun this cell to show the HTML representation or trust the notebook. <br />On GitHub, the HTML representation is unable to render, please try loading this page with nbviewer.org.</b></div><div class=\"sk-container\" hidden><div class=\"sk-item\"><div class=\"sk-estimator sk-toggleable\"><input class=\"sk-toggleable__control sk-hidden--visually\" id=\"sk-estimator-id-7\" type=\"checkbox\" checked><label for=\"sk-estimator-id-7\" class=\"sk-toggleable__label sk-toggleable__label-arrow\">LGBMClassifier</label><div class=\"sk-toggleable__content\"><pre>LGBMClassifier()</pre></div></div></div></div></div>"
      ],
      "text/plain": [
       "LGBMClassifier()"
      ]
     },
     "execution_count": 142,
     "metadata": {},
     "output_type": "execute_result"
    }
   ],
   "source": [
    "light_gb_classifier.fit(X_train, Y_train)"
   ]
  },
  {
   "cell_type": "code",
   "execution_count": null,
   "metadata": {},
   "outputs": [],
   "source": [
    "pickle_model = pickle.load(open('/home/pankaj_v/Documents/Data_analysis_dixit/Models/lgb_model.pkl','rb'))"
   ]
  },
  {
   "cell_type": "code",
   "execution_count": null,
   "metadata": {},
   "outputs": [
    {
     "data": {
      "text/plain": [
       "{'n_estimators': 450,\n",
       " 'min_samples_split': 0.30000000000000004,\n",
       " 'min_samples_leaf': 0.1,\n",
       " 'max_features': 69,\n",
       " 'max_depth': 7}"
      ]
     },
     "execution_count": 353,
     "metadata": {},
     "output_type": "execute_result"
    }
   ],
   "source": [
    "boost_classifier.best_params_\n"
   ]
  },
  {
   "cell_type": "code",
   "execution_count": 149,
   "metadata": {},
   "outputs": [],
   "source": [
    "boost_new = boost_classifier.best_estimator_\n",
    "random_new = random_classifier.best_estimator_\n",
    "light_new = light_gb_classifier\n"
   ]
  },
  {
   "cell_type": "code",
   "execution_count": null,
   "metadata": {},
   "outputs": [
    {
     "ename": "NameError",
     "evalue": "name 'clf_new' is not defined",
     "output_type": "error",
     "traceback": [
      "\u001b[0;31m---------------------------------------------------------------------------\u001b[0m",
      "\u001b[0;31mNameError\u001b[0m                                 Traceback (most recent call last)",
      "\u001b[1;32m/home/pankaj_v/Documents/Data_analysis_dixit/notebooks/Color/quality_color_norm.ipynb Cell 44'\u001b[0m in \u001b[0;36m<cell line: 1>\u001b[0;34m()\u001b[0m\n\u001b[0;32m----> <a href='vscode-notebook-cell:/home/pankaj_v/Documents/Data_analysis_dixit/notebooks/Color/quality_color_norm.ipynb#ch0000041?line=0'>1</a>\u001b[0m clf_new\u001b[39m.\u001b[39mfeature_importances_\n",
      "\u001b[0;31mNameError\u001b[0m: name 'clf_new' is not defined"
     ]
    }
   ],
   "source": [
    "clf_new.feature_importances_"
   ]
  },
  {
   "cell_type": "code",
   "execution_count": null,
   "metadata": {},
   "outputs": [],
   "source": [
    "sfs1 = sfs(light_new,\n",
    "           k_features=5,\n",
    "           forward=True,\n",
    "           floating=False,\n",
    "           verbose=2,\n",
    "           scoring='accuracy',\n",
    "           cv=5)"
   ]
  },
  {
   "cell_type": "code",
   "execution_count": 160,
   "metadata": {},
   "outputs": [],
   "source": [
    "train_preds_boost = boost_new.predict(X_train)\n",
    "test_preds_boost = boost_new.predict(X_test)"
   ]
  },
  {
   "cell_type": "code",
   "execution_count": 154,
   "metadata": {},
   "outputs": [],
   "source": [
    "train_preds_random = random_new.predict(X_train)\n",
    "test_preds_random = random_new.predict(X_test)"
   ]
  },
  {
   "cell_type": "code",
   "execution_count": 155,
   "metadata": {},
   "outputs": [],
   "source": [
    "train_preds_light = light_new.predict(X_train)\n",
    "test_preds_light = light_new.predict(X_test)"
   ]
  },
  {
   "cell_type": "code",
   "execution_count": 156,
   "metadata": {},
   "outputs": [
    {
     "ename": "AttributeError",
     "evalue": "'LGBMClassifier' object has no attribute 'cv_results_'",
     "output_type": "error",
     "traceback": [
      "\u001b[0;31m---------------------------------------------------------------------------\u001b[0m",
      "\u001b[0;31mAttributeError\u001b[0m                            Traceback (most recent call last)",
      "\u001b[1;32m/home/pankaj_v/Documents/Data_analysis_dixit/notebooks/Color/quality_color_wdata.ipynb Cell 48'\u001b[0m in \u001b[0;36m<cell line: 1>\u001b[0;34m()\u001b[0m\n\u001b[0;32m----> <a href='vscode-notebook-cell:/home/pankaj_v/Documents/Data_analysis_dixit/notebooks/Color/quality_color_wdata.ipynb#ch0000046?line=0'>1</a>\u001b[0m pd\u001b[39m.\u001b[39mDataFrame(clf\u001b[39m.\u001b[39;49mcv_results_)\u001b[39m.\u001b[39miloc[:,\u001b[39m9\u001b[39m:]\n",
      "\u001b[0;31mAttributeError\u001b[0m: 'LGBMClassifier' object has no attribute 'cv_results_'"
     ]
    }
   ],
   "source": [
    "# pd.DataFrame(clf.cv_results_).iloc[:,9:]"
   ]
  },
  {
   "cell_type": "code",
   "execution_count": 161,
   "metadata": {},
   "outputs": [
    {
     "name": "stdout",
     "output_type": "stream",
     "text": [
      "              precision    recall  f1-score   support\n",
      "\n",
      "           D       0.74      0.59      0.66        39\n",
      "           E       0.44      0.50      0.47        32\n",
      "           F       0.49      0.56      0.52        36\n",
      "           G       0.43      0.44      0.43        41\n",
      "           H       0.32      0.31      0.32        29\n",
      "           I       0.35      0.38      0.36        32\n",
      "           J       0.33      0.25      0.29        24\n",
      "           K       0.54      0.65      0.59        20\n",
      "           M       0.00      0.00      0.00         1\n",
      "\n",
      "    accuracy                           0.46       254\n",
      "   macro avg       0.41      0.41      0.40       254\n",
      "weighted avg       0.46      0.46      0.46       254\n",
      "\n"
     ]
    }
   ],
   "source": [
    "print(classification_report(Y_test, test_preds_boost))"
   ]
  },
  {
   "cell_type": "code",
   "execution_count": 158,
   "metadata": {},
   "outputs": [
    {
     "name": "stdout",
     "output_type": "stream",
     "text": [
      "              precision    recall  f1-score   support\n",
      "\n",
      "           D       0.45      0.64      0.53        39\n",
      "           E       0.22      0.22      0.22        32\n",
      "           F       0.00      0.00      0.00        36\n",
      "           G       0.32      0.49      0.39        41\n",
      "           H       1.00      0.07      0.13        29\n",
      "           I       0.00      0.00      0.00        32\n",
      "           J       0.11      0.08      0.10        24\n",
      "           K       0.23      0.95      0.37        20\n",
      "           M       0.00      0.00      0.00         1\n",
      "\n",
      "    accuracy                           0.30       254\n",
      "   macro avg       0.26      0.27      0.19       254\n",
      "weighted avg       0.29      0.30      0.22       254\n",
      "\n"
     ]
    }
   ],
   "source": [
    "print(classification_report(Y_test, test_preds_random))\n"
   ]
  },
  {
   "cell_type": "code",
   "execution_count": 159,
   "metadata": {},
   "outputs": [
    {
     "name": "stdout",
     "output_type": "stream",
     "text": [
      "              precision    recall  f1-score   support\n",
      "\n",
      "           D       0.69      0.62      0.65        39\n",
      "           E       0.37      0.34      0.35        32\n",
      "           F       0.50      0.56      0.53        36\n",
      "           G       0.45      0.44      0.44        41\n",
      "           H       0.22      0.24      0.23        29\n",
      "           I       0.43      0.47      0.45        32\n",
      "           J       0.42      0.46      0.44        24\n",
      "           K       0.75      0.60      0.67        20\n",
      "           M       0.00      0.00      0.00         1\n",
      "\n",
      "    accuracy                           0.46       254\n",
      "   macro avg       0.42      0.41      0.42       254\n",
      "weighted avg       0.47      0.46      0.47       254\n",
      "\n"
     ]
    }
   ],
   "source": [
    "print(classification_report(Y_test, test_preds_light))"
   ]
  },
  {
   "cell_type": "code",
   "execution_count": null,
   "metadata": {},
   "outputs": [
    {
     "name": "stdout",
     "output_type": "stream",
     "text": [
      "86.76\n"
     ]
    }
   ],
   "source": [
    "print(round(accuracy_score(Y_test, test_preds)*100,2))"
   ]
  },
  {
   "cell_type": "code",
   "execution_count": null,
   "metadata": {},
   "outputs": [
    {
     "data": {
      "text/plain": [
       "array([[21,  1,  1,  0,  0,  0,  0,  0],\n",
       "       [ 6,  7,  3,  1,  0,  0,  0,  0],\n",
       "       [ 2,  4, 13,  2,  0,  1,  0,  0],\n",
       "       [ 3,  1,  2, 11,  3,  4,  1,  0],\n",
       "       [ 0,  0,  0,  8,  6,  2,  0,  0],\n",
       "       [ 0,  0,  1,  1,  4,  9,  2,  0],\n",
       "       [ 0,  0,  0,  0,  1,  0,  3,  4],\n",
       "       [ 0,  0,  0,  0,  0,  1,  1,  5]])"
      ]
     },
     "execution_count": 271,
     "metadata": {},
     "output_type": "execute_result"
    }
   ],
   "source": [
    "confusion_matrix(Y_test, test_preds)\n"
   ]
  },
  {
   "cell_type": "code",
   "execution_count": null,
   "metadata": {},
   "outputs": [],
   "source": []
  }
 ],
 "metadata": {
  "kernelspec": {
   "display_name": "Python 3.9.12 ('base')",
   "language": "python",
   "name": "python3"
  },
  "language_info": {
   "codemirror_mode": {
    "name": "ipython",
    "version": 3
   },
   "file_extension": ".py",
   "mimetype": "text/x-python",
   "name": "python",
   "nbconvert_exporter": "python",
   "pygments_lexer": "ipython3",
   "version": "3.9.12"
  },
  "orig_nbformat": 4,
  "vscode": {
   "interpreter": {
    "hash": "e49e7825c259a46fc518f8c8fed6b9fa090bf4f6d9fac061305ec26587cc5d03"
   }
  }
 },
 "nbformat": 4,
 "nbformat_minor": 2
}

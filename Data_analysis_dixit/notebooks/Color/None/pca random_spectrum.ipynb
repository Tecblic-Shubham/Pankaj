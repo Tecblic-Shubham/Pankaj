{
 "cells": [
  {
   "cell_type": "markdown",
   "metadata": {},
   "source": [
    "Importing all required libraries"
   ]
  },
  {
   "cell_type": "code",
   "execution_count": 1,
   "metadata": {},
   "outputs": [],
   "source": [
    "import pandas as pd\n",
    "import numpy as np\n",
    "import matplotlib.pyplot as plt\n",
    "import warnings\n",
    "warnings.filterwarnings('ignore')\n",
    "from sklearn.model_selection import train_test_split\n",
    "from sklearn.ensemble import RandomForestClassifier \n",
    "from sklearn.ensemble import ExtraTreesClassifier\n",
    "from sklearn.ensemble import GradientBoostingClassifier\n",
    "from sklearn.ensemble import AdaBoostClassifier\n",
    "from sklearn.model_selection import GridSearchCV\n",
    "from sklearn.model_selection import RandomizedSearchCV\n",
    "from sklearn.metrics import roc_auc_score, confusion_matrix, accuracy_score, classification_report\n",
    "import pickle\n",
    "import os\n",
    "import glob\n",
    "import seaborn as sns\n",
    "import lightgbm as lgb\n",
    "from sklearn.tree import DecisionTreeClassifier\n",
    "from sklearn.naive_bayes import CategoricalNB\n",
    "from sklearn import preprocessing\n",
    "from sklearn.utils import class_weight\n",
    "from sklearn.model_selection import cross_val_score,StratifiedKFold\n",
    "import xgboost as xgb\n",
    "from sklearn.preprocessing import LabelEncoder\n",
    "from sklearn.decomposition import PCA\n",
    "from sklearn.preprocessing import StandardScaler,MinMaxScaler"
   ]
  },
  {
   "cell_type": "code",
   "execution_count": 39,
   "metadata": {},
   "outputs": [
    {
     "name": "stdout",
     "output_type": "stream",
     "text": [
      "Requirement already satisfied: xgboost==0.90 in /home/pankaj_v/anaconda3/lib/python3.9/site-packages (0.90)\n",
      "Requirement already satisfied: scipy in /home/pankaj_v/anaconda3/lib/python3.9/site-packages (from xgboost==0.90) (1.7.3)\n",
      "Requirement already satisfied: numpy in /home/pankaj_v/anaconda3/lib/python3.9/site-packages (from xgboost==0.90) (1.21.5)\n",
      "Note: you may need to restart the kernel to use updated packages.\n"
     ]
    }
   ],
   "source": [
    "pip install xgboost==0.90"
   ]
  },
  {
   "cell_type": "code",
   "execution_count": 40,
   "metadata": {},
   "outputs": [
    {
     "name": "stdout",
     "output_type": "stream",
     "text": [
      "Requirement already satisfied: openpyxl in /home/pankaj_v/anaconda3/lib/python3.9/site-packages (3.0.9)\n",
      "Requirement already satisfied: et-xmlfile in /home/pankaj_v/anaconda3/lib/python3.9/site-packages (from openpyxl) (1.1.0)\n",
      "Note: you may need to restart the kernel to use updated packages.\n"
     ]
    }
   ],
   "source": [
    "pip install openpyxl"
   ]
  },
  {
   "cell_type": "markdown",
   "metadata": {},
   "source": [
    "Collecting and merging the Data\n"
   ]
  },
  {
   "cell_type": "code",
   "execution_count": 2,
   "metadata": {},
   "outputs": [
    {
     "name": "stdout",
     "output_type": "stream",
     "text": [
      "{'27-06-2022-09-57-30.csv'} Unnamed: 1059 (24, 1060)\n",
      "{'29-06-2022-02-45-53.csv'} Unnamed: 1059 (16, 1060)\n",
      "{'24-06-2022-10-27-46.csv'} Unnamed: 1059 (72, 1060)\n",
      "{'29-06-2022-02-00-08.csv'} Unnamed: 1059 (48, 1060)\n",
      "{'21-06-2022-01-05-54.csv'} Unnamed: 1059 (78, 1060)\n",
      "{'17-06-2022-09-15-43.csv'} Unnamed: 1059 (191, 1060)\n",
      "{'20-06-2022-09-28-42.csv'} 985.082 (132, 1059)\n",
      "{'06-06-2022-01-18-32.csv'} Unnamed: 1059 (224, 1060)\n",
      "{'24-06-2022-10-04-49.csv'} Unnamed: 1059 (18, 1060)\n",
      "{'01-07-2022-10-40-27.csv'} Unnamed: 1059 (160, 1060)\n",
      "{'15-06-2022-11-41-28.csv'} Unnamed: 1059 (42, 1060)\n",
      "{'15-06-2022-09-22-29.csv'} Unnamed: 1059 (142, 1060)\n",
      "{'24-06-2022-11-09-58.csv'} Unnamed: 1059 (154, 1060)\n",
      "{'17-06-2022-10-46-40.csv'} Unnamed: 1059 (186, 1060)\n",
      "{'23-06-2022-11-41-47.csv'} Unnamed: 1059 (29, 1060)\n",
      "{'29-06-2022-02-55-42.csv'} Unnamed: 1059 (120, 1060)\n",
      "{'14-06-2022-02-39-44.csv'} Unnamed: 1059 (80, 1060)\n",
      "{'23-06-2022-12-01-36.csv'} Unnamed: 1059 (28, 1060)\n",
      "{'01-07-2022-01-53-38.csv'} Unnamed: 1059 (249, 1060)\n",
      "{'16-06-2022-09-19-09.csv'} Unnamed: 1059 (348, 1060)\n",
      "{'14-06-2022-11-43-30.csv'} Unnamed: 1059 (102, 1060)\n",
      "{'29-06-2022-10-07-11.csv'} Unnamed: 1059 (180, 1060)\n",
      "{'14-06-2022-09-29-19.csv'} Unnamed: 1059 (198, 1060)\n",
      "{'20-06-2022-10-55-12.csv'} Unnamed: 1059 (222, 1060)\n",
      "{'23-06-2022-10-36-59.csv'} Unnamed: 1059 (77, 1060)\n",
      "{'21-06-2022-11-30-21.csv'} Unnamed: 1059 (110, 1060)\n",
      "{'24-06-2022-09-46-56.csv'} Unnamed: 1059 (10, 1060)\n",
      "{'28-06-2022-09-47-30.csv'} Unnamed: 1059 (254, 1060)\n",
      "{'22-06-2022-09-32-11.xlsx'} (680, 1059) 985.082 (680, 1059)\n",
      "{'30-06-2022-10-13-50.csv'} Unnamed: 1059 (210, 1060)\n",
      "{'21-06-2022-09-22-35.csv'} Unnamed: 1059 (250, 1060)\n",
      "{'New Microsoft Excel Worksheet2.xlsx'} (224, 1059) 985.082 (224, 1059)\n",
      "{'14-06-2022-01-10-45.csv'} Unnamed: 1059 (92, 1060)\n",
      "{'15-06-2022-10-43-35.csv'} Unnamed: 1059 (80, 1060)\n",
      "{'28-06-2022-02-08-01.csv'} Unnamed: 1059 (240, 1060)\n",
      "{'18-06-2022-09-16-10.csv'} Unnamed: 1059 (322, 1060)\n"
     ]
    }
   ],
   "source": [
    "i = 1\n",
    "frames = []\n",
    "for name in os.listdir('/home/pankaj_v/Documents/Data_analysis_dixit/dATA/client_data'):\n",
    "    extents = os.path.splitext('/home/pankaj_v/Documents/Data_analysis_dixit/dATA/client_data'+'/{}'.format(name))[1].lower()\n",
    "    if extents == '.csv':\n",
    "        df = pd.read_csv('/home/pankaj_v/Documents/Data_analysis_dixit/dATA/client_data/{}'.format(name))\n",
    "        print({name},df.columns[-1], df.shape)\n",
    "        frames.append(df)\n",
    "    if extents == '.xlsx':\n",
    "        df= pd.read_excel('/home/pankaj_v/Documents/Data_analysis_dixit/dATA/client_data/{}'.format(name))\n",
    "        df.columns = df.columns.astype(str)\n",
    "        frames.append(df)\n",
    "        print({name},df.shape, df.columns[-1], df.shape)\n",
    "\n",
    "result =  pd.concat(frames, axis=0, ignore_index= False)"
   ]
  },
  {
   "cell_type": "code",
   "execution_count": 1111,
   "metadata": {},
   "outputs": [],
   "source": [
    "# result.to_excel('/home/pankaj_v/Downloads/whole_data.xlsx')"
   ]
  },
  {
   "cell_type": "code",
   "execution_count": 3,
   "metadata": {},
   "outputs": [],
   "source": [
    "result.rename(columns = {' ': 'Output'}, inplace=True)"
   ]
  },
  {
   "cell_type": "code",
   "execution_count": 4,
   "metadata": {},
   "outputs": [],
   "source": [
    "result_3 =result.loc[:,'Output']\n",
    "result_2= result.loc[:,'195.462':'985.082']\n",
    "result_1= result.iloc[:,1:14]"
   ]
  },
  {
   "cell_type": "code",
   "execution_count": 1237,
   "metadata": {},
   "outputs": [
    {
     "name": "stdout",
     "output_type": "stream",
     "text": [
      "(5592, 1044) (5592,)\n"
     ]
    }
   ],
   "source": [
    "print(result_2.shape, result_3.shape)"
   ]
  },
  {
   "cell_type": "code",
   "execution_count": 5,
   "metadata": {},
   "outputs": [],
   "source": [
    "df = pd.concat([result_1,result_2,result_3], axis=1)"
   ]
  },
  {
   "cell_type": "code",
   "execution_count": null,
   "metadata": {},
   "outputs": [],
   "source": [
    "# df.to_excel('/home/pankaj_v/Documents/Data_analysis_dixit/dATA/Processed_data/whole_data.xlsx')"
   ]
  },
  {
   "cell_type": "markdown",
   "metadata": {},
   "source": [
    "Data preprocessing"
   ]
  },
  {
   "cell_type": "code",
   "execution_count": 6,
   "metadata": {},
   "outputs": [],
   "source": [
    "df_without_calb = df[~df['Output'].str.contains(('Calibration|CALIBARTION|CALIBARATION'),case=False, regex=True, na = False)]\n",
    "df_without_calb.reset_index()\n",
    "df_without_calb['w/f']= df_without_calb['Output'].str.split('_').str[0]"
   ]
  },
  {
   "cell_type": "code",
   "execution_count": 7,
   "metadata": {},
   "outputs": [],
   "source": [
    "df_with_w = df_without_calb[df_without_calb['w/f'] == 'W']\n"
   ]
  },
  {
   "cell_type": "code",
   "execution_count": 8,
   "metadata": {},
   "outputs": [],
   "source": [
    "df_with_w['quality'] = df_with_w['Output'].str.split('_').str[3]\n",
    "df_with_w['quality'].replace({'brown':'None','Pink':'None', 'LB':'None','LB ':'None', 'Faint YELLOW':'Faint', 'Faint YELLOW':'Faint', 'Faint GREEN':'Faint','  ':'None', 'BROWN':'Faint', 'Lblack':'Faint', 'lb ':'None','Black':'None'}, inplace = True)\n",
    "\n",
    "df_with_w['color'] = df_with_w['Output'].str.split('_').str[2]\n",
    "df_with_w['color'].replace({'E LB':'E','F/LB':'F','G/LB':'G','E/LB':'E', ' K':'K', 'G LB ':'G', 'H ':'H'}, inplace = True)\n"
   ]
  },
  {
   "cell_type": "code",
   "execution_count": 1068,
   "metadata": {},
   "outputs": [],
   "source": [
    "df_without_calb['quality'] = df_without_calb['Output'].str.split('_').str[3]\n",
    "df_without_calb['quality'].replace({'brown':'None','Pink':'None', 'LB':'None','LB ':'None', 'Faint YELLOW':'Faint', 'Faint YELLOW':'Faint', 'Faint GREEN':'Faint','  ':'None', 'BROWN':'Faint', 'Lblack':'Faint', 'lb ':'None','Black':'None'}, inplace = True)\n",
    "df_without_calb['w/f'].replace({'W':1,'F':0}, inplace = True)\n",
    "df_without_calb['color'] = df_without_calb['Output'].str.split('_').str[2]\n",
    "df_without_calb['color'].replace({'F/LB':'F','G/LB':'G','E LB':'E', ' K':'K', 'G LB ':'G', 'H ':'H'}, inplace = True)"
   ]
  },
  {
   "cell_type": "code",
   "execution_count": 15,
   "metadata": {},
   "outputs": [],
   "source": [
    "# Seperating Data with quality\n",
    "df_without_calb_None  = df_with_w[df_with_w['quality'] == 'None']\n",
    "df_without_calb_faint  = df_with_w[df_with_w['quality'] == 'Faint']\n",
    "df_without_calb_medium  = df_with_w[df_with_w['quality'] == 'Medium']\n",
    "df_without_calb_verystroong  = df_with_w[df_with_w['quality'] == 'Very Strong']\n",
    "df_without_calb_strong = df_with_w[df_with_w['quality'] == 'Strong']"
   ]
  },
  {
   "cell_type": "code",
   "execution_count": 16,
   "metadata": {},
   "outputs": [],
   "source": [
    "df_without_calb_None.reset_index(drop= True,inplace = True)"
   ]
  },
  {
   "cell_type": "code",
   "execution_count": 18,
   "metadata": {},
   "outputs": [],
   "source": [
    "df_without_calb_None.drop(index=[232], inplace=True)"
   ]
  },
  {
   "cell_type": "code",
   "execution_count": 19,
   "metadata": {},
   "outputs": [
    {
     "data": {
      "text/plain": [
       "G    215\n",
       "F    166\n",
       "D    161\n",
       "H    137\n",
       "E    123\n",
       "I    114\n",
       "J     59\n",
       "K     58\n",
       "Name: color, dtype: int64"
      ]
     },
     "execution_count": 19,
     "metadata": {},
     "output_type": "execute_result"
    }
   ],
   "source": [
    "df_without_calb_None['color'].value_counts()"
   ]
  },
  {
   "cell_type": "markdown",
   "metadata": {},
   "source": [
    "Creating subset of important features and removing Outliers and checking with boxplot"
   ]
  },
  {
   "cell_type": "code",
   "execution_count": 24,
   "metadata": {},
   "outputs": [],
   "source": [
    "data1 = pd.concat([df_without_calb_None.iloc[:,:13],df_without_calb_None.loc[:,'363.707':'423.503'], df_without_calb_None.iloc[:,-1]], axis=1)"
   ]
  },
  {
   "cell_type": "code",
   "execution_count": 25,
   "metadata": {},
   "outputs": [
    {
     "data": {
      "text/plain": [
       "Index(['L*', 'a*', 'b*', 'X', 'Y', 'Z', 'Dominant Wavelenght', 'Whiteness',\n",
       "       'Purity', 'Tint', 'Chroma', 'Hue', 'Color Temperature', '363.707',\n",
       "       '364.486', '365.266', '366.044', '366.823', '367.602', '368.381',\n",
       "       '369.16', '369.938', '370.717', '371.496', '372.274', '373.052',\n",
       "       '373.831', '374.609', '375.387', '376.165', '376.943', '377.721',\n",
       "       '378.499', '379.277', '380.055', '380.833', '381.61', '382.388',\n",
       "       '383.165', '383.943', '384.72', '385.498', '386.275', '387.052',\n",
       "       '387.829', '388.606', '389.383', '390.16', '390.937', '391.714',\n",
       "       '392.49', '393.267', '394.044', '394.82', '395.596', '396.373',\n",
       "       '397.149', '397.925', '398.702', '399.478', '400.254', '401.03',\n",
       "       '401.806', '402.581', '403.357', '404.133', '404.908', '405.684',\n",
       "       '406.459', '407.235', '408.01', '408.786', '409.561', '410.336',\n",
       "       '411.111', '411.886', '412.661', '413.436', '414.211', '414.985',\n",
       "       '415.76', '416.535', '417.309', '418.084', '418.858', '419.632',\n",
       "       '420.407', '421.181', '421.955', '422.729', '423.503', 'color'],\n",
       "      dtype='object')"
      ]
     },
     "execution_count": 25,
     "metadata": {},
     "output_type": "execute_result"
    }
   ],
   "source": [
    "data1.columns"
   ]
  },
  {
   "cell_type": "code",
   "execution_count": 27,
   "metadata": {},
   "outputs": [],
   "source": [
    "for cl in data1.iloc[:,:-1].columns:\n",
    "    data1.drop(index = data1[cl].idxmax(), inplace=True)\n",
    "    data1.drop(index=data1[cl].idxmin(), inplace=True)"
   ]
  },
  {
   "cell_type": "code",
   "execution_count": 42,
   "metadata": {},
   "outputs": [
    {
     "data": {
      "image/png": "[encoded data removed]",
      "text/plain": [
       "<Figure size 1440x720 with 1 Axes>"
      ]
     },
     "metadata": {
      "needs_background": "light"
     },
     "output_type": "display_data"
    }
   ],
   "source": [
    "plt.figure(figsize=(20,10))\n",
    "sns.boxplot(data = data1.iloc[:,:])\n",
    "plt.xticks(rotation = 90)\n",
    "plt.show()"
   ]
  },
  {
   "cell_type": "markdown",
   "metadata": {},
   "source": [
    "Plotting lineplot of colorwise values of none qualities"
   ]
  },
  {
   "cell_type": "code",
   "execution_count": 43,
   "metadata": {},
   "outputs": [
    {
     "ename": "KeyError",
     "evalue": "\"None of ['color'] are in the columns\"",
     "output_type": "error",
     "traceback": [
      "\u001b[0;31m---------------------------------------------------------------------------\u001b[0m",
      "\u001b[0;31mKeyError\u001b[0m                                  Traceback (most recent call last)",
      "\u001b[1;32m/home/pankaj_v/Documents/Data_analysis_dixit/notebooks/Color/None/pca random_spectrum.ipynb Cell 29'\u001b[0m in \u001b[0;36m<cell line: 2>\u001b[0;34m()\u001b[0m\n\u001b[1;32m      <a href='vscode-notebook-cell:/home/pankaj_v/Documents/Data_analysis_dixit/notebooks/Color/None/pca%20random_spectrum.ipynb#ch0000032?line=0'>1</a>\u001b[0m plt\u001b[39m.\u001b[39mfigure(figsize\u001b[39m=\u001b[39m(\u001b[39m20\u001b[39m,\u001b[39m10\u001b[39m))\n\u001b[0;32m----> <a href='vscode-notebook-cell:/home/pankaj_v/Documents/Data_analysis_dixit/notebooks/Color/None/pca%20random_spectrum.ipynb#ch0000032?line=1'>2</a>\u001b[0m data2 \u001b[39m=\u001b[39m data1\u001b[39m.\u001b[39;49miloc[:,:\u001b[39m13\u001b[39;49m]\u001b[39m.\u001b[39;49mset_index([\u001b[39m\"\u001b[39;49m\u001b[39mcolor\u001b[39;49m\u001b[39m\"\u001b[39;49m])\u001b[39m.\u001b[39mT\n\u001b[1;32m      <a href='vscode-notebook-cell:/home/pankaj_v/Documents/Data_analysis_dixit/notebooks/Color/None/pca%20random_spectrum.ipynb#ch0000032?line=2'>3</a>\u001b[0m g1 \u001b[39m=\u001b[39m sns\u001b[39m.\u001b[39mlineplot(data\u001b[39m=\u001b[39mdata2, ci\u001b[39m=\u001b[39m\u001b[39m99\u001b[39m)\n\u001b[1;32m      <a href='vscode-notebook-cell:/home/pankaj_v/Documents/Data_analysis_dixit/notebooks/Color/None/pca%20random_spectrum.ipynb#ch0000032?line=3'>4</a>\u001b[0m \u001b[39m# g1.set(xticklabels=[data1.columns])\u001b[39;00m\n",
      "File \u001b[0;32m~/anaconda3/lib/python3.9/site-packages/pandas/util/_decorators.py:311\u001b[0m, in \u001b[0;36mdeprecate_nonkeyword_arguments.<locals>.decorate.<locals>.wrapper\u001b[0;34m(*args, **kwargs)\u001b[0m\n\u001b[1;32m    305\u001b[0m \u001b[39mif\u001b[39;00m \u001b[39mlen\u001b[39m(args) \u001b[39m>\u001b[39m num_allow_args:\n\u001b[1;32m    306\u001b[0m     warnings\u001b[39m.\u001b[39mwarn(\n\u001b[1;32m    307\u001b[0m         msg\u001b[39m.\u001b[39mformat(arguments\u001b[39m=\u001b[39marguments),\n\u001b[1;32m    308\u001b[0m         \u001b[39mFutureWarning\u001b[39;00m,\n\u001b[1;32m    309\u001b[0m         stacklevel\u001b[39m=\u001b[39mstacklevel,\n\u001b[1;32m    310\u001b[0m     )\n\u001b[0;32m--> 311\u001b[0m \u001b[39mreturn\u001b[39;00m func(\u001b[39m*\u001b[39;49margs, \u001b[39m*\u001b[39;49m\u001b[39m*\u001b[39;49mkwargs)\n",
      "File \u001b[0;32m~/anaconda3/lib/python3.9/site-packages/pandas/core/frame.py:5494\u001b[0m, in \u001b[0;36mDataFrame.set_index\u001b[0;34m(self, keys, drop, append, inplace, verify_integrity)\u001b[0m\n\u001b[1;32m   5491\u001b[0m                 missing\u001b[39m.\u001b[39mappend(col)\n\u001b[1;32m   5493\u001b[0m \u001b[39mif\u001b[39;00m missing:\n\u001b[0;32m-> 5494\u001b[0m     \u001b[39mraise\u001b[39;00m \u001b[39mKeyError\u001b[39;00m(\u001b[39mf\u001b[39m\u001b[39m\"\u001b[39m\u001b[39mNone of \u001b[39m\u001b[39m{\u001b[39;00mmissing\u001b[39m}\u001b[39;00m\u001b[39m are in the columns\u001b[39m\u001b[39m\"\u001b[39m)\n\u001b[1;32m   5496\u001b[0m \u001b[39mif\u001b[39;00m inplace:\n\u001b[1;32m   5497\u001b[0m     frame \u001b[39m=\u001b[39m \u001b[39mself\u001b[39m\n",
      "\u001b[0;31mKeyError\u001b[0m: \"None of ['color'] are in the columns\""
     ]
    },
    {
     "data": {
      "text/plain": [
       "<Figure size 1440x720 with 0 Axes>"
      ]
     },
     "metadata": {},
     "output_type": "display_data"
    }
   ],
   "source": [
    "plt.figure(figsize=(20,10))\n",
    "data2 = data1.iloc[:,:13].set_index([\"color\"]).T\n",
    "g1 = sns.lineplot(data=data2, ci=99)\n",
    "# g1.set(xticklabels=[data1.columns])\n",
    "g1.set_title('None Quality vs differnt colors')\n",
    "plt.xticks(rotation = 90)\n",
    "plt.show()"
   ]
  },
  {
   "cell_type": "code",
   "execution_count": 53,
   "metadata": {},
   "outputs": [],
   "source": [
    "encoder = LabelEncoder()\n",
    "df_without_calb_None.iloc[:,-1] = encoder.fit_transform(Y)"
   ]
  },
  {
   "cell_type": "markdown",
   "metadata": {},
   "source": [
    "Creating Datasets for Training and Testing"
   ]
  },
  {
   "cell_type": "code",
   "execution_count": 1339,
   "metadata": {},
   "outputs": [
    {
     "data": {
      "text/plain": [
       "(759, 79)"
      ]
     },
     "execution_count": 1339,
     "metadata": {},
     "output_type": "execute_result"
    }
   ],
   "source": [
    "data1.shape"
   ]
  },
  {
   "cell_type": "code",
   "execution_count": 1340,
   "metadata": {},
   "outputs": [],
   "source": [
    "X = data1.iloc[:,:-1]\n",
    "Y = data1.iloc[:,-1]"
   ]
  },
  {
   "cell_type": "code",
   "execution_count": 1341,
   "metadata": {},
   "outputs": [],
   "source": [
    "X_train, X_test, Y_train, Y_test = train_test_split(X,Y, test_size = 0.2, random_state =42, stratify = Y)"
   ]
  },
  {
   "cell_type": "code",
   "execution_count": 1342,
   "metadata": {},
   "outputs": [
    {
     "name": "stdout",
     "output_type": "stream",
     "text": [
      "(607, 78) (152, 78)\n"
     ]
    }
   ],
   "source": [
    "print(X_train.shape,X_test.shape)"
   ]
  },
  {
   "cell_type": "markdown",
   "metadata": {},
   "source": [
    "Creating Stratified K Folds  "
   ]
  },
  {
   "cell_type": "code",
   "execution_count": 1344,
   "metadata": {},
   "outputs": [],
   "source": [
    "skf =StratifiedKFold(n_splits=5, random_state=42, shuffle=True)"
   ]
  },
  {
   "cell_type": "markdown",
   "metadata": {},
   "source": [
    "Calculating Weights for each class\n"
   ]
  },
  {
   "cell_type": "code",
   "execution_count": 1343,
   "metadata": {},
   "outputs": [
    {
     "data": {
      "text/plain": [
       "{'G': 0.6520618556701031,\n",
       " 'F': 0.8547297297297297,\n",
       " 'H': 1.0541666666666667,\n",
       " 'D': 1.0541666666666667,\n",
       " 'E': 1.1294642857142858,\n",
       " 'I': 1.9461538461538461}"
      ]
     },
     "execution_count": 1343,
     "metadata": {},
     "output_type": "execute_result"
    }
   ],
   "source": [
    "balanced = class_weight.compute_class_weight(class_weight='balanced', classes=data1['color'].value_counts().keys(),y=Y)\n",
    "balanced = dict(zip(data1['color'].value_counts().keys(),balanced))\n",
    "balanced"
   ]
  },
  {
   "cell_type": "markdown",
   "metadata": {},
   "source": [
    "Applying Random Forest"
   ]
  },
  {
   "cell_type": "code",
   "execution_count": 946,
   "metadata": {},
   "outputs": [],
   "source": [
    "forest = RandomForestClassifier(class_weight = balanced, oob_score=True)\n",
    "params = {\n",
    "    'max_depth': [*range(1, 10)],\n",
    "    'min_samples_leaf': [*range(1,10,1)],\n",
    "    'max_features': [*range(35,45,1)],\n",
    "    'n_estimators': [*range(200, 210, 1)],\n",
    "    'max_leaf_nodes': [*range(180, 220, 3)],\n",
    "    'min_samples_split':[2,3,4,5,6]\n",
    "    }\n",
    "\n",
    "rand_foresr_CV = RandomizedSearchCV(et, param_distributions=params , cv = skf, n_iter=50)"
   ]
  },
  {
   "cell_type": "code",
   "execution_count": 1363,
   "metadata": {},
   "outputs": [],
   "source": [
    "\n",
    "clf = rand_foresr_CV.fit(x_train, Y_train)"
   ]
  },
  {
   "cell_type": "code",
   "execution_count": 866,
   "metadata": {},
   "outputs": [],
   "source": [
    "et = rand_foresr_CV.best_estimator_"
   ]
  },
  {
   "cell_type": "code",
   "execution_count": 938,
   "metadata": {},
   "outputs": [
    {
     "data": {
      "text/html": [
       "<div>\n",
       "<style scoped>\n",
       "    .dataframe tbody tr th:only-of-type {\n",
       "        vertical-align: middle;\n",
       "    }\n",
       "\n",
       "    .dataframe tbody tr th {\n",
       "        vertical-align: top;\n",
       "    }\n",
       "\n",
       "    .dataframe thead th {\n",
       "        text-align: right;\n",
       "    }\n",
       "</style>\n",
       "<table border=\"1\" class=\"dataframe\">\n",
       "  <thead>\n",
       "    <tr style=\"text-align: right;\">\n",
       "      <th></th>\n",
       "      <th>mean_fit_time</th>\n",
       "      <th>std_fit_time</th>\n",
       "      <th>mean_score_time</th>\n",
       "      <th>std_score_time</th>\n",
       "      <th>params</th>\n",
       "      <th>split0_test_score</th>\n",
       "      <th>split1_test_score</th>\n",
       "      <th>split2_test_score</th>\n",
       "      <th>split3_test_score</th>\n",
       "      <th>split4_test_score</th>\n",
       "      <th>mean_test_score</th>\n",
       "      <th>std_test_score</th>\n",
       "      <th>rank_test_score</th>\n",
       "    </tr>\n",
       "  </thead>\n",
       "  <tbody>\n",
       "    <tr>\n",
       "      <th>0</th>\n",
       "      <td>2.999032</td>\n",
       "      <td>0.069239</td>\n",
       "      <td>0.029705</td>\n",
       "      <td>0.001621</td>\n",
       "      <td>{}</td>\n",
       "      <td>0.542553</td>\n",
       "      <td>0.530249</td>\n",
       "      <td>0.55516</td>\n",
       "      <td>0.508897</td>\n",
       "      <td>0.533808</td>\n",
       "      <td>0.534133</td>\n",
       "      <td>0.015265</td>\n",
       "      <td>1</td>\n",
       "    </tr>\n",
       "  </tbody>\n",
       "</table>\n",
       "</div>"
      ],
      "text/plain": [
       "   mean_fit_time  std_fit_time  mean_score_time  std_score_time params  \\\n",
       "0       2.999032      0.069239         0.029705        0.001621     {}   \n",
       "\n",
       "   split0_test_score  split1_test_score  split2_test_score  split3_test_score  \\\n",
       "0           0.542553           0.530249            0.55516           0.508897   \n",
       "\n",
       "   split4_test_score  mean_test_score  std_test_score  rank_test_score  \n",
       "0           0.533808         0.534133        0.015265                1  "
      ]
     },
     "execution_count": 938,
     "metadata": {},
     "output_type": "execute_result"
    }
   ],
   "source": [
    "pd.DataFrame(clf.cv_results_)"
   ]
  },
  {
   "cell_type": "markdown",
   "metadata": {},
   "source": [
    "Applying Extra Trees Classifier"
   ]
  },
  {
   "cell_type": "code",
   "execution_count": 976,
   "metadata": {},
   "outputs": [],
   "source": [
    "# min_samples_leaf= 1,n_estimators=300,warm_start=True, max_features = 2,criterion = 'entropy',random_state=42, max_depth=15,bootstrap=True, max_samples=140"
   ]
  },
  {
   "cell_type": "code",
   "execution_count": 1346,
   "metadata": {},
   "outputs": [],
   "source": [
    "et = ExtraTreesClassifier(max_depth=14, min_samples_leaf = 2, max_features='sqrt')\n",
    "params = {\n",
    "    # 'max_depth': [*range(10, 25)],\n",
    "    # 'min_samples_leaf': [*range(1,10,1)],\n",
    "    # 'max_features': [*range(1,10,1)],\n",
    "    # 'n_estimators': [*range(90, 120, 2)],\n",
    "    # 'max_leaf_nodes': [*range(50, 200, 10)],\n",
    "    # 'min_samples_split':[2,3,4,5,6]\n",
    "    }\n",
    "\n",
    "\n",
    "Extra_tress = RandomizedSearchCV(et, param_distributions=params, cv = skf)"
   ]
  },
  {
   "cell_type": "code",
   "execution_count": 1356,
   "metadata": {},
   "outputs": [],
   "source": [
    "pca = PCA(n_components=5)"
   ]
  },
  {
   "cell_type": "code",
   "execution_count": 1357,
   "metadata": {},
   "outputs": [],
   "source": [
    "x_train = pca.fit_transform(X_train)"
   ]
  },
  {
   "cell_type": "code",
   "execution_count": 1361,
   "metadata": {},
   "outputs": [
    {
     "data": {
      "text/html": [
       "<style>#sk-container-id-36 {color: black;background-color: white;}#sk-container-id-36 pre{padding: 0;}#sk-container-id-36 div.sk-toggleable {background-color: white;}#sk-container-id-36 label.sk-toggleable__label {cursor: pointer;display: block;width: 100%;margin-bottom: 0;padding: 0.3em;box-sizing: border-box;text-align: center;}#sk-container-id-36 label.sk-toggleable__label-arrow:before {content: \"▸\";float: left;margin-right: 0.25em;color: #696969;}#sk-container-id-36 label.sk-toggleable__label-arrow:hover:before {color: black;}#sk-container-id-36 div.sk-estimator:hover label.sk-toggleable__label-arrow:before {color: black;}#sk-container-id-36 div.sk-toggleable__content {max-height: 0;max-width: 0;overflow: hidden;text-align: left;background-color: #f0f8ff;}#sk-container-id-36 div.sk-toggleable__content pre {margin: 0.2em;color: black;border-radius: 0.25em;background-color: #f0f8ff;}#sk-container-id-36 input.sk-toggleable__control:checked~div.sk-toggleable__content {max-height: 200px;max-width: 100%;overflow: auto;}#sk-container-id-36 input.sk-toggleable__control:checked~label.sk-toggleable__label-arrow:before {content: \"▾\";}#sk-container-id-36 div.sk-estimator input.sk-toggleable__control:checked~label.sk-toggleable__label {background-color: #d4ebff;}#sk-container-id-36 div.sk-label input.sk-toggleable__control:checked~label.sk-toggleable__label {background-color: #d4ebff;}#sk-container-id-36 input.sk-hidden--visually {border: 0;clip: rect(1px 1px 1px 1px);clip: rect(1px, 1px, 1px, 1px);height: 1px;margin: -1px;overflow: hidden;padding: 0;position: absolute;width: 1px;}#sk-container-id-36 div.sk-estimator {font-family: monospace;background-color: #f0f8ff;border: 1px dotted black;border-radius: 0.25em;box-sizing: border-box;margin-bottom: 0.5em;}#sk-container-id-36 div.sk-estimator:hover {background-color: #d4ebff;}#sk-container-id-36 div.sk-parallel-item::after {content: \"\";width: 100%;border-bottom: 1px solid gray;flex-grow: 1;}#sk-container-id-36 div.sk-label:hover label.sk-toggleable__label {background-color: #d4ebff;}#sk-container-id-36 div.sk-serial::before {content: \"\";position: absolute;border-left: 1px solid gray;box-sizing: border-box;top: 0;bottom: 0;left: 50%;z-index: 0;}#sk-container-id-36 div.sk-serial {display: flex;flex-direction: column;align-items: center;background-color: white;padding-right: 0.2em;padding-left: 0.2em;position: relative;}#sk-container-id-36 div.sk-item {position: relative;z-index: 1;}#sk-container-id-36 div.sk-parallel {display: flex;align-items: stretch;justify-content: center;background-color: white;position: relative;}#sk-container-id-36 div.sk-item::before, #sk-container-id-36 div.sk-parallel-item::before {content: \"\";position: absolute;border-left: 1px solid gray;box-sizing: border-box;top: 0;bottom: 0;left: 50%;z-index: -1;}#sk-container-id-36 div.sk-parallel-item {display: flex;flex-direction: column;z-index: 1;position: relative;background-color: white;}#sk-container-id-36 div.sk-parallel-item:first-child::after {align-self: flex-end;width: 50%;}#sk-container-id-36 div.sk-parallel-item:last-child::after {align-self: flex-start;width: 50%;}#sk-container-id-36 div.sk-parallel-item:only-child::after {width: 0;}#sk-container-id-36 div.sk-dashed-wrapped {border: 1px dashed gray;margin: 0 0.4em 0.5em 0.4em;box-sizing: border-box;padding-bottom: 0.4em;background-color: white;}#sk-container-id-36 div.sk-label label {font-family: monospace;font-weight: bold;display: inline-block;line-height: 1.2em;}#sk-container-id-36 div.sk-label-container {text-align: center;}#sk-container-id-36 div.sk-container {/* jupyter's `normalize.less` sets `[hidden] { display: none; }` but bootstrap.min.css set `[hidden] { display: none !important; }` so we also need the `!important` here to be able to override the default hidden behavior on the sphinx rendered scikit-learn.org. See: https://github.com/scikit-learn/scikit-learn/issues/21755 */display: inline-block !important;position: relative;}#sk-container-id-36 div.sk-text-repr-fallback {display: none;}</style><div id=\"sk-container-id-36\" class=\"sk-top-container\"><div class=\"sk-text-repr-fallback\"><pre>RandomizedSearchCV(cv=StratifiedKFold(n_splits=5, random_state=42, shuffle=True),\n",
       "                   estimator=ExtraTreesClassifier(max_depth=14,\n",
       "                                                  min_samples_leaf=2),\n",
       "                   param_distributions={})</pre><b>In a Jupyter environment, please rerun this cell to show the HTML representation or trust the notebook. <br />On GitHub, the HTML representation is unable to render, please try loading this page with nbviewer.org.</b></div><div class=\"sk-container\" hidden><div class=\"sk-item sk-dashed-wrapped\"><div class=\"sk-label-container\"><div class=\"sk-label sk-toggleable\"><input class=\"sk-toggleable__control sk-hidden--visually\" id=\"sk-estimator-id-94\" type=\"checkbox\" ><label for=\"sk-estimator-id-94\" class=\"sk-toggleable__label sk-toggleable__label-arrow\">RandomizedSearchCV</label><div class=\"sk-toggleable__content\"><pre>RandomizedSearchCV(cv=StratifiedKFold(n_splits=5, random_state=42, shuffle=True),\n",
       "                   estimator=ExtraTreesClassifier(max_depth=14,\n",
       "                                                  min_samples_leaf=2),\n",
       "                   param_distributions={})</pre></div></div></div><div class=\"sk-parallel\"><div class=\"sk-parallel-item\"><div class=\"sk-item\"><div class=\"sk-label-container\"><div class=\"sk-label sk-toggleable\"><input class=\"sk-toggleable__control sk-hidden--visually\" id=\"sk-estimator-id-95\" type=\"checkbox\" ><label for=\"sk-estimator-id-95\" class=\"sk-toggleable__label sk-toggleable__label-arrow\">estimator: ExtraTreesClassifier</label><div class=\"sk-toggleable__content\"><pre>ExtraTreesClassifier(max_depth=14, min_samples_leaf=2)</pre></div></div></div><div class=\"sk-serial\"><div class=\"sk-item\"><div class=\"sk-estimator sk-toggleable\"><input class=\"sk-toggleable__control sk-hidden--visually\" id=\"sk-estimator-id-96\" type=\"checkbox\" ><label for=\"sk-estimator-id-96\" class=\"sk-toggleable__label sk-toggleable__label-arrow\">ExtraTreesClassifier</label><div class=\"sk-toggleable__content\"><pre>ExtraTreesClassifier(max_depth=14, min_samples_leaf=2)</pre></div></div></div></div></div></div></div></div></div></div>"
      ],
      "text/plain": [
       "RandomizedSearchCV(cv=StratifiedKFold(n_splits=5, random_state=42, shuffle=True),\n",
       "                   estimator=ExtraTreesClassifier(max_depth=14,\n",
       "                                                  min_samples_leaf=2),\n",
       "                   param_distributions={})"
      ]
     },
     "execution_count": 1361,
     "metadata": {},
     "output_type": "execute_result"
    }
   ],
   "source": [
    "Extra_tress.fit(x_train, Y_train)"
   ]
  },
  {
   "cell_type": "code",
   "execution_count": 1362,
   "metadata": {},
   "outputs": [
    {
     "data": {
      "text/html": [
       "<div>\n",
       "<style scoped>\n",
       "    .dataframe tbody tr th:only-of-type {\n",
       "        vertical-align: middle;\n",
       "    }\n",
       "\n",
       "    .dataframe tbody tr th {\n",
       "        vertical-align: top;\n",
       "    }\n",
       "\n",
       "    .dataframe thead th {\n",
       "        text-align: right;\n",
       "    }\n",
       "</style>\n",
       "<table border=\"1\" class=\"dataframe\">\n",
       "  <thead>\n",
       "    <tr style=\"text-align: right;\">\n",
       "      <th></th>\n",
       "      <th>mean_fit_time</th>\n",
       "      <th>std_fit_time</th>\n",
       "      <th>mean_score_time</th>\n",
       "      <th>std_score_time</th>\n",
       "      <th>params</th>\n",
       "      <th>split0_test_score</th>\n",
       "      <th>split1_test_score</th>\n",
       "      <th>split2_test_score</th>\n",
       "      <th>split3_test_score</th>\n",
       "      <th>split4_test_score</th>\n",
       "      <th>mean_test_score</th>\n",
       "      <th>std_test_score</th>\n",
       "      <th>rank_test_score</th>\n",
       "    </tr>\n",
       "  </thead>\n",
       "  <tbody>\n",
       "    <tr>\n",
       "      <th>0</th>\n",
       "      <td>0.110753</td>\n",
       "      <td>0.004023</td>\n",
       "      <td>0.010757</td>\n",
       "      <td>0.000629</td>\n",
       "      <td>{}</td>\n",
       "      <td>0.459016</td>\n",
       "      <td>0.57377</td>\n",
       "      <td>0.46281</td>\n",
       "      <td>0.520661</td>\n",
       "      <td>0.528926</td>\n",
       "      <td>0.509037</td>\n",
       "      <td>0.043267</td>\n",
       "      <td>1</td>\n",
       "    </tr>\n",
       "  </tbody>\n",
       "</table>\n",
       "</div>"
      ],
      "text/plain": [
       "   mean_fit_time  std_fit_time  mean_score_time  std_score_time params  \\\n",
       "0       0.110753      0.004023         0.010757        0.000629     {}   \n",
       "\n",
       "   split0_test_score  split1_test_score  split2_test_score  split3_test_score  \\\n",
       "0           0.459016            0.57377            0.46281           0.520661   \n",
       "\n",
       "   split4_test_score  mean_test_score  std_test_score  rank_test_score  \n",
       "0           0.528926         0.509037        0.043267                1  "
      ]
     },
     "execution_count": 1362,
     "metadata": {},
     "output_type": "execute_result"
    }
   ],
   "source": [
    "pd.DataFrame(Extra_tress.cv_results_)"
   ]
  },
  {
   "cell_type": "markdown",
   "metadata": {},
   "source": [
    "Training The Model"
   ]
  },
  {
   "cell_type": "code",
   "execution_count": 1355,
   "metadata": {},
   "outputs": [
    {
     "name": "stdout",
     "output_type": "stream",
     "text": [
      "List of possible accuracy: [0.5327868852459017, 0.5983606557377049, 0.47107438016528924, 0.5206611570247934, 0.5867768595041323]\n",
      "List of possible accuracy train: [0.934020618556701, 0.9463917525773196, 0.9238683127572016, 0.9197530864197531, 0.9279835390946503]\n",
      "\n",
      "Overall Accuracy: 54.19319875355644 %\n",
      "\n",
      "Overall Accuracy train: 93.04034618811251 %\n"
     ]
    }
   ],
   "source": [
    "lst_accu_stratified = []\n",
    "lst_accu_stratified_train = []\n",
    "for train_index, test_index in skf.split(X_train, Y_train):\n",
    "    x_train_fold, x_test_fold = X_train.iloc[train_index], X_train.iloc[test_index]\n",
    "    y_train_fold, y_test_fold = Y_train.iloc[train_index], Y_train.iloc[test_index]\n",
    "    \n",
    "    pca = PCA(n_components=5)\n",
    "    x_train_fold = pca.fit_transform(x_train_fold)\n",
    "    x_test_fold = pca.transform(x_test_fold)\n",
    "    # print(x_train_fold.shape, x_test_fold.shape)\n",
    "\n",
    "    # fitting the model on training dataset in K fold\n",
    "    et.fit(x_train_fold, y_train_fold)\n",
    "        \n",
    "    # Predicting values\n",
    "    Y_pred = et.predict(x_test_fold)\n",
    "    # print(classification_report(y_test_fold, Y_pred))\n",
    "    lst_accu_stratified.append(et.score(x_test_fold, y_test_fold))\n",
    "    lst_accu_stratified_train.append(et.score(x_train_fold, y_train_fold))\n",
    "\n",
    "# Printing accuracies\n",
    "print('List of possible accuracy:', lst_accu_stratified)\n",
    "print('List of possible accuracy train:', lst_accu_stratified_train)\n",
    "print('\\nOverall Accuracy:', np.mean(lst_accu_stratified)*100, '%')\n",
    "print('\\nOverall Accuracy train:', np.mean(lst_accu_stratified_train)*100, '%')"
   ]
  },
  {
   "cell_type": "code",
   "execution_count": 705,
   "metadata": {},
   "outputs": [],
   "source": [
    "pickle.dump(et, open('/home/pankaj_v/Documents/Data_analysis_dixit/Models/extra_trees_pca.pkl', 'wb'))"
   ]
  },
  {
   "cell_type": "markdown",
   "metadata": {},
   "source": [
    "Predicting on test dataset"
   ]
  },
  {
   "cell_type": "code",
   "execution_count": 881,
   "metadata": {},
   "outputs": [],
   "source": [
    "pca = PCA(n_components=5)\n",
    "x_test = pca.fit_transform(X_test)"
   ]
  },
  {
   "cell_type": "code",
   "execution_count": 882,
   "metadata": {},
   "outputs": [],
   "source": [
    "y_preds = et.predict(X_test)"
   ]
  },
  {
   "cell_type": "code",
   "execution_count": 883,
   "metadata": {},
   "outputs": [
    {
     "name": "stdout",
     "output_type": "stream",
     "text": [
      "              precision    recall  f1-score   support\n",
      "\n",
      "           D       0.66      0.75      0.70        44\n",
      "           E       0.63      0.48      0.55        56\n",
      "           F       0.49      0.52      0.50        56\n",
      "           G       0.60      0.39      0.48       122\n",
      "           H       0.09      0.19      0.12        21\n",
      "           I       0.29      0.31      0.30        39\n",
      "           J       0.18      0.29      0.22        14\n",
      "           K       0.00      0.00      0.00         0\n",
      "\n",
      "    accuracy                           0.45       352\n",
      "   macro avg       0.37      0.37      0.36       352\n",
      "weighted avg       0.51      0.45      0.47       352\n",
      "\n"
     ]
    }
   ],
   "source": [
    "print(classification_report(y_preds, Y_test))"
   ]
  },
  {
   "cell_type": "code",
   "execution_count": null,
   "metadata": {},
   "outputs": [],
   "source": []
  }
 ],
 "metadata": {
  "kernelspec": {
   "display_name": "Python 3.9.12 ('base')",
   "language": "python",
   "name": "python3"
  },
  "language_info": {
   "codemirror_mode": {
    "name": "ipython",
    "version": 3
   },
   "file_extension": ".py",
   "mimetype": "text/x-python",
   "name": "python",
   "nbconvert_exporter": "python",
   "pygments_lexer": "ipython3",
   "version": "3.9.12"
  },
  "orig_nbformat": 4,
  "vscode": {
   "interpreter": {
    "hash": "e49e7825c259a46fc518f8c8fed6b9fa090bf4f6d9fac061305ec26587cc5d03"
   }
  }
 },
 "nbformat": 4,
 "nbformat_minor": 2
}

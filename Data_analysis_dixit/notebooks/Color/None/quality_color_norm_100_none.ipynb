{
 "cells": [
  {
   "cell_type": "code",
   "execution_count": 2,
   "metadata": {},
   "outputs": [],
   "source": [
    "import pandas as pd\n",
    "import numpy as np\n",
    "import matplotlib.pyplot as plt\n",
    "import warnings\n",
    "warnings.filterwarnings('ignore')\n",
    "from sklearn.model_selection import train_test_split\n",
    "from sklearn.ensemble import RandomForestClassifier\n",
    "from sklearn.ensemble import GradientBoostingClassifier\n",
    "from sklearn.model_selection import GridSearchCV\n",
    "from sklearn.model_selection import RandomizedSearchCV\n",
    "from sklearn.metrics import roc_auc_score, confusion_matrix, accuracy_score, classification_report\n",
    "import pickle\n",
    "import os\n",
    "import glob\n",
    "import seaborn as sns\n",
    "import lightgbm as lgb\n",
    "from sklearn.tree import DecisionTreeClassifier\n",
    "from sklearn.naive_bayes import CategoricalNB\n",
    "from sklearn import preprocessing\n",
    "from sklearn.utils import class_weight\n",
    "from sklearn.model_selection import cross_val_score,StratifiedKFold\n",
    "import xgboost as xgb"
   ]
  },
  {
   "cell_type": "code",
   "execution_count": 3,
   "metadata": {},
   "outputs": [
    {
     "name": "stdout",
     "output_type": "stream",
     "text": [
      "Requirement already satisfied: xgboost in /home/pankaj_v/anaconda3/lib/python3.9/site-packages (1.6.1)\n",
      "Requirement already satisfied: scipy in /home/pankaj_v/anaconda3/lib/python3.9/site-packages (from xgboost) (1.7.3)\n",
      "Requirement already satisfied: numpy in /home/pankaj_v/anaconda3/lib/python3.9/site-packages (from xgboost) (1.21.5)\n",
      "Note: you may need to restart the kernel to use updated packages.\n"
     ]
    }
   ],
   "source": [
    "pip install xgboost"
   ]
  },
  {
   "cell_type": "code",
   "execution_count": 4,
   "metadata": {},
   "outputs": [
    {
     "name": "stdout",
     "output_type": "stream",
     "text": [
      "Requirement already satisfied: imblearn in /home/pankaj_v/anaconda3/lib/python3.9/site-packages (0.0)\n",
      "Requirement already satisfied: imbalanced-learn in /home/pankaj_v/anaconda3/lib/python3.9/site-packages (from imblearn) (0.9.1)\n",
      "Requirement already satisfied: joblib>=1.0.0 in /home/pankaj_v/anaconda3/lib/python3.9/site-packages (from imbalanced-learn->imblearn) (1.1.0)\n",
      "Requirement already satisfied: threadpoolctl>=2.0.0 in /home/pankaj_v/anaconda3/lib/python3.9/site-packages (from imbalanced-learn->imblearn) (2.2.0)\n",
      "Requirement already satisfied: scikit-learn>=1.1.0 in /home/pankaj_v/anaconda3/lib/python3.9/site-packages (from imbalanced-learn->imblearn) (1.1.1)\n",
      "Requirement already satisfied: scipy>=1.3.2 in /home/pankaj_v/anaconda3/lib/python3.9/site-packages (from imbalanced-learn->imblearn) (1.7.3)\n",
      "Requirement already satisfied: numpy>=1.17.3 in /home/pankaj_v/anaconda3/lib/python3.9/site-packages (from imbalanced-learn->imblearn) (1.21.5)\n",
      "Note: you may need to restart the kernel to use updated packages.\n"
     ]
    }
   ],
   "source": [
    "pip install imblearn"
   ]
  },
  {
   "cell_type": "code",
   "execution_count": 5,
   "metadata": {},
   "outputs": [
    {
     "name": "stdout",
     "output_type": "stream",
     "text": [
      "Requirement already satisfied: lightgbm in /home/pankaj_v/anaconda3/lib/python3.9/site-packages (3.3.2)\n",
      "Requirement already satisfied: numpy in /home/pankaj_v/anaconda3/lib/python3.9/site-packages (from lightgbm) (1.21.5)\n",
      "Requirement already satisfied: scikit-learn!=0.22.0 in /home/pankaj_v/anaconda3/lib/python3.9/site-packages (from lightgbm) (1.1.1)\n",
      "Requirement already satisfied: wheel in /home/pankaj_v/anaconda3/lib/python3.9/site-packages (from lightgbm) (0.37.1)\n",
      "Requirement already satisfied: scipy in /home/pankaj_v/anaconda3/lib/python3.9/site-packages (from lightgbm) (1.7.3)\n",
      "Requirement already satisfied: threadpoolctl>=2.0.0 in /home/pankaj_v/anaconda3/lib/python3.9/site-packages (from scikit-learn!=0.22.0->lightgbm) (2.2.0)\n",
      "Requirement already satisfied: joblib>=1.0.0 in /home/pankaj_v/anaconda3/lib/python3.9/site-packages (from scikit-learn!=0.22.0->lightgbm) (1.1.0)\n",
      "Note: you may need to restart the kernel to use updated packages.\n"
     ]
    }
   ],
   "source": [
    "pip install lightgbm"
   ]
  },
  {
   "cell_type": "code",
   "execution_count": 6,
   "metadata": {},
   "outputs": [
    {
     "name": "stdout",
     "output_type": "stream",
     "text": [
      "Requirement already satisfied: openpyxl in /home/pankaj_v/anaconda3/lib/python3.9/site-packages (3.0.9)\n",
      "Requirement already satisfied: et-xmlfile in /home/pankaj_v/anaconda3/lib/python3.9/site-packages (from openpyxl) (1.1.0)\n",
      "Note: you may need to restart the kernel to use updated packages.\n"
     ]
    }
   ],
   "source": [
    "pip install openpyxl"
   ]
  },
  {
   "cell_type": "code",
   "execution_count": 7,
   "metadata": {},
   "outputs": [
    {
     "name": "stdout",
     "output_type": "stream",
     "text": [
      "csv (78, 1060)\n",
      "csv (191, 1060)\n",
      "csv (132, 1059)\n",
      "csv (224, 1060)\n",
      "csv (42, 1060)\n",
      "csv (142, 1060)\n",
      "csv (186, 1060)\n",
      "csv (80, 1060)\n",
      "csv (348, 1060)\n",
      "csv (102, 1060)\n",
      "csv (198, 1060)\n",
      "csv (222, 1060)\n",
      "csv (110, 1060)\n",
      "xlx (680, 1059)\n",
      "csv (250, 1060)\n",
      "xlx (224, 1059)\n",
      "csv (92, 1060)\n",
      "csv (80, 1060)\n",
      "csv (322, 1060)\n"
     ]
    }
   ],
   "source": [
    "i = 1\n",
    "frames = []\n",
    "for name in os.listdir('/home/pankaj_v/Documents/Data_analysis_dixit/dATA/client_data'):\n",
    "    extents = os.path.splitext('/home/pankaj_v/Documents/Data_analysis_dixit/dATA/client_data'+'/{}'.format(name))[1].lower()\n",
    "    if extents == '.csv':\n",
    "        df= pd.read_csv('/home/pankaj_v/Documents/Data_analysis_dixit/dATA/client_data/{}'.format(name))\n",
    "        frames.append(df)\n",
    "        print('csv',df.shape)\n",
    "    elif extents == '.xlsx':\n",
    "        df= pd.read_excel('/home/pankaj_v/Documents/Data_analysis_dixit/dATA/client_data/{}'.format(name))\n",
    "        df.columns = df.columns.astype(str)\n",
    "        frames.append(df)\n",
    "        print('xlx',df.shape)\n",
    "\n",
    "result =  pd.concat(frames, axis=0, ignore_index= True)"
   ]
  },
  {
   "cell_type": "code",
   "execution_count": 8,
   "metadata": {},
   "outputs": [
    {
     "data": {
      "text/html": [
       "<div>\n",
       "<style scoped>\n",
       "    .dataframe tbody tr th:only-of-type {\n",
       "        vertical-align: middle;\n",
       "    }\n",
       "\n",
       "    .dataframe tbody tr th {\n",
       "        vertical-align: top;\n",
       "    }\n",
       "\n",
       "    .dataframe thead th {\n",
       "        text-align: right;\n",
       "    }\n",
       "</style>\n",
       "<table border=\"1\" class=\"dataframe\">\n",
       "  <thead>\n",
       "    <tr style=\"text-align: right;\">\n",
       "      <th></th>\n",
       "      <th></th>\n",
       "      <th>L*</th>\n",
       "      <th>a*</th>\n",
       "      <th>b*</th>\n",
       "      <th>X</th>\n",
       "      <th>Y</th>\n",
       "      <th>Z</th>\n",
       "      <th>Dominant Wavelenght</th>\n",
       "      <th>Whiteness</th>\n",
       "      <th>Purity</th>\n",
       "      <th>...</th>\n",
       "      <th>979.335</th>\n",
       "      <th>980.054</th>\n",
       "      <th>980.772</th>\n",
       "      <th>981.491</th>\n",
       "      <th>982.209</th>\n",
       "      <th>982.928</th>\n",
       "      <th>983.646</th>\n",
       "      <th>984.364</th>\n",
       "      <th>985.082</th>\n",
       "      <th>Unnamed: 1059</th>\n",
       "    </tr>\n",
       "  </thead>\n",
       "  <tbody>\n",
       "    <tr>\n",
       "      <th>0</th>\n",
       "      <td>W_Calibration</td>\n",
       "      <td>100.000</td>\n",
       "      <td>0.000000</td>\n",
       "      <td>0.000000</td>\n",
       "      <td>95.0422</td>\n",
       "      <td>100.000</td>\n",
       "      <td>108.8760</td>\n",
       "      <td>565.016</td>\n",
       "      <td>99.9909</td>\n",
       "      <td>0.000017</td>\n",
       "      <td>...</td>\n",
       "      <td>100.0000</td>\n",
       "      <td>100.0000</td>\n",
       "      <td>100.000</td>\n",
       "      <td>100.0000</td>\n",
       "      <td>100.000</td>\n",
       "      <td>100.00000</td>\n",
       "      <td>100.0000</td>\n",
       "      <td>100.0000</td>\n",
       "      <td>100.0000</td>\n",
       "      <td>NaN</td>\n",
       "    </tr>\n",
       "    <tr>\n",
       "      <th>1</th>\n",
       "      <td>F_Calibration</td>\n",
       "      <td>100.000</td>\n",
       "      <td>0.000000</td>\n",
       "      <td>0.000000</td>\n",
       "      <td>108.1040</td>\n",
       "      <td>100.000</td>\n",
       "      <td>39.2965</td>\n",
       "      <td>491.070</td>\n",
       "      <td>99.9909</td>\n",
       "      <td>0.000170</td>\n",
       "      <td>...</td>\n",
       "      <td>100.0000</td>\n",
       "      <td>100.0000</td>\n",
       "      <td>100.000</td>\n",
       "      <td>100.0000</td>\n",
       "      <td>100.000</td>\n",
       "      <td>100.00000</td>\n",
       "      <td>100.0000</td>\n",
       "      <td>100.0000</td>\n",
       "      <td>100.0000</td>\n",
       "      <td>NaN</td>\n",
       "    </tr>\n",
       "    <tr>\n",
       "      <th>2</th>\n",
       "      <td>W_VK12 | 2_J_None_0.902_SI1</td>\n",
       "      <td>101.352</td>\n",
       "      <td>-1.569150</td>\n",
       "      <td>4.040870</td>\n",
       "      <td>97.4907</td>\n",
       "      <td>103.537</td>\n",
       "      <td>106.1060</td>\n",
       "      <td>570.000</td>\n",
       "      <td>86.0505</td>\n",
       "      <td>0.035779</td>\n",
       "      <td>...</td>\n",
       "      <td>106.0810</td>\n",
       "      <td>106.2960</td>\n",
       "      <td>106.206</td>\n",
       "      <td>106.8210</td>\n",
       "      <td>106.483</td>\n",
       "      <td>91.47060</td>\n",
       "      <td>120.7140</td>\n",
       "      <td>27.2222</td>\n",
       "      <td>148.3330</td>\n",
       "      <td>NaN</td>\n",
       "    </tr>\n",
       "    <tr>\n",
       "      <th>3</th>\n",
       "      <td>F_VK12 | 2_J_None_0.902_SI1</td>\n",
       "      <td>100.595</td>\n",
       "      <td>3.739330</td>\n",
       "      <td>-10.586200</td>\n",
       "      <td>112.2450</td>\n",
       "      <td>101.547</td>\n",
       "      <td>46.5464</td>\n",
       "      <td>575.670</td>\n",
       "      <td>140.8850</td>\n",
       "      <td>0.041247</td>\n",
       "      <td>...</td>\n",
       "      <td>62.4801</td>\n",
       "      <td>62.8836</td>\n",
       "      <td>62.791</td>\n",
       "      <td>62.8042</td>\n",
       "      <td>62.124</td>\n",
       "      <td>51.55710</td>\n",
       "      <td>38.7013</td>\n",
       "      <td>56.8270</td>\n",
       "      <td>-143.2990</td>\n",
       "      <td>NaN</td>\n",
       "    </tr>\n",
       "    <tr>\n",
       "      <th>4</th>\n",
       "      <td>W_3472A2 | 126_D_None_0.702_VS1</td>\n",
       "      <td>100.909</td>\n",
       "      <td>-0.104228</td>\n",
       "      <td>-0.133574</td>\n",
       "      <td>97.2349</td>\n",
       "      <td>102.371</td>\n",
       "      <td>111.6780</td>\n",
       "      <td>485.666</td>\n",
       "      <td>102.9360</td>\n",
       "      <td>0.001434</td>\n",
       "      <td>...</td>\n",
       "      <td>105.5490</td>\n",
       "      <td>105.5300</td>\n",
       "      <td>105.152</td>\n",
       "      <td>105.4080</td>\n",
       "      <td>105.341</td>\n",
       "      <td>9.87395</td>\n",
       "      <td>176.0200</td>\n",
       "      <td>70.2381</td>\n",
       "      <td>10.7143</td>\n",
       "      <td>NaN</td>\n",
       "    </tr>\n",
       "  </tbody>\n",
       "</table>\n",
       "<p>5 rows × 1060 columns</p>\n",
       "</div>"
      ],
      "text/plain": [
       "                                         L*        a*         b*         X  \\\n",
       "0                    W_Calibration  100.000  0.000000   0.000000   95.0422   \n",
       "1                    F_Calibration  100.000  0.000000   0.000000  108.1040   \n",
       "2      W_VK12 | 2_J_None_0.902_SI1  101.352 -1.569150   4.040870   97.4907   \n",
       "3      F_VK12 | 2_J_None_0.902_SI1  100.595  3.739330 -10.586200  112.2450   \n",
       "4  W_3472A2 | 126_D_None_0.702_VS1  100.909 -0.104228  -0.133574   97.2349   \n",
       "\n",
       "         Y         Z  Dominant Wavelenght  Whiteness    Purity  ...   979.335  \\\n",
       "0  100.000  108.8760              565.016    99.9909  0.000017  ...  100.0000   \n",
       "1  100.000   39.2965              491.070    99.9909  0.000170  ...  100.0000   \n",
       "2  103.537  106.1060              570.000    86.0505  0.035779  ...  106.0810   \n",
       "3  101.547   46.5464              575.670   140.8850  0.041247  ...   62.4801   \n",
       "4  102.371  111.6780              485.666   102.9360  0.001434  ...  105.5490   \n",
       "\n",
       "    980.054  980.772   981.491  982.209    982.928   983.646   984.364  \\\n",
       "0  100.0000  100.000  100.0000  100.000  100.00000  100.0000  100.0000   \n",
       "1  100.0000  100.000  100.0000  100.000  100.00000  100.0000  100.0000   \n",
       "2  106.2960  106.206  106.8210  106.483   91.47060  120.7140   27.2222   \n",
       "3   62.8836   62.791   62.8042   62.124   51.55710   38.7013   56.8270   \n",
       "4  105.5300  105.152  105.4080  105.341    9.87395  176.0200   70.2381   \n",
       "\n",
       "    985.082  Unnamed: 1059  \n",
       "0  100.0000            NaN  \n",
       "1  100.0000            NaN  \n",
       "2  148.3330            NaN  \n",
       "3 -143.2990            NaN  \n",
       "4   10.7143            NaN  \n",
       "\n",
       "[5 rows x 1060 columns]"
      ]
     },
     "execution_count": 8,
     "metadata": {},
     "output_type": "execute_result"
    }
   ],
   "source": [
    "result.head()"
   ]
  },
  {
   "cell_type": "code",
   "execution_count": 9,
   "metadata": {},
   "outputs": [],
   "source": [
    "result.rename(columns = {' ': 'Output'}, inplace=True)"
   ]
  },
  {
   "cell_type": "code",
   "execution_count": 10,
   "metadata": {},
   "outputs": [
    {
     "data": {
      "text/plain": [
       "(3703, 1060)"
      ]
     },
     "execution_count": 10,
     "metadata": {},
     "output_type": "execute_result"
    }
   ],
   "source": [
    "result.shape"
   ]
  },
  {
   "cell_type": "code",
   "execution_count": 11,
   "metadata": {},
   "outputs": [
    {
     "data": {
      "text/plain": [
       "Index(['356.692', '357.472', '358.252', '359.031', '359.811', '360.59',\n",
       "       '361.37', '362.149', '362.928', '363.707', '364.486', '365.266',\n",
       "       '366.044', '366.823', '367.602', '368.381', '369.16', '369.938',\n",
       "       '370.717', '371.496', '372.274', '373.052', '373.831', '374.609',\n",
       "       '375.387', '376.165', '376.943', '377.721', '378.499', '379.277',\n",
       "       '380.055', '380.833', '381.61', '382.388', '383.165', '383.943',\n",
       "       '384.72', '385.498', '386.275', '387.052', '387.829', '388.606',\n",
       "       '389.383', '390.16', '390.937', '391.714', '392.49', '393.267',\n",
       "       '394.044', '394.82', '395.596', '396.373', '397.149', '397.925',\n",
       "       '398.702', '399.478', '400.254', '401.03', '401.806', '402.581',\n",
       "       '403.357', '404.133', '404.908', '405.684', '406.459', '407.235',\n",
       "       '408.01', '408.786', '409.561', '410.336', '411.111', '411.886',\n",
       "       '412.661', '413.436', '414.211', '414.985', '415.76', '416.535',\n",
       "       '417.309', '418.084', '418.858', '419.632', '420.407', '421.181',\n",
       "       '421.955', '422.729', '423.503', '424.277', '425.051', '425.825',\n",
       "       '426.598', '427.372', '428.146', '428.919'],\n",
       "      dtype='object')"
      ]
     },
     "execution_count": 11,
     "metadata": {},
     "output_type": "execute_result"
    }
   ],
   "source": [
    "result_2= result.loc[:,'356.692':'428.919']\n",
    "result_2.columns"
   ]
  },
  {
   "cell_type": "code",
   "execution_count": 12,
   "metadata": {},
   "outputs": [],
   "source": [
    "result_3 =result.loc[:,'Output']\n",
    "result_2= result.loc[:,'363.707':'423.503']\n",
    "result_1= result.iloc[:,1:14]\n"
   ]
  },
  {
   "cell_type": "code",
   "execution_count": 13,
   "metadata": {},
   "outputs": [
    {
     "name": "stdout",
     "output_type": "stream",
     "text": [
      "(3703, 78) (3703,)\n"
     ]
    }
   ],
   "source": [
    "print(result_2.shape, result_3.shape)"
   ]
  },
  {
   "cell_type": "code",
   "execution_count": 14,
   "metadata": {},
   "outputs": [
    {
     "data": {
      "text/html": [
       "<div>\n",
       "<style scoped>\n",
       "    .dataframe tbody tr th:only-of-type {\n",
       "        vertical-align: middle;\n",
       "    }\n",
       "\n",
       "    .dataframe tbody tr th {\n",
       "        vertical-align: top;\n",
       "    }\n",
       "\n",
       "    .dataframe thead th {\n",
       "        text-align: right;\n",
       "    }\n",
       "</style>\n",
       "<table border=\"1\" class=\"dataframe\">\n",
       "  <thead>\n",
       "    <tr style=\"text-align: right;\">\n",
       "      <th></th>\n",
       "      <th>363.707</th>\n",
       "      <th>364.486</th>\n",
       "      <th>365.266</th>\n",
       "      <th>366.044</th>\n",
       "      <th>366.823</th>\n",
       "      <th>367.602</th>\n",
       "      <th>368.381</th>\n",
       "      <th>369.16</th>\n",
       "      <th>369.938</th>\n",
       "      <th>370.717</th>\n",
       "      <th>...</th>\n",
       "      <th>417.309</th>\n",
       "      <th>418.084</th>\n",
       "      <th>418.858</th>\n",
       "      <th>419.632</th>\n",
       "      <th>420.407</th>\n",
       "      <th>421.181</th>\n",
       "      <th>421.955</th>\n",
       "      <th>422.729</th>\n",
       "      <th>423.503</th>\n",
       "      <th>Output</th>\n",
       "    </tr>\n",
       "  </thead>\n",
       "  <tbody>\n",
       "    <tr>\n",
       "      <th>0</th>\n",
       "      <td>100.0000</td>\n",
       "      <td>100.0000</td>\n",
       "      <td>100.0000</td>\n",
       "      <td>100.0000</td>\n",
       "      <td>100.0000</td>\n",
       "      <td>100.0000</td>\n",
       "      <td>100.0000</td>\n",
       "      <td>100.0000</td>\n",
       "      <td>100.0000</td>\n",
       "      <td>100.0000</td>\n",
       "      <td>...</td>\n",
       "      <td>100.0000</td>\n",
       "      <td>100.0000</td>\n",
       "      <td>100.0000</td>\n",
       "      <td>100.0000</td>\n",
       "      <td>100.0000</td>\n",
       "      <td>100.0000</td>\n",
       "      <td>100.0000</td>\n",
       "      <td>100.0000</td>\n",
       "      <td>100.0000</td>\n",
       "      <td>W_Calibration</td>\n",
       "    </tr>\n",
       "    <tr>\n",
       "      <th>1</th>\n",
       "      <td>100.0000</td>\n",
       "      <td>100.0000</td>\n",
       "      <td>100.0000</td>\n",
       "      <td>100.0000</td>\n",
       "      <td>100.0000</td>\n",
       "      <td>100.0000</td>\n",
       "      <td>100.0000</td>\n",
       "      <td>100.0000</td>\n",
       "      <td>100.0000</td>\n",
       "      <td>100.0000</td>\n",
       "      <td>...</td>\n",
       "      <td>100.0000</td>\n",
       "      <td>100.0000</td>\n",
       "      <td>100.0000</td>\n",
       "      <td>100.0000</td>\n",
       "      <td>100.0000</td>\n",
       "      <td>100.0000</td>\n",
       "      <td>100.0000</td>\n",
       "      <td>100.0000</td>\n",
       "      <td>100.0000</td>\n",
       "      <td>F_Calibration</td>\n",
       "    </tr>\n",
       "    <tr>\n",
       "      <th>2</th>\n",
       "      <td>87.0480</td>\n",
       "      <td>86.5098</td>\n",
       "      <td>86.2694</td>\n",
       "      <td>86.1470</td>\n",
       "      <td>85.8456</td>\n",
       "      <td>85.3556</td>\n",
       "      <td>85.0497</td>\n",
       "      <td>84.6754</td>\n",
       "      <td>84.2657</td>\n",
       "      <td>83.8722</td>\n",
       "      <td>...</td>\n",
       "      <td>78.9688</td>\n",
       "      <td>81.7693</td>\n",
       "      <td>85.1405</td>\n",
       "      <td>87.9776</td>\n",
       "      <td>89.7679</td>\n",
       "      <td>90.9776</td>\n",
       "      <td>91.9985</td>\n",
       "      <td>92.7577</td>\n",
       "      <td>93.4443</td>\n",
       "      <td>W_VK12 | 2_J_None_0.902_SI1</td>\n",
       "    </tr>\n",
       "    <tr>\n",
       "      <th>3</th>\n",
       "      <td>62.4444</td>\n",
       "      <td>62.0639</td>\n",
       "      <td>61.7058</td>\n",
       "      <td>61.2996</td>\n",
       "      <td>60.9179</td>\n",
       "      <td>60.5205</td>\n",
       "      <td>60.1136</td>\n",
       "      <td>59.6632</td>\n",
       "      <td>59.1972</td>\n",
       "      <td>58.7010</td>\n",
       "      <td>...</td>\n",
       "      <td>83.3894</td>\n",
       "      <td>85.9996</td>\n",
       "      <td>88.8012</td>\n",
       "      <td>91.5548</td>\n",
       "      <td>93.5495</td>\n",
       "      <td>95.8632</td>\n",
       "      <td>98.2025</td>\n",
       "      <td>100.8680</td>\n",
       "      <td>103.6550</td>\n",
       "      <td>F_VK12 | 2_J_None_0.902_SI1</td>\n",
       "    </tr>\n",
       "    <tr>\n",
       "      <th>4</th>\n",
       "      <td>101.9310</td>\n",
       "      <td>101.7240</td>\n",
       "      <td>101.6950</td>\n",
       "      <td>101.6310</td>\n",
       "      <td>101.6350</td>\n",
       "      <td>101.1850</td>\n",
       "      <td>101.1380</td>\n",
       "      <td>100.9720</td>\n",
       "      <td>100.8440</td>\n",
       "      <td>100.6880</td>\n",
       "      <td>...</td>\n",
       "      <td>101.6930</td>\n",
       "      <td>101.8660</td>\n",
       "      <td>102.0850</td>\n",
       "      <td>102.2610</td>\n",
       "      <td>102.3590</td>\n",
       "      <td>102.4060</td>\n",
       "      <td>102.4350</td>\n",
       "      <td>102.4410</td>\n",
       "      <td>102.4610</td>\n",
       "      <td>W_3472A2 | 126_D_None_0.702_VS1</td>\n",
       "    </tr>\n",
       "  </tbody>\n",
       "</table>\n",
       "<p>5 rows × 79 columns</p>\n",
       "</div>"
      ],
      "text/plain": [
       "    363.707   364.486   365.266   366.044   366.823   367.602   368.381  \\\n",
       "0  100.0000  100.0000  100.0000  100.0000  100.0000  100.0000  100.0000   \n",
       "1  100.0000  100.0000  100.0000  100.0000  100.0000  100.0000  100.0000   \n",
       "2   87.0480   86.5098   86.2694   86.1470   85.8456   85.3556   85.0497   \n",
       "3   62.4444   62.0639   61.7058   61.2996   60.9179   60.5205   60.1136   \n",
       "4  101.9310  101.7240  101.6950  101.6310  101.6350  101.1850  101.1380   \n",
       "\n",
       "     369.16   369.938   370.717  ...   417.309   418.084   418.858   419.632  \\\n",
       "0  100.0000  100.0000  100.0000  ...  100.0000  100.0000  100.0000  100.0000   \n",
       "1  100.0000  100.0000  100.0000  ...  100.0000  100.0000  100.0000  100.0000   \n",
       "2   84.6754   84.2657   83.8722  ...   78.9688   81.7693   85.1405   87.9776   \n",
       "3   59.6632   59.1972   58.7010  ...   83.3894   85.9996   88.8012   91.5548   \n",
       "4  100.9720  100.8440  100.6880  ...  101.6930  101.8660  102.0850  102.2610   \n",
       "\n",
       "    420.407   421.181   421.955   422.729   423.503  \\\n",
       "0  100.0000  100.0000  100.0000  100.0000  100.0000   \n",
       "1  100.0000  100.0000  100.0000  100.0000  100.0000   \n",
       "2   89.7679   90.9776   91.9985   92.7577   93.4443   \n",
       "3   93.5495   95.8632   98.2025  100.8680  103.6550   \n",
       "4  102.3590  102.4060  102.4350  102.4410  102.4610   \n",
       "\n",
       "                            Output  \n",
       "0                    W_Calibration  \n",
       "1                    F_Calibration  \n",
       "2      W_VK12 | 2_J_None_0.902_SI1  \n",
       "3      F_VK12 | 2_J_None_0.902_SI1  \n",
       "4  W_3472A2 | 126_D_None_0.702_VS1  \n",
       "\n",
       "[5 rows x 79 columns]"
      ]
     },
     "execution_count": 14,
     "metadata": {},
     "output_type": "execute_result"
    }
   ],
   "source": [
    "df = pd.concat([result_2,result_3], axis=1)\n",
    "df.head()\n"
   ]
  },
  {
   "cell_type": "code",
   "execution_count": 15,
   "metadata": {},
   "outputs": [],
   "source": [
    "# df.to_excel('/home/pankaj_v/Documents/Data_analysis_dixit/dATA/Processed_data/whole_data.xlsx')"
   ]
  },
  {
   "cell_type": "code",
   "execution_count": 16,
   "metadata": {},
   "outputs": [],
   "source": [
    "df_without_calb = df[~df['Output'].str.contains(('Calibration|CALIBARTION|CALIBARATION'),case=False, regex=True, na = False)]\n",
    "df_without_calb.reset_index()\n",
    "df_without_calb['w/f']= df_without_calb['Output'].str.split('_').str[0]"
   ]
  },
  {
   "cell_type": "code",
   "execution_count": 17,
   "metadata": {},
   "outputs": [
    {
     "data": {
      "text/plain": [
       "(2536, 80)"
      ]
     },
     "execution_count": 17,
     "metadata": {},
     "output_type": "execute_result"
    }
   ],
   "source": [
    "df_without_calb.shape"
   ]
  },
  {
   "cell_type": "code",
   "execution_count": 18,
   "metadata": {},
   "outputs": [],
   "source": [
    "df_with_w = df_without_calb[df_without_calb['w/f'] == 'W']\n"
   ]
  },
  {
   "cell_type": "code",
   "execution_count": 19,
   "metadata": {},
   "outputs": [],
   "source": [
    "df_with_w['color'] = df_with_w['Output'].str.split('_').str[2]\n",
    "df_with_w['color'].replace({'E LB':'E', ' K':'K', 'G LB ':'G', 'H ':'H'}, inplace = True)\n",
    "df_with_w['quality'] = df_with_w['Output'].str.split('_').str[3]\n",
    "df_with_w['quality'].replace({'brown':'None','Pink':'None', 'LB':'None','LB ':'None', 'Faint YELLOW':'Faint', 'Faint YELLOW':'Faint', 'Faint GREEN':'Faint','  ':'None', 'BROWN':'Faint', 'Lblack':'Faint', 'lb ':'None','Black':'None'}, inplace = True)\n"
   ]
  },
  {
   "cell_type": "code",
   "execution_count": 20,
   "metadata": {},
   "outputs": [],
   "source": [
    "df_without_calb['color'] = df_without_calb['Output'].str.split('_').str[2]\n",
    "df_without_calb['color'].replace({'E LB':'E', ' K':'K', 'G LB ':'G', 'H ':'H'}, inplace = True)\n",
    "df_without_calb['quality'] = df_without_calb['Output'].str.split('_').str[3]\n",
    "df_without_calb['quality'].replace({'brown':'None','Pink':'None', 'LB':'None','LB ':'None', 'Faint YELLOW':'Faint', 'Faint YELLOW':'Faint', 'Faint GREEN':'Faint','  ':'None', 'BROWN':'Faint', 'Lblack':'Faint', 'lb ':'None','Black':'None'}, inplace = True)"
   ]
  },
  {
   "cell_type": "code",
   "execution_count": 21,
   "metadata": {},
   "outputs": [],
   "source": [
    "df_without_calbwf_None  = df_without_calb[df_without_calb['quality'] == 'None']\n",
    "df_without_calbwf_faint  = df_without_calb[df_without_calb['quality'] == 'Faint']\n",
    "df_without_calbwf_medium  = df_without_calb[df_without_calb['quality'] == 'Medium']\n",
    "df_without_calbwf_verystroong  = df_without_calb[df_without_calb['quality'] == 'Very Strong']\n",
    "df_without_calbwf_strong = df_without_calb[df_without_calb['quality'] == 'Strong']"
   ]
  },
  {
   "cell_type": "code",
   "execution_count": 22,
   "metadata": {},
   "outputs": [],
   "source": [
    "# Seperating Data with quality\n",
    "df_without_calb_None  = df_with_w[df_with_w['quality'] == 'None']\n",
    "df_without_calb_faint  = df_with_w[df_with_w['quality'] == 'Faint']\n",
    "df_without_calb_medium  = df_with_w[df_with_w['quality'] == 'Medium']\n",
    "df_without_calb_verystroong  = df_with_w[df_with_w['quality'] == 'Very Strong']\n",
    "df_without_calb_strong = df_with_w[df_with_w['quality'] == 'Strong']"
   ]
  },
  {
   "cell_type": "code",
   "execution_count": 23,
   "metadata": {},
   "outputs": [
    {
     "data": {
      "text/plain": [
       "((675, 82), (323, 82), (100, 82), (165, 82), (3, 82))"
      ]
     },
     "execution_count": 23,
     "metadata": {},
     "output_type": "execute_result"
    }
   ],
   "source": [
    "(df_without_calb_None.shape,\n",
    "df_without_calb_faint.shape,\n",
    "df_without_calb_medium.shape,\n",
    "df_without_calb_verystroong.shape,\n",
    "df_without_calb_strong.shape)"
   ]
  },
  {
   "cell_type": "code",
   "execution_count": 24,
   "metadata": {},
   "outputs": [
    {
     "data": {
      "text/plain": [
       "G     206\n",
       "D     194\n",
       "F     181\n",
       "E     161\n",
       "I     160\n",
       "H     143\n",
       "J     119\n",
       "K      99\n",
       "M       3\n",
       "J       2\n",
       "Name: color, dtype: int64"
      ]
     },
     "execution_count": 24,
     "metadata": {},
     "output_type": "execute_result"
    }
   ],
   "source": [
    "df_with_w['color'].value_counts()"
   ]
  },
  {
   "cell_type": "code",
   "execution_count": 25,
   "metadata": {},
   "outputs": [
    {
     "data": {
      "text/plain": [
       "((675, 82), (323, 82), (100, 82), (165, 82), (3, 82))"
      ]
     },
     "execution_count": 25,
     "metadata": {},
     "output_type": "execute_result"
    }
   ],
   "source": [
    "(df_without_calb_None.shape,\n",
    "df_without_calb_faint.shape,\n",
    "df_without_calb_medium.shape,\n",
    "df_without_calb_verystroong.shape,\n",
    "df_without_calb_strong.shape)"
   ]
  },
  {
   "cell_type": "code",
   "execution_count": 26,
   "metadata": {},
   "outputs": [
    {
     "data": {
      "text/html": [
       "<div>\n",
       "<style scoped>\n",
       "    .dataframe tbody tr th:only-of-type {\n",
       "        vertical-align: middle;\n",
       "    }\n",
       "\n",
       "    .dataframe tbody tr th {\n",
       "        vertical-align: top;\n",
       "    }\n",
       "\n",
       "    .dataframe thead th {\n",
       "        text-align: right;\n",
       "    }\n",
       "</style>\n",
       "<table border=\"1\" class=\"dataframe\">\n",
       "  <thead>\n",
       "    <tr style=\"text-align: right;\">\n",
       "      <th></th>\n",
       "      <th>363.707</th>\n",
       "      <th>364.486</th>\n",
       "      <th>365.266</th>\n",
       "      <th>366.044</th>\n",
       "      <th>366.823</th>\n",
       "      <th>367.602</th>\n",
       "      <th>368.381</th>\n",
       "      <th>369.16</th>\n",
       "      <th>369.938</th>\n",
       "      <th>370.717</th>\n",
       "      <th>...</th>\n",
       "      <th>419.632</th>\n",
       "      <th>420.407</th>\n",
       "      <th>421.181</th>\n",
       "      <th>421.955</th>\n",
       "      <th>422.729</th>\n",
       "      <th>423.503</th>\n",
       "      <th>Output</th>\n",
       "      <th>w/f</th>\n",
       "      <th>color</th>\n",
       "      <th>quality</th>\n",
       "    </tr>\n",
       "  </thead>\n",
       "  <tbody>\n",
       "    <tr>\n",
       "      <th>2</th>\n",
       "      <td>87.0480</td>\n",
       "      <td>86.5098</td>\n",
       "      <td>86.2694</td>\n",
       "      <td>86.1470</td>\n",
       "      <td>85.8456</td>\n",
       "      <td>85.3556</td>\n",
       "      <td>85.0497</td>\n",
       "      <td>84.6754</td>\n",
       "      <td>84.2657</td>\n",
       "      <td>83.8722</td>\n",
       "      <td>...</td>\n",
       "      <td>87.9776</td>\n",
       "      <td>89.7679</td>\n",
       "      <td>90.9776</td>\n",
       "      <td>91.9985</td>\n",
       "      <td>92.7577</td>\n",
       "      <td>93.4443</td>\n",
       "      <td>W_VK12 | 2_J_None_0.902_SI1</td>\n",
       "      <td>W</td>\n",
       "      <td>J</td>\n",
       "      <td>None</td>\n",
       "    </tr>\n",
       "    <tr>\n",
       "      <th>4</th>\n",
       "      <td>101.9310</td>\n",
       "      <td>101.7240</td>\n",
       "      <td>101.6950</td>\n",
       "      <td>101.6310</td>\n",
       "      <td>101.6350</td>\n",
       "      <td>101.1850</td>\n",
       "      <td>101.1380</td>\n",
       "      <td>100.9720</td>\n",
       "      <td>100.8440</td>\n",
       "      <td>100.6880</td>\n",
       "      <td>...</td>\n",
       "      <td>102.2610</td>\n",
       "      <td>102.3590</td>\n",
       "      <td>102.4060</td>\n",
       "      <td>102.4350</td>\n",
       "      <td>102.4410</td>\n",
       "      <td>102.4610</td>\n",
       "      <td>W_3472A2 | 126_D_None_0.702_VS1</td>\n",
       "      <td>W</td>\n",
       "      <td>D</td>\n",
       "      <td>None</td>\n",
       "    </tr>\n",
       "    <tr>\n",
       "      <th>10</th>\n",
       "      <td>84.3379</td>\n",
       "      <td>84.2056</td>\n",
       "      <td>83.7665</td>\n",
       "      <td>83.6529</td>\n",
       "      <td>83.5457</td>\n",
       "      <td>83.4267</td>\n",
       "      <td>83.3603</td>\n",
       "      <td>83.3049</td>\n",
       "      <td>83.4896</td>\n",
       "      <td>83.2446</td>\n",
       "      <td>...</td>\n",
       "      <td>84.5448</td>\n",
       "      <td>85.3473</td>\n",
       "      <td>85.8796</td>\n",
       "      <td>86.3245</td>\n",
       "      <td>86.6741</td>\n",
       "      <td>86.9831</td>\n",
       "      <td>W_1738A2 | 107_J_LB_None_0.702_SI1</td>\n",
       "      <td>W</td>\n",
       "      <td>J</td>\n",
       "      <td>None</td>\n",
       "    </tr>\n",
       "    <tr>\n",
       "      <th>12</th>\n",
       "      <td>97.5362</td>\n",
       "      <td>97.5079</td>\n",
       "      <td>97.6389</td>\n",
       "      <td>97.3283</td>\n",
       "      <td>97.3299</td>\n",
       "      <td>97.1781</td>\n",
       "      <td>97.1703</td>\n",
       "      <td>97.1557</td>\n",
       "      <td>97.1037</td>\n",
       "      <td>96.7851</td>\n",
       "      <td>...</td>\n",
       "      <td>97.5015</td>\n",
       "      <td>97.8972</td>\n",
       "      <td>98.1579</td>\n",
       "      <td>98.3211</td>\n",
       "      <td>98.5120</td>\n",
       "      <td>98.6553</td>\n",
       "      <td>W_VB12 | 16_G_None_0.901_VS1</td>\n",
       "      <td>W</td>\n",
       "      <td>G</td>\n",
       "      <td>None</td>\n",
       "    </tr>\n",
       "    <tr>\n",
       "      <th>14</th>\n",
       "      <td>101.1990</td>\n",
       "      <td>100.7660</td>\n",
       "      <td>100.6530</td>\n",
       "      <td>100.2860</td>\n",
       "      <td>100.1440</td>\n",
       "      <td>100.1350</td>\n",
       "      <td>100.1250</td>\n",
       "      <td>100.0650</td>\n",
       "      <td>100.1640</td>\n",
       "      <td>99.9450</td>\n",
       "      <td>...</td>\n",
       "      <td>100.7780</td>\n",
       "      <td>101.0330</td>\n",
       "      <td>101.1920</td>\n",
       "      <td>101.3340</td>\n",
       "      <td>101.4810</td>\n",
       "      <td>101.5450</td>\n",
       "      <td>W_3498A2 | 156_E_None_0.702_SI1</td>\n",
       "      <td>W</td>\n",
       "      <td>E</td>\n",
       "      <td>None</td>\n",
       "    </tr>\n",
       "  </tbody>\n",
       "</table>\n",
       "<p>5 rows × 82 columns</p>\n",
       "</div>"
      ],
      "text/plain": [
       "     363.707   364.486   365.266   366.044   366.823   367.602   368.381  \\\n",
       "2    87.0480   86.5098   86.2694   86.1470   85.8456   85.3556   85.0497   \n",
       "4   101.9310  101.7240  101.6950  101.6310  101.6350  101.1850  101.1380   \n",
       "10   84.3379   84.2056   83.7665   83.6529   83.5457   83.4267   83.3603   \n",
       "12   97.5362   97.5079   97.6389   97.3283   97.3299   97.1781   97.1703   \n",
       "14  101.1990  100.7660  100.6530  100.2860  100.1440  100.1350  100.1250   \n",
       "\n",
       "      369.16   369.938   370.717  ...   419.632   420.407   421.181   421.955  \\\n",
       "2    84.6754   84.2657   83.8722  ...   87.9776   89.7679   90.9776   91.9985   \n",
       "4   100.9720  100.8440  100.6880  ...  102.2610  102.3590  102.4060  102.4350   \n",
       "10   83.3049   83.4896   83.2446  ...   84.5448   85.3473   85.8796   86.3245   \n",
       "12   97.1557   97.1037   96.7851  ...   97.5015   97.8972   98.1579   98.3211   \n",
       "14  100.0650  100.1640   99.9450  ...  100.7780  101.0330  101.1920  101.3340   \n",
       "\n",
       "     422.729   423.503                              Output  w/f  color  \\\n",
       "2    92.7577   93.4443         W_VK12 | 2_J_None_0.902_SI1    W      J   \n",
       "4   102.4410  102.4610     W_3472A2 | 126_D_None_0.702_VS1    W      D   \n",
       "10   86.6741   86.9831  W_1738A2 | 107_J_LB_None_0.702_SI1    W      J   \n",
       "12   98.5120   98.6553        W_VB12 | 16_G_None_0.901_VS1    W      G   \n",
       "14  101.4810  101.5450     W_3498A2 | 156_E_None_0.702_SI1    W      E   \n",
       "\n",
       "    quality  \n",
       "2      None  \n",
       "4      None  \n",
       "10     None  \n",
       "12     None  \n",
       "14     None  \n",
       "\n",
       "[5 rows x 82 columns]"
      ]
     },
     "execution_count": 26,
     "metadata": {},
     "output_type": "execute_result"
    }
   ],
   "source": [
    "df_without_calb_None.head()"
   ]
  },
  {
   "cell_type": "code",
   "execution_count": 27,
   "metadata": {},
   "outputs": [],
   "source": [
    "df_without_calbwf_None.drop(columns=['Output','w/f','quality'], inplace=True)"
   ]
  },
  {
   "cell_type": "code",
   "execution_count": 28,
   "metadata": {},
   "outputs": [],
   "source": [
    "df_without_calb_None.drop(columns=['Output','w/f','quality'], inplace=True)"
   ]
  },
  {
   "cell_type": "code",
   "execution_count": 29,
   "metadata": {},
   "outputs": [
    {
     "data": {
      "image/png": "[encoded data removed]",
      "text/plain": [
       "<Figure size 1440x720 with 1 Axes>"
      ]
     },
     "metadata": {
      "needs_background": "light"
     },
     "output_type": "display_data"
    }
   ],
   "source": [
    "plt.figure(figsize=(20,10))\n",
    "data1 = df_without_calb_None.set_index([\"color\"]).T\n",
    "g1 = sns.lineplot(data=data1)\n",
    "# g1.set(xticklabels=[data1.columns])\n",
    "g1.set_title('None Quality vs differnt colors')\n",
    "plt.xticks(rotation = 90)\n",
    "plt.show()\n"
   ]
  },
  {
   "cell_type": "code",
   "execution_count": null,
   "metadata": {},
   "outputs": [],
   "source": []
  },
  {
   "cell_type": "code",
   "execution_count": 30,
   "metadata": {},
   "outputs": [
    {
     "data": {
      "text/html": [
       "<div>\n",
       "<style scoped>\n",
       "    .dataframe tbody tr th:only-of-type {\n",
       "        vertical-align: middle;\n",
       "    }\n",
       "\n",
       "    .dataframe tbody tr th {\n",
       "        vertical-align: top;\n",
       "    }\n",
       "\n",
       "    .dataframe thead th {\n",
       "        text-align: right;\n",
       "    }\n",
       "</style>\n",
       "<table border=\"1\" class=\"dataframe\">\n",
       "  <thead>\n",
       "    <tr style=\"text-align: right;\">\n",
       "      <th></th>\n",
       "      <th>363.707</th>\n",
       "      <th>364.486</th>\n",
       "      <th>365.266</th>\n",
       "      <th>366.044</th>\n",
       "      <th>366.823</th>\n",
       "      <th>367.602</th>\n",
       "      <th>368.381</th>\n",
       "      <th>369.16</th>\n",
       "      <th>369.938</th>\n",
       "      <th>370.717</th>\n",
       "      <th>...</th>\n",
       "      <th>416.535</th>\n",
       "      <th>417.309</th>\n",
       "      <th>418.084</th>\n",
       "      <th>418.858</th>\n",
       "      <th>419.632</th>\n",
       "      <th>420.407</th>\n",
       "      <th>421.181</th>\n",
       "      <th>421.955</th>\n",
       "      <th>422.729</th>\n",
       "      <th>423.503</th>\n",
       "    </tr>\n",
       "  </thead>\n",
       "  <tbody>\n",
       "    <tr>\n",
       "      <th>2</th>\n",
       "      <td>87.0480</td>\n",
       "      <td>86.5098</td>\n",
       "      <td>86.2694</td>\n",
       "      <td>86.1470</td>\n",
       "      <td>85.8456</td>\n",
       "      <td>85.3556</td>\n",
       "      <td>85.0497</td>\n",
       "      <td>84.6754</td>\n",
       "      <td>84.2657</td>\n",
       "      <td>83.8722</td>\n",
       "      <td>...</td>\n",
       "      <td>76.9752</td>\n",
       "      <td>78.9688</td>\n",
       "      <td>81.7693</td>\n",
       "      <td>85.1405</td>\n",
       "      <td>87.9776</td>\n",
       "      <td>89.7679</td>\n",
       "      <td>90.9776</td>\n",
       "      <td>91.9985</td>\n",
       "      <td>92.7577</td>\n",
       "      <td>93.4443</td>\n",
       "    </tr>\n",
       "    <tr>\n",
       "      <th>4</th>\n",
       "      <td>101.9310</td>\n",
       "      <td>101.7240</td>\n",
       "      <td>101.6950</td>\n",
       "      <td>101.6310</td>\n",
       "      <td>101.6350</td>\n",
       "      <td>101.1850</td>\n",
       "      <td>101.1380</td>\n",
       "      <td>100.9720</td>\n",
       "      <td>100.8440</td>\n",
       "      <td>100.6880</td>\n",
       "      <td>...</td>\n",
       "      <td>101.6090</td>\n",
       "      <td>101.6930</td>\n",
       "      <td>101.8660</td>\n",
       "      <td>102.0850</td>\n",
       "      <td>102.2610</td>\n",
       "      <td>102.3590</td>\n",
       "      <td>102.4060</td>\n",
       "      <td>102.4350</td>\n",
       "      <td>102.4410</td>\n",
       "      <td>102.4610</td>\n",
       "    </tr>\n",
       "    <tr>\n",
       "      <th>10</th>\n",
       "      <td>84.3379</td>\n",
       "      <td>84.2056</td>\n",
       "      <td>83.7665</td>\n",
       "      <td>83.6529</td>\n",
       "      <td>83.5457</td>\n",
       "      <td>83.4267</td>\n",
       "      <td>83.3603</td>\n",
       "      <td>83.3049</td>\n",
       "      <td>83.4896</td>\n",
       "      <td>83.2446</td>\n",
       "      <td>...</td>\n",
       "      <td>79.3827</td>\n",
       "      <td>80.2418</td>\n",
       "      <td>81.5837</td>\n",
       "      <td>83.2302</td>\n",
       "      <td>84.5448</td>\n",
       "      <td>85.3473</td>\n",
       "      <td>85.8796</td>\n",
       "      <td>86.3245</td>\n",
       "      <td>86.6741</td>\n",
       "      <td>86.9831</td>\n",
       "    </tr>\n",
       "    <tr>\n",
       "      <th>12</th>\n",
       "      <td>97.5362</td>\n",
       "      <td>97.5079</td>\n",
       "      <td>97.6389</td>\n",
       "      <td>97.3283</td>\n",
       "      <td>97.3299</td>\n",
       "      <td>97.1781</td>\n",
       "      <td>97.1703</td>\n",
       "      <td>97.1557</td>\n",
       "      <td>97.1037</td>\n",
       "      <td>96.7851</td>\n",
       "      <td>...</td>\n",
       "      <td>95.0697</td>\n",
       "      <td>95.4676</td>\n",
       "      <td>96.0994</td>\n",
       "      <td>96.9004</td>\n",
       "      <td>97.5015</td>\n",
       "      <td>97.8972</td>\n",
       "      <td>98.1579</td>\n",
       "      <td>98.3211</td>\n",
       "      <td>98.5120</td>\n",
       "      <td>98.6553</td>\n",
       "    </tr>\n",
       "    <tr>\n",
       "      <th>14</th>\n",
       "      <td>101.1990</td>\n",
       "      <td>100.7660</td>\n",
       "      <td>100.6530</td>\n",
       "      <td>100.2860</td>\n",
       "      <td>100.1440</td>\n",
       "      <td>100.1350</td>\n",
       "      <td>100.1250</td>\n",
       "      <td>100.0650</td>\n",
       "      <td>100.1640</td>\n",
       "      <td>99.9450</td>\n",
       "      <td>...</td>\n",
       "      <td>99.4006</td>\n",
       "      <td>99.6418</td>\n",
       "      <td>99.9973</td>\n",
       "      <td>100.4380</td>\n",
       "      <td>100.7780</td>\n",
       "      <td>101.0330</td>\n",
       "      <td>101.1920</td>\n",
       "      <td>101.3340</td>\n",
       "      <td>101.4810</td>\n",
       "      <td>101.5450</td>\n",
       "    </tr>\n",
       "    <tr>\n",
       "      <th>...</th>\n",
       "      <td>...</td>\n",
       "      <td>...</td>\n",
       "      <td>...</td>\n",
       "      <td>...</td>\n",
       "      <td>...</td>\n",
       "      <td>...</td>\n",
       "      <td>...</td>\n",
       "      <td>...</td>\n",
       "      <td>...</td>\n",
       "      <td>...</td>\n",
       "      <td>...</td>\n",
       "      <td>...</td>\n",
       "      <td>...</td>\n",
       "      <td>...</td>\n",
       "      <td>...</td>\n",
       "      <td>...</td>\n",
       "      <td>...</td>\n",
       "      <td>...</td>\n",
       "      <td>...</td>\n",
       "      <td>...</td>\n",
       "      <td>...</td>\n",
       "    </tr>\n",
       "    <tr>\n",
       "      <th>3685</th>\n",
       "      <td>94.4205</td>\n",
       "      <td>94.2624</td>\n",
       "      <td>93.8681</td>\n",
       "      <td>93.7702</td>\n",
       "      <td>93.5404</td>\n",
       "      <td>93.5409</td>\n",
       "      <td>93.3745</td>\n",
       "      <td>92.9967</td>\n",
       "      <td>93.0088</td>\n",
       "      <td>93.0037</td>\n",
       "      <td>...</td>\n",
       "      <td>90.4238</td>\n",
       "      <td>91.1620</td>\n",
       "      <td>92.2746</td>\n",
       "      <td>93.7881</td>\n",
       "      <td>95.2660</td>\n",
       "      <td>96.1081</td>\n",
       "      <td>96.6371</td>\n",
       "      <td>97.0081</td>\n",
       "      <td>97.3124</td>\n",
       "      <td>97.5169</td>\n",
       "    </tr>\n",
       "    <tr>\n",
       "      <th>3687</th>\n",
       "      <td>101.3850</td>\n",
       "      <td>101.4830</td>\n",
       "      <td>101.0070</td>\n",
       "      <td>100.9190</td>\n",
       "      <td>100.5780</td>\n",
       "      <td>100.6670</td>\n",
       "      <td>100.7650</td>\n",
       "      <td>100.2650</td>\n",
       "      <td>100.3160</td>\n",
       "      <td>100.3940</td>\n",
       "      <td>...</td>\n",
       "      <td>100.5690</td>\n",
       "      <td>100.7970</td>\n",
       "      <td>101.1580</td>\n",
       "      <td>101.5880</td>\n",
       "      <td>102.0450</td>\n",
       "      <td>102.2910</td>\n",
       "      <td>102.4290</td>\n",
       "      <td>102.5290</td>\n",
       "      <td>102.5930</td>\n",
       "      <td>102.6540</td>\n",
       "    </tr>\n",
       "    <tr>\n",
       "      <th>3693</th>\n",
       "      <td>93.9452</td>\n",
       "      <td>94.0497</td>\n",
       "      <td>94.0203</td>\n",
       "      <td>93.7596</td>\n",
       "      <td>93.5238</td>\n",
       "      <td>93.6321</td>\n",
       "      <td>93.5056</td>\n",
       "      <td>93.6082</td>\n",
       "      <td>93.2678</td>\n",
       "      <td>92.8370</td>\n",
       "      <td>...</td>\n",
       "      <td>91.4181</td>\n",
       "      <td>92.0008</td>\n",
       "      <td>92.8781</td>\n",
       "      <td>94.1325</td>\n",
       "      <td>95.2535</td>\n",
       "      <td>95.9304</td>\n",
       "      <td>96.3158</td>\n",
       "      <td>96.6242</td>\n",
       "      <td>96.8744</td>\n",
       "      <td>97.0443</td>\n",
       "    </tr>\n",
       "    <tr>\n",
       "      <th>3697</th>\n",
       "      <td>97.0201</td>\n",
       "      <td>96.9197</td>\n",
       "      <td>96.9904</td>\n",
       "      <td>96.5970</td>\n",
       "      <td>96.2929</td>\n",
       "      <td>96.4092</td>\n",
       "      <td>96.1082</td>\n",
       "      <td>96.2443</td>\n",
       "      <td>96.5651</td>\n",
       "      <td>96.7197</td>\n",
       "      <td>...</td>\n",
       "      <td>96.2786</td>\n",
       "      <td>96.3889</td>\n",
       "      <td>96.5597</td>\n",
       "      <td>96.8134</td>\n",
       "      <td>97.0195</td>\n",
       "      <td>97.1187</td>\n",
       "      <td>97.2012</td>\n",
       "      <td>97.3093</td>\n",
       "      <td>97.3670</td>\n",
       "      <td>97.4513</td>\n",
       "    </tr>\n",
       "    <tr>\n",
       "      <th>3699</th>\n",
       "      <td>102.1000</td>\n",
       "      <td>102.0290</td>\n",
       "      <td>101.9480</td>\n",
       "      <td>101.7500</td>\n",
       "      <td>101.5210</td>\n",
       "      <td>101.8460</td>\n",
       "      <td>101.7970</td>\n",
       "      <td>101.8250</td>\n",
       "      <td>101.7490</td>\n",
       "      <td>101.8090</td>\n",
       "      <td>...</td>\n",
       "      <td>102.8290</td>\n",
       "      <td>102.8090</td>\n",
       "      <td>102.8020</td>\n",
       "      <td>102.8440</td>\n",
       "      <td>102.8500</td>\n",
       "      <td>102.8040</td>\n",
       "      <td>102.7850</td>\n",
       "      <td>102.7810</td>\n",
       "      <td>102.7640</td>\n",
       "      <td>102.7560</td>\n",
       "    </tr>\n",
       "  </tbody>\n",
       "</table>\n",
       "<p>675 rows × 78 columns</p>\n",
       "</div>"
      ],
      "text/plain": [
       "       363.707   364.486   365.266   366.044   366.823   367.602   368.381  \\\n",
       "2      87.0480   86.5098   86.2694   86.1470   85.8456   85.3556   85.0497   \n",
       "4     101.9310  101.7240  101.6950  101.6310  101.6350  101.1850  101.1380   \n",
       "10     84.3379   84.2056   83.7665   83.6529   83.5457   83.4267   83.3603   \n",
       "12     97.5362   97.5079   97.6389   97.3283   97.3299   97.1781   97.1703   \n",
       "14    101.1990  100.7660  100.6530  100.2860  100.1440  100.1350  100.1250   \n",
       "...        ...       ...       ...       ...       ...       ...       ...   \n",
       "3685   94.4205   94.2624   93.8681   93.7702   93.5404   93.5409   93.3745   \n",
       "3687  101.3850  101.4830  101.0070  100.9190  100.5780  100.6670  100.7650   \n",
       "3693   93.9452   94.0497   94.0203   93.7596   93.5238   93.6321   93.5056   \n",
       "3697   97.0201   96.9197   96.9904   96.5970   96.2929   96.4092   96.1082   \n",
       "3699  102.1000  102.0290  101.9480  101.7500  101.5210  101.8460  101.7970   \n",
       "\n",
       "        369.16   369.938   370.717  ...   416.535   417.309   418.084  \\\n",
       "2      84.6754   84.2657   83.8722  ...   76.9752   78.9688   81.7693   \n",
       "4     100.9720  100.8440  100.6880  ...  101.6090  101.6930  101.8660   \n",
       "10     83.3049   83.4896   83.2446  ...   79.3827   80.2418   81.5837   \n",
       "12     97.1557   97.1037   96.7851  ...   95.0697   95.4676   96.0994   \n",
       "14    100.0650  100.1640   99.9450  ...   99.4006   99.6418   99.9973   \n",
       "...        ...       ...       ...  ...       ...       ...       ...   \n",
       "3685   92.9967   93.0088   93.0037  ...   90.4238   91.1620   92.2746   \n",
       "3687  100.2650  100.3160  100.3940  ...  100.5690  100.7970  101.1580   \n",
       "3693   93.6082   93.2678   92.8370  ...   91.4181   92.0008   92.8781   \n",
       "3697   96.2443   96.5651   96.7197  ...   96.2786   96.3889   96.5597   \n",
       "3699  101.8250  101.7490  101.8090  ...  102.8290  102.8090  102.8020   \n",
       "\n",
       "       418.858   419.632   420.407   421.181   421.955   422.729   423.503  \n",
       "2      85.1405   87.9776   89.7679   90.9776   91.9985   92.7577   93.4443  \n",
       "4     102.0850  102.2610  102.3590  102.4060  102.4350  102.4410  102.4610  \n",
       "10     83.2302   84.5448   85.3473   85.8796   86.3245   86.6741   86.9831  \n",
       "12     96.9004   97.5015   97.8972   98.1579   98.3211   98.5120   98.6553  \n",
       "14    100.4380  100.7780  101.0330  101.1920  101.3340  101.4810  101.5450  \n",
       "...        ...       ...       ...       ...       ...       ...       ...  \n",
       "3685   93.7881   95.2660   96.1081   96.6371   97.0081   97.3124   97.5169  \n",
       "3687  101.5880  102.0450  102.2910  102.4290  102.5290  102.5930  102.6540  \n",
       "3693   94.1325   95.2535   95.9304   96.3158   96.6242   96.8744   97.0443  \n",
       "3697   96.8134   97.0195   97.1187   97.2012   97.3093   97.3670   97.4513  \n",
       "3699  102.8440  102.8500  102.8040  102.7850  102.7810  102.7640  102.7560  \n",
       "\n",
       "[675 rows x 78 columns]"
      ]
     },
     "execution_count": 30,
     "metadata": {},
     "output_type": "execute_result"
    }
   ],
   "source": [
    "X = df_without_calb_None.iloc[:,:-1]\n",
    "X"
   ]
  },
  {
   "cell_type": "code",
   "execution_count": 31,
   "metadata": {},
   "outputs": [],
   "source": [
    "min_max_scaler = preprocessing.MinMaxScaler()\n",
    "np_scaled = min_max_scaler.fit_transform(X)\n",
    "x_norm = pd.DataFrame(np_scaled, columns = X.columns)"
   ]
  },
  {
   "cell_type": "code",
   "execution_count": 43,
   "metadata": {},
   "outputs": [
    {
     "data": {
      "text/plain": [
       "2       J\n",
       "4       D\n",
       "10      J\n",
       "12      G\n",
       "14      E\n",
       "       ..\n",
       "3685    G\n",
       "3687    E\n",
       "3693    G\n",
       "3697    D\n",
       "3699    D\n",
       "Name: color, Length: 675, dtype: object"
      ]
     },
     "execution_count": 43,
     "metadata": {},
     "output_type": "execute_result"
    }
   ],
   "source": [
    "x = x_norm.iloc[:,:-1]\n",
    "Y = df_without_calb_None.iloc[:,-1]\n",
    "Y"
   ]
  },
  {
   "cell_type": "code",
   "execution_count": 33,
   "metadata": {},
   "outputs": [
    {
     "data": {
      "text/plain": [
       "{'G': 0.6643700787401575,\n",
       " 'D': 0.7273706896551724,\n",
       " 'F': 0.7740825688073395,\n",
       " 'E': 0.9698275862068966,\n",
       " 'I': 1.016566265060241,\n",
       " 'H': 1.0817307692307692,\n",
       " 'J': 2.057926829268293,\n",
       " 'K': 2.4816176470588234}"
      ]
     },
     "execution_count": 33,
     "metadata": {},
     "output_type": "execute_result"
    }
   ],
   "source": [
    "balanced = class_weight.compute_class_weight(class_weight='balanced', classes=df_without_calb_None['color'].value_counts().keys(),y=Y)\n",
    "balanced = dict(zip(df_without_calb_None['color'].value_counts().keys(),balanced))\n",
    "balanced"
   ]
  },
  {
   "cell_type": "code",
   "execution_count": 34,
   "metadata": {},
   "outputs": [],
   "source": [
    "X_train, X_test, Y_train, Y_test = train_test_split(x,Y, test_size = 0.2, random_state =42, stratify = Y)"
   ]
  },
  {
   "cell_type": "code",
   "execution_count": 35,
   "metadata": {},
   "outputs": [],
   "source": [
    "stratifiedkf=StratifiedKFold(n_splits=5)\n"
   ]
  },
  {
   "cell_type": "code",
   "execution_count": 36,
   "metadata": {},
   "outputs": [],
   "source": [
    "light_gb_classifier = lgb.LGBMClassifier()\n",
    "grid_values = {'n_estimators':[*range(50, 500, 20)], 'max_depth':[*range(1,10,1)], 'max_features':[*range(1,100,1)],'min_samples_split':np.linspace(0.1, 1.0, 10, endpoint=True),'min_samples_leaf': np.linspace(0.1, 0.5, 5, endpoint=True)}\n",
    "boost_classifier = RandomizedSearchCV(light_gb_classifier, param_distributions= grid_values , cv = stratifiedkf)"
   ]
  },
  {
   "cell_type": "code",
   "execution_count": 37,
   "metadata": {},
   "outputs": [],
   "source": [
    "decision_classifier = DecisionTreeClassifier()\n",
    "grid_values = {'max_depth':[*range(1,10,1)], 'max_features':[*range(1,100,1)],'min_samples_split':np.linspace(0.1, 1.0, 10, endpoint=True),'min_samples_leaf': np.linspace(0.1, 0.5, 5, endpoint=True)}\n",
    "decision_tree_classifier = RandomizedSearchCV(decision_classifier, param_distributions= grid_values , cv = 5)"
   ]
  },
  {
   "cell_type": "code",
   "execution_count": 38,
   "metadata": {},
   "outputs": [],
   "source": [
    "forest_classifier = RandomForestClassifier(class_weight = balanced)\n",
    "grid_values = {'n_estimators':[*range(50, 500, 20)], 'max_depth':[*range(1,10,1)], 'max_features':[*range(1,100,1)],'min_samples_split':np.linspace(0.1, 1.0, 10, endpoint=True),'min_samples_leaf': np.linspace(0.1, 0.5, 5, endpoint=True)}\n",
    "random_classifier = RandomizedSearchCV(forest_classifier, param_distributions= grid_values , cv = stratifiedkf)"
   ]
  },
  {
   "cell_type": "code",
   "execution_count": 39,
   "metadata": {},
   "outputs": [],
   "source": [
    "boost_classfier_ = GradientBoostingClassifier()\n",
    "grid_values = {'n_estimators':[*range(50, 500, 20)], 'max_depth':[*range(1,10,1)], 'max_features':[*range(1,100,1)],'min_samples_split':np.linspace(0.1, 1.0, 10, endpoint=True),'min_samples_leaf': np.linspace(0.1, 0.5, 5, endpoint=True)}\n",
    "boost_classifier = RandomizedSearchCV(boost_classfier_, param_distributions= grid_values , cv = stratifiedkf)\n",
    "# score=cross_val_scoreida(logreg,X,Y,cv=stratifiedkf)\n",
    "# print(\"Cross Validation Scores are {}\".format(score))\n",
    "# print(\"Average Cross Valtion score :{}\".format(score.mean()))"
   ]
  },
  {
   "cell_type": "code",
   "execution_count": 40,
   "metadata": {},
   "outputs": [],
   "source": [
    "boost_classfier_ = xgb.XGBClassifier(enabale_categorical = True)\n",
    "grid_values = {'n_estimators':[*range(50, 500, 20)], 'max_depth':[*range(1,10,1)], 'max_features':[*range(1,100,1)],'min_samples_split':np.linspace(0.1, 1.0, 10, endpoint=True),'min_samples_leaf': np.linspace(0.1, 0.5, 5, endpoint=True)}\n",
    "xgboost_classifier = RandomizedSearchCV(boost_classfier_, param_distributions= grid_values , cv = stratifiedkf)\n",
    "# score=cross_val_scoreida(logreg,X,Y,cv=stratifiedkf)\n",
    "# print(\"Cross Validation Scores are {}\".format(score))\n",
    "# print(\"Average Cross Valtion score :{}\".format(score.mean()))"
   ]
  },
  {
   "cell_type": "code",
   "execution_count": 41,
   "metadata": {},
   "outputs": [],
   "source": [
    "pickle.dump(random_classifier, open('/home/pankaj_v/Documents/Data_analysis_dixit/Models/random_forest_model.pkl', 'wb'))"
   ]
  },
  {
   "cell_type": "code",
   "execution_count": 42,
   "metadata": {},
   "outputs": [
    {
     "ename": "ValueError",
     "evalue": "\nAll the 50 fits failed.\nIt is very likely that your model is misconfigured.\nYou can try to debug the error by setting error_score='raise'.\n\nBelow are more details about the failures:\n--------------------------------------------------------------------------------\n50 fits failed with the following error:\nTraceback (most recent call last):\n  File \"/home/pankaj_v/anaconda3/lib/python3.9/site-packages/sklearn/model_selection/_validation.py\", line 686, in _fit_and_score\n    estimator.fit(X_train, y_train, **fit_params)\n  File \"/home/pankaj_v/anaconda3/lib/python3.9/site-packages/xgboost/core.py\", line 532, in inner_f\n    return f(**kwargs)\n  File \"/home/pankaj_v/anaconda3/lib/python3.9/site-packages/xgboost/sklearn.py\", line 1357, in fit\n    raise ValueError(\nValueError: Invalid classes inferred from unique values of `y`.  Expected: [0 1 2 3 4 5 6 7], got ['D' 'E' 'F' 'G' 'H' 'I' 'J' 'K']\n",
     "output_type": "error",
     "traceback": [
      "\u001b[0;31m---------------------------------------------------------------------------\u001b[0m",
      "\u001b[0;31mValueError\u001b[0m                                Traceback (most recent call last)",
      "\u001b[1;32m/home/pankaj_v/Documents/Data_analysis_dixit/notebooks/Color/quality_color_norm_100_none.ipynb Cell 42'\u001b[0m in \u001b[0;36m<cell line: 1>\u001b[0;34m()\u001b[0m\n\u001b[0;32m----> <a href='vscode-notebook-cell:/home/pankaj_v/Documents/Data_analysis_dixit/notebooks/Color/quality_color_norm_100_none.ipynb#ch0000041?line=0'>1</a>\u001b[0m clf \u001b[39m=\u001b[39m xgboost_classifier\u001b[39m.\u001b[39;49mfit(X_train, Y_train)\n",
      "File \u001b[0;32m~/anaconda3/lib/python3.9/site-packages/sklearn/model_selection/_search.py:875\u001b[0m, in \u001b[0;36mBaseSearchCV.fit\u001b[0;34m(self, X, y, groups, **fit_params)\u001b[0m\n\u001b[1;32m    869\u001b[0m     results \u001b[39m=\u001b[39m \u001b[39mself\u001b[39m\u001b[39m.\u001b[39m_format_results(\n\u001b[1;32m    870\u001b[0m         all_candidate_params, n_splits, all_out, all_more_results\n\u001b[1;32m    871\u001b[0m     )\n\u001b[1;32m    873\u001b[0m     \u001b[39mreturn\u001b[39;00m results\n\u001b[0;32m--> 875\u001b[0m \u001b[39mself\u001b[39;49m\u001b[39m.\u001b[39;49m_run_search(evaluate_candidates)\n\u001b[1;32m    877\u001b[0m \u001b[39m# multimetric is determined here because in the case of a callable\u001b[39;00m\n\u001b[1;32m    878\u001b[0m \u001b[39m# self.scoring the return type is only known after calling\u001b[39;00m\n\u001b[1;32m    879\u001b[0m first_test_score \u001b[39m=\u001b[39m all_out[\u001b[39m0\u001b[39m][\u001b[39m\"\u001b[39m\u001b[39mtest_scores\u001b[39m\u001b[39m\"\u001b[39m]\n",
      "File \u001b[0;32m~/anaconda3/lib/python3.9/site-packages/sklearn/model_selection/_search.py:1749\u001b[0m, in \u001b[0;36mRandomizedSearchCV._run_search\u001b[0;34m(self, evaluate_candidates)\u001b[0m\n\u001b[1;32m   1747\u001b[0m \u001b[39mdef\u001b[39;00m \u001b[39m_run_search\u001b[39m(\u001b[39mself\u001b[39m, evaluate_candidates):\n\u001b[1;32m   1748\u001b[0m     \u001b[39m\"\"\"Search n_iter candidates from param_distributions\"\"\"\u001b[39;00m\n\u001b[0;32m-> 1749\u001b[0m     evaluate_candidates(\n\u001b[1;32m   1750\u001b[0m         ParameterSampler(\n\u001b[1;32m   1751\u001b[0m             \u001b[39mself\u001b[39;49m\u001b[39m.\u001b[39;49mparam_distributions, \u001b[39mself\u001b[39;49m\u001b[39m.\u001b[39;49mn_iter, random_state\u001b[39m=\u001b[39;49m\u001b[39mself\u001b[39;49m\u001b[39m.\u001b[39;49mrandom_state\n\u001b[1;32m   1752\u001b[0m         )\n\u001b[1;32m   1753\u001b[0m     )\n",
      "File \u001b[0;32m~/anaconda3/lib/python3.9/site-packages/sklearn/model_selection/_search.py:852\u001b[0m, in \u001b[0;36mBaseSearchCV.fit.<locals>.evaluate_candidates\u001b[0;34m(candidate_params, cv, more_results)\u001b[0m\n\u001b[1;32m    845\u001b[0m \u001b[39melif\u001b[39;00m \u001b[39mlen\u001b[39m(out) \u001b[39m!=\u001b[39m n_candidates \u001b[39m*\u001b[39m n_splits:\n\u001b[1;32m    846\u001b[0m     \u001b[39mraise\u001b[39;00m \u001b[39mValueError\u001b[39;00m(\n\u001b[1;32m    847\u001b[0m         \u001b[39m\"\u001b[39m\u001b[39mcv.split and cv.get_n_splits returned \u001b[39m\u001b[39m\"\u001b[39m\n\u001b[1;32m    848\u001b[0m         \u001b[39m\"\u001b[39m\u001b[39minconsistent results. Expected \u001b[39m\u001b[39m{}\u001b[39;00m\u001b[39m \u001b[39m\u001b[39m\"\u001b[39m\n\u001b[1;32m    849\u001b[0m         \u001b[39m\"\u001b[39m\u001b[39msplits, got \u001b[39m\u001b[39m{}\u001b[39;00m\u001b[39m\"\u001b[39m\u001b[39m.\u001b[39mformat(n_splits, \u001b[39mlen\u001b[39m(out) \u001b[39m/\u001b[39m\u001b[39m/\u001b[39m n_candidates)\n\u001b[1;32m    850\u001b[0m     )\n\u001b[0;32m--> 852\u001b[0m _warn_or_raise_about_fit_failures(out, \u001b[39mself\u001b[39;49m\u001b[39m.\u001b[39;49merror_score)\n\u001b[1;32m    854\u001b[0m \u001b[39m# For callable self.scoring, the return type is only know after\u001b[39;00m\n\u001b[1;32m    855\u001b[0m \u001b[39m# calling. If the return type is a dictionary, the error scores\u001b[39;00m\n\u001b[1;32m    856\u001b[0m \u001b[39m# can now be inserted with the correct key. The type checking\u001b[39;00m\n\u001b[1;32m    857\u001b[0m \u001b[39m# of out will be done in `_insert_error_scores`.\u001b[39;00m\n\u001b[1;32m    858\u001b[0m \u001b[39mif\u001b[39;00m callable(\u001b[39mself\u001b[39m\u001b[39m.\u001b[39mscoring):\n",
      "File \u001b[0;32m~/anaconda3/lib/python3.9/site-packages/sklearn/model_selection/_validation.py:367\u001b[0m, in \u001b[0;36m_warn_or_raise_about_fit_failures\u001b[0;34m(results, error_score)\u001b[0m\n\u001b[1;32m    360\u001b[0m \u001b[39mif\u001b[39;00m num_failed_fits \u001b[39m==\u001b[39m num_fits:\n\u001b[1;32m    361\u001b[0m     all_fits_failed_message \u001b[39m=\u001b[39m (\n\u001b[1;32m    362\u001b[0m         \u001b[39mf\u001b[39m\u001b[39m\"\u001b[39m\u001b[39m\\n\u001b[39;00m\u001b[39mAll the \u001b[39m\u001b[39m{\u001b[39;00mnum_fits\u001b[39m}\u001b[39;00m\u001b[39m fits failed.\u001b[39m\u001b[39m\\n\u001b[39;00m\u001b[39m\"\u001b[39m\n\u001b[1;32m    363\u001b[0m         \u001b[39m\"\u001b[39m\u001b[39mIt is very likely that your model is misconfigured.\u001b[39m\u001b[39m\\n\u001b[39;00m\u001b[39m\"\u001b[39m\n\u001b[1;32m    364\u001b[0m         \u001b[39m\"\u001b[39m\u001b[39mYou can try to debug the error by setting error_score=\u001b[39m\u001b[39m'\u001b[39m\u001b[39mraise\u001b[39m\u001b[39m'\u001b[39m\u001b[39m.\u001b[39m\u001b[39m\\n\u001b[39;00m\u001b[39m\\n\u001b[39;00m\u001b[39m\"\u001b[39m\n\u001b[1;32m    365\u001b[0m         \u001b[39mf\u001b[39m\u001b[39m\"\u001b[39m\u001b[39mBelow are more details about the failures:\u001b[39m\u001b[39m\\n\u001b[39;00m\u001b[39m{\u001b[39;00mfit_errors_summary\u001b[39m}\u001b[39;00m\u001b[39m\"\u001b[39m\n\u001b[1;32m    366\u001b[0m     )\n\u001b[0;32m--> 367\u001b[0m     \u001b[39mraise\u001b[39;00m \u001b[39mValueError\u001b[39;00m(all_fits_failed_message)\n\u001b[1;32m    369\u001b[0m \u001b[39melse\u001b[39;00m:\n\u001b[1;32m    370\u001b[0m     some_fits_failed_message \u001b[39m=\u001b[39m (\n\u001b[1;32m    371\u001b[0m         \u001b[39mf\u001b[39m\u001b[39m\"\u001b[39m\u001b[39m\\n\u001b[39;00m\u001b[39m{\u001b[39;00mnum_failed_fits\u001b[39m}\u001b[39;00m\u001b[39m fits failed out of a total of \u001b[39m\u001b[39m{\u001b[39;00mnum_fits\u001b[39m}\u001b[39;00m\u001b[39m.\u001b[39m\u001b[39m\\n\u001b[39;00m\u001b[39m\"\u001b[39m\n\u001b[1;32m    372\u001b[0m         \u001b[39m\"\u001b[39m\u001b[39mThe score on these train-test partitions for these parameters\u001b[39m\u001b[39m\"\u001b[39m\n\u001b[0;32m   (...)\u001b[0m\n\u001b[1;32m    376\u001b[0m         \u001b[39mf\u001b[39m\u001b[39m\"\u001b[39m\u001b[39mBelow are more details about the failures:\u001b[39m\u001b[39m\\n\u001b[39;00m\u001b[39m{\u001b[39;00mfit_errors_summary\u001b[39m}\u001b[39;00m\u001b[39m\"\u001b[39m\n\u001b[1;32m    377\u001b[0m     )\n",
      "\u001b[0;31mValueError\u001b[0m: \nAll the 50 fits failed.\nIt is very likely that your model is misconfigured.\nYou can try to debug the error by setting error_score='raise'.\n\nBelow are more details about the failures:\n--------------------------------------------------------------------------------\n50 fits failed with the following error:\nTraceback (most recent call last):\n  File \"/home/pankaj_v/anaconda3/lib/python3.9/site-packages/sklearn/model_selection/_validation.py\", line 686, in _fit_and_score\n    estimator.fit(X_train, y_train, **fit_params)\n  File \"/home/pankaj_v/anaconda3/lib/python3.9/site-packages/xgboost/core.py\", line 532, in inner_f\n    return f(**kwargs)\n  File \"/home/pankaj_v/anaconda3/lib/python3.9/site-packages/xgboost/sklearn.py\", line 1357, in fit\n    raise ValueError(\nValueError: Invalid classes inferred from unique values of `y`.  Expected: [0 1 2 3 4 5 6 7], got ['D' 'E' 'F' 'G' 'H' 'I' 'J' 'K']\n"
     ]
    }
   ],
   "source": [
    "clf = xgboost_classifier.fit(X_train, Y_train)\n"
   ]
  },
  {
   "cell_type": "code",
   "execution_count": null,
   "metadata": {},
   "outputs": [],
   "source": [
    "pickle_model = pickle.load(open('/home/pankaj_v/Documents/Data_analysis_dixit/Models/lgb_model.pkl','rb'))"
   ]
  },
  {
   "cell_type": "code",
   "execution_count": null,
   "metadata": {},
   "outputs": [
    {
     "data": {
      "text/plain": [
       "{'n_estimators': 450,\n",
       " 'min_samples_split': 0.30000000000000004,\n",
       " 'min_samples_leaf': 0.1,\n",
       " 'max_features': 69,\n",
       " 'max_depth': 7}"
      ]
     },
     "execution_count": 353,
     "metadata": {},
     "output_type": "execute_result"
    }
   ],
   "source": [
    "clf.best_params_"
   ]
  },
  {
   "cell_type": "code",
   "execution_count": null,
   "metadata": {},
   "outputs": [],
   "source": [
    "clf_new = clf.best_estimator_"
   ]
  },
  {
   "cell_type": "code",
   "execution_count": null,
   "metadata": {},
   "outputs": [
    {
     "ename": "NameError",
     "evalue": "name 'clf_new' is not defined",
     "output_type": "error",
     "traceback": [
      "\u001b[0;31m---------------------------------------------------------------------------\u001b[0m",
      "\u001b[0;31mNameError\u001b[0m                                 Traceback (most recent call last)",
      "\u001b[1;32m/home/pankaj_v/Documents/Data_analysis_dixit/notebooks/Color/quality_color_norm.ipynb Cell 44'\u001b[0m in \u001b[0;36m<cell line: 1>\u001b[0;34m()\u001b[0m\n\u001b[0;32m----> <a href='vscode-notebook-cell:/home/pankaj_v/Documents/Data_analysis_dixit/notebooks/Color/quality_color_norm.ipynb#ch0000041?line=0'>1</a>\u001b[0m clf_new\u001b[39m.\u001b[39mfeature_importances_\n",
      "\u001b[0;31mNameError\u001b[0m: name 'clf_new' is not defined"
     ]
    }
   ],
   "source": [
    "clf_new.feature_importances_"
   ]
  },
  {
   "cell_type": "code",
   "execution_count": null,
   "metadata": {},
   "outputs": [],
   "source": [
    "train_preds = clf_new.predict(X_train)\n",
    "test_preds = clf_new.predict(X_test)"
   ]
  },
  {
   "cell_type": "code",
   "execution_count": null,
   "metadata": {},
   "outputs": [
    {
     "data": {
      "text/html": [
       "<div>\n",
       "<style scoped>\n",
       "    .dataframe tbody tr th:only-of-type {\n",
       "        vertical-align: middle;\n",
       "    }\n",
       "\n",
       "    .dataframe tbody tr th {\n",
       "        vertical-align: top;\n",
       "    }\n",
       "\n",
       "    .dataframe thead th {\n",
       "        text-align: right;\n",
       "    }\n",
       "</style>\n",
       "<table border=\"1\" class=\"dataframe\">\n",
       "  <thead>\n",
       "    <tr style=\"text-align: right;\">\n",
       "      <th></th>\n",
       "      <th>split0_test_score</th>\n",
       "      <th>split1_test_score</th>\n",
       "      <th>split2_test_score</th>\n",
       "      <th>split3_test_score</th>\n",
       "      <th>split4_test_score</th>\n",
       "      <th>mean_test_score</th>\n",
       "      <th>std_test_score</th>\n",
       "      <th>rank_test_score</th>\n",
       "    </tr>\n",
       "  </thead>\n",
       "  <tbody>\n",
       "    <tr>\n",
       "      <th>0</th>\n",
       "      <td>0.324074</td>\n",
       "      <td>0.314815</td>\n",
       "      <td>0.314815</td>\n",
       "      <td>0.351852</td>\n",
       "      <td>0.324074</td>\n",
       "      <td>0.325926</td>\n",
       "      <td>0.013608</td>\n",
       "      <td>6</td>\n",
       "    </tr>\n",
       "    <tr>\n",
       "      <th>1</th>\n",
       "      <td>0.361111</td>\n",
       "      <td>0.407407</td>\n",
       "      <td>0.425926</td>\n",
       "      <td>0.407407</td>\n",
       "      <td>0.370370</td>\n",
       "      <td>0.394444</td>\n",
       "      <td>0.024568</td>\n",
       "      <td>2</td>\n",
       "    </tr>\n",
       "    <tr>\n",
       "      <th>2</th>\n",
       "      <td>0.435185</td>\n",
       "      <td>0.425926</td>\n",
       "      <td>0.388889</td>\n",
       "      <td>0.527778</td>\n",
       "      <td>0.398148</td>\n",
       "      <td>0.435185</td>\n",
       "      <td>0.049344</td>\n",
       "      <td>1</td>\n",
       "    </tr>\n",
       "    <tr>\n",
       "      <th>3</th>\n",
       "      <td>0.324074</td>\n",
       "      <td>0.324074</td>\n",
       "      <td>0.314815</td>\n",
       "      <td>0.324074</td>\n",
       "      <td>0.324074</td>\n",
       "      <td>0.322222</td>\n",
       "      <td>0.003704</td>\n",
       "      <td>7</td>\n",
       "    </tr>\n",
       "    <tr>\n",
       "      <th>4</th>\n",
       "      <td>0.324074</td>\n",
       "      <td>0.342593</td>\n",
       "      <td>0.333333</td>\n",
       "      <td>0.342593</td>\n",
       "      <td>0.305556</td>\n",
       "      <td>0.329630</td>\n",
       "      <td>0.013858</td>\n",
       "      <td>5</td>\n",
       "    </tr>\n",
       "    <tr>\n",
       "      <th>5</th>\n",
       "      <td>0.305556</td>\n",
       "      <td>0.296296</td>\n",
       "      <td>0.277778</td>\n",
       "      <td>0.324074</td>\n",
       "      <td>0.305556</td>\n",
       "      <td>0.301852</td>\n",
       "      <td>0.015045</td>\n",
       "      <td>9</td>\n",
       "    </tr>\n",
       "    <tr>\n",
       "      <th>6</th>\n",
       "      <td>0.361111</td>\n",
       "      <td>0.333333</td>\n",
       "      <td>0.324074</td>\n",
       "      <td>0.379630</td>\n",
       "      <td>0.351852</td>\n",
       "      <td>0.350000</td>\n",
       "      <td>0.019772</td>\n",
       "      <td>3</td>\n",
       "    </tr>\n",
       "    <tr>\n",
       "      <th>7</th>\n",
       "      <td>0.324074</td>\n",
       "      <td>0.342593</td>\n",
       "      <td>0.333333</td>\n",
       "      <td>0.342593</td>\n",
       "      <td>0.324074</td>\n",
       "      <td>0.333333</td>\n",
       "      <td>0.008282</td>\n",
       "      <td>4</td>\n",
       "    </tr>\n",
       "    <tr>\n",
       "      <th>8</th>\n",
       "      <td>0.305556</td>\n",
       "      <td>0.296296</td>\n",
       "      <td>0.277778</td>\n",
       "      <td>0.324074</td>\n",
       "      <td>0.305556</td>\n",
       "      <td>0.301852</td>\n",
       "      <td>0.015045</td>\n",
       "      <td>9</td>\n",
       "    </tr>\n",
       "    <tr>\n",
       "      <th>9</th>\n",
       "      <td>0.342593</td>\n",
       "      <td>0.287037</td>\n",
       "      <td>0.268519</td>\n",
       "      <td>0.361111</td>\n",
       "      <td>0.342593</td>\n",
       "      <td>0.320370</td>\n",
       "      <td>0.035909</td>\n",
       "      <td>8</td>\n",
       "    </tr>\n",
       "  </tbody>\n",
       "</table>\n",
       "</div>"
      ],
      "text/plain": [
       "   split0_test_score  split1_test_score  split2_test_score  split3_test_score  \\\n",
       "0           0.324074           0.314815           0.314815           0.351852   \n",
       "1           0.361111           0.407407           0.425926           0.407407   \n",
       "2           0.435185           0.425926           0.388889           0.527778   \n",
       "3           0.324074           0.324074           0.314815           0.324074   \n",
       "4           0.324074           0.342593           0.333333           0.342593   \n",
       "5           0.305556           0.296296           0.277778           0.324074   \n",
       "6           0.361111           0.333333           0.324074           0.379630   \n",
       "7           0.324074           0.342593           0.333333           0.342593   \n",
       "8           0.305556           0.296296           0.277778           0.324074   \n",
       "9           0.342593           0.287037           0.268519           0.361111   \n",
       "\n",
       "   split4_test_score  mean_test_score  std_test_score  rank_test_score  \n",
       "0           0.324074         0.325926        0.013608                6  \n",
       "1           0.370370         0.394444        0.024568                2  \n",
       "2           0.398148         0.435185        0.049344                1  \n",
       "3           0.324074         0.322222        0.003704                7  \n",
       "4           0.305556         0.329630        0.013858                5  \n",
       "5           0.305556         0.301852        0.015045                9  \n",
       "6           0.351852         0.350000        0.019772                3  \n",
       "7           0.324074         0.333333        0.008282                4  \n",
       "8           0.305556         0.301852        0.015045                9  \n",
       "9           0.342593         0.320370        0.035909                8  "
      ]
     },
     "execution_count": 333,
     "metadata": {},
     "output_type": "execute_result"
    }
   ],
   "source": [
    "pd.DataFrame(clf.cv_results_).iloc[:,9:]"
   ]
  },
  {
   "cell_type": "code",
   "execution_count": null,
   "metadata": {},
   "outputs": [
    {
     "name": "stdout",
     "output_type": "stream",
     "text": [
      "              precision    recall  f1-score   support\n",
      "\n",
      "           D       0.67      0.90      0.77        93\n",
      "           E       0.49      0.39      0.43        70\n",
      "           F       0.55      0.59      0.57        87\n",
      "           G       0.64      0.43      0.51       102\n",
      "           H       0.38      0.53      0.44        62\n",
      "           I       0.55      0.09      0.16        66\n",
      "           J       0.27      0.12      0.17        33\n",
      "           K       0.31      0.96      0.47        27\n",
      "\n",
      "    accuracy                           0.51       540\n",
      "   macro avg       0.48      0.50      0.44       540\n",
      "weighted avg       0.53      0.51      0.48       540\n",
      "\n"
     ]
    }
   ],
   "source": [
    "print(classification_report(Y_train, train_preds))"
   ]
  },
  {
   "cell_type": "code",
   "execution_count": null,
   "metadata": {},
   "outputs": [
    {
     "name": "stdout",
     "output_type": "stream",
     "text": [
      "              precision    recall  f1-score   support\n",
      "\n",
      "           D       0.64      0.91      0.75        23\n",
      "           E       0.38      0.29      0.33        17\n",
      "           F       0.52      0.50      0.51        22\n",
      "           G       0.44      0.28      0.34        25\n",
      "           H       0.29      0.44      0.35        16\n",
      "           I       0.50      0.06      0.11        17\n",
      "           J       0.33      0.12      0.18         8\n",
      "           K       0.26      0.86      0.40         7\n",
      "\n",
      "    accuracy                           0.44       135\n",
      "   macro avg       0.42      0.43      0.37       135\n",
      "weighted avg       0.45      0.44      0.40       135\n",
      "\n"
     ]
    }
   ],
   "source": [
    "print(classification_report(Y_test, test_preds))\n"
   ]
  },
  {
   "cell_type": "code",
   "execution_count": null,
   "metadata": {},
   "outputs": [
    {
     "name": "stdout",
     "output_type": "stream",
     "text": [
      "86.76\n"
     ]
    }
   ],
   "source": [
    "print(round(accuracy_score(Y_test, test_preds)*100,2))"
   ]
  },
  {
   "cell_type": "code",
   "execution_count": null,
   "metadata": {},
   "outputs": [
    {
     "data": {
      "text/plain": [
       "array([[21,  1,  1,  0,  0,  0,  0,  0],\n",
       "       [ 6,  7,  3,  1,  0,  0,  0,  0],\n",
       "       [ 2,  4, 13,  2,  0,  1,  0,  0],\n",
       "       [ 3,  1,  2, 11,  3,  4,  1,  0],\n",
       "       [ 0,  0,  0,  8,  6,  2,  0,  0],\n",
       "       [ 0,  0,  1,  1,  4,  9,  2,  0],\n",
       "       [ 0,  0,  0,  0,  1,  0,  3,  4],\n",
       "       [ 0,  0,  0,  0,  0,  1,  1,  5]])"
      ]
     },
     "execution_count": 271,
     "metadata": {},
     "output_type": "execute_result"
    }
   ],
   "source": [
    "confusion_matrix(Y_test, test_preds)\n"
   ]
  },
  {
   "cell_type": "code",
   "execution_count": null,
   "metadata": {},
   "outputs": [],
   "source": []
  }
 ],
 "metadata": {
  "kernelspec": {
   "display_name": "Python 3.9.12 ('base')",
   "language": "python",
   "name": "python3"
  },
  "language_info": {
   "codemirror_mode": {
    "name": "ipython",
    "version": 3
   },
   "file_extension": ".py",
   "mimetype": "text/x-python",
   "name": "python",
   "nbconvert_exporter": "python",
   "pygments_lexer": "ipython3",
   "version": "3.9.12"
  },
  "orig_nbformat": 4,
  "vscode": {
   "interpreter": {
    "hash": "e49e7825c259a46fc518f8c8fed6b9fa090bf4f6d9fac061305ec26587cc5d03"
   }
  }
 },
 "nbformat": 4,
 "nbformat_minor": 2
}
